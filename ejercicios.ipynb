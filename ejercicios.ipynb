{
 "cells": [
  {
   "cell_type": "markdown",
   "metadata": {},
   "source": [
    "# Agregar personajes a una lista"
   ]
  },
  {
   "cell_type": "code",
   "execution_count": 2,
   "metadata": {},
   "outputs": [
    {
     "data": {
      "text/plain": [
       "[{'nombre': 'Aragorg', 'clase': 'Guerrero', 'raza': 'Dunaban del norte'},\n",
       " {'nombre': 'Gandal', 'clase': 'Mago', 'raza': 'Istar'},\n",
       " {'nombre': 'Legolas', 'clase': 'Arquero', 'raza': 'Elfo Sindar'}]"
      ]
     },
     "execution_count": 2,
     "metadata": {},
     "output_type": "execute_result"
    }
   ],
   "source": [
    "personajes = []\n",
    "p = {'nombre':'Aragorg', 'clase':'Guerrero', 'raza':'Dunaban del norte'}\n",
    "personajes.append(p)\n",
    "p = {'nombre':'Gandal', 'clase':'Mago', 'raza':'Istar'}\n",
    "personajes.append(p)\n",
    "p = {'nombre':'Legolas', 'clase':'Arquero', 'raza':'Elfo Sindar'}\n",
    "personajes.append(p)\n",
    "personajes"
   ]
  },
  {
   "cell_type": "markdown",
   "metadata": {},
   "source": [
    "# Creación de agenda con diccionario"
   ]
  },
  {
   "cell_type": "code",
   "execution_count": 4,
   "metadata": {},
   "outputs": [
    {
     "name": "stdout",
     "output_type": "stream",
     "text": [
      "---- AGENDA ----\n",
      "\n",
      "Listado de Contactos\n",
      "Neidy ---> 12345\n",
      "Salem ---> 6666\n",
      "Donald  ---> 987654\n"
     ]
    }
   ],
   "source": [
    "agenda = {}\n",
    "\n",
    "cantidad = int(input(\"cantidad de contactos a agendar: \"))\n",
    "if cantidad > 0:\n",
    "    print('---- AGENDA ----')\n",
    "    for c in range(0,cantidad):\n",
    "        nombre = str(input(\"Ingrese un nombre\"))\n",
    "        if nombre in agenda:\n",
    "            print(f'{nombre} ya esta registrado, su numero es {agenda[nombre]}')\n",
    "        else:\n",
    "            agenda[nombre]=input('Ingrese número telefóno')\n",
    "    print('\\nListado de Contactos')\n",
    "    for nombre, numero in agenda.items():\n",
    "        print(f'{nombre} ---> {numero}')\n",
    "else:\n",
    "    print('La cantidad de contactos debe ser positiva')"
   ]
  },
  {
   "cell_type": "markdown",
   "metadata": {},
   "source": [
    "# Tabla de multiplicar"
   ]
  },
  {
   "cell_type": "code",
   "execution_count": 1,
   "metadata": {},
   "outputs": [
    {
     "name": "stdout",
     "output_type": "stream",
     "text": [
      "----- Tabla de Multiplicar ----- \n",
      "Tabla del 1\n",
      "1 * 1 = 1\n",
      "1 * 2 = 2\n",
      "1 * 3 = 3\n",
      "1 * 4 = 4\n",
      "1 * 5 = 5\n",
      "1 * 6 = 6\n",
      "1 * 7 = 7\n",
      "1 * 8 = 8\n",
      "1 * 9 = 9\n",
      "1 * 10 = 10\n",
      "Tabla del 2\n",
      "2 * 1 = 2\n",
      "2 * 2 = 4\n",
      "2 * 3 = 6\n",
      "2 * 4 = 8\n",
      "2 * 5 = 10\n",
      "2 * 6 = 12\n",
      "2 * 7 = 14\n",
      "2 * 8 = 16\n",
      "2 * 9 = 18\n",
      "2 * 10 = 20\n",
      "Tabla del 3\n",
      "3 * 1 = 3\n",
      "3 * 2 = 6\n",
      "3 * 3 = 9\n",
      "3 * 4 = 12\n",
      "3 * 5 = 15\n",
      "3 * 6 = 18\n",
      "3 * 7 = 21\n",
      "3 * 8 = 24\n",
      "3 * 9 = 27\n",
      "3 * 10 = 30\n",
      "Tabla del 4\n",
      "4 * 1 = 4\n",
      "4 * 2 = 8\n",
      "4 * 3 = 12\n",
      "4 * 4 = 16\n",
      "4 * 5 = 20\n",
      "4 * 6 = 24\n",
      "4 * 7 = 28\n",
      "4 * 8 = 32\n",
      "4 * 9 = 36\n",
      "4 * 10 = 40\n",
      "Tabla del 5\n",
      "5 * 1 = 5\n",
      "5 * 2 = 10\n",
      "5 * 3 = 15\n",
      "5 * 4 = 20\n",
      "5 * 5 = 25\n",
      "5 * 6 = 30\n",
      "5 * 7 = 35\n",
      "5 * 8 = 40\n",
      "5 * 9 = 45\n",
      "5 * 10 = 50\n",
      "Tabla del 6\n",
      "6 * 1 = 6\n",
      "6 * 2 = 12\n",
      "6 * 3 = 18\n",
      "6 * 4 = 24\n",
      "6 * 5 = 30\n",
      "6 * 6 = 36\n",
      "6 * 7 = 42\n",
      "6 * 8 = 48\n",
      "6 * 9 = 54\n",
      "6 * 10 = 60\n",
      "Tabla del 7\n",
      "7 * 1 = 7\n",
      "7 * 2 = 14\n",
      "7 * 3 = 21\n",
      "7 * 4 = 28\n",
      "7 * 5 = 35\n",
      "7 * 6 = 42\n",
      "7 * 7 = 49\n",
      "7 * 8 = 56\n",
      "7 * 9 = 63\n",
      "7 * 10 = 70\n",
      "Tabla del 8\n",
      "8 * 1 = 8\n",
      "8 * 2 = 16\n",
      "8 * 3 = 24\n",
      "8 * 4 = 32\n",
      "8 * 5 = 40\n",
      "8 * 6 = 48\n",
      "8 * 7 = 56\n",
      "8 * 8 = 64\n",
      "8 * 9 = 72\n",
      "8 * 10 = 80\n",
      "Tabla del 9\n",
      "9 * 1 = 9\n",
      "9 * 2 = 18\n",
      "9 * 3 = 27\n",
      "9 * 4 = 36\n",
      "9 * 5 = 45\n",
      "9 * 6 = 54\n",
      "9 * 7 = 63\n",
      "9 * 8 = 72\n",
      "9 * 9 = 81\n",
      "9 * 10 = 90\n",
      "Tabla del 10\n",
      "10 * 1 = 10\n",
      "10 * 2 = 20\n",
      "10 * 3 = 30\n",
      "10 * 4 = 40\n",
      "10 * 5 = 50\n",
      "10 * 6 = 60\n",
      "10 * 7 = 70\n",
      "10 * 8 = 80\n",
      "10 * 9 = 90\n",
      "10 * 10 = 100\n"
     ]
    }
   ],
   "source": [
    "print(\"----- Tabla de Multiplicar ----- \")\n",
    "for x in range(1,11):\n",
    "    print(f\"Tabla del {x}\")\n",
    "    for y in range(1,11):\n",
    "        print(f'{x} * {y} = {x*y}')"
   ]
  },
  {
   "cell_type": "markdown",
   "metadata": {},
   "source": [
    "# Adivina el numero"
   ]
  },
  {
   "cell_type": "code",
   "execution_count": 6,
   "metadata": {},
   "outputs": [
    {
     "name": "stdout",
     "output_type": "stream",
     "text": [
      "Tu numero esta por encima\n",
      "Felicidades, Acertaste\n",
      "El numero era [7], lo lograste en 2 intentos\n"
     ]
    }
   ],
   "source": [
    "import numpy as np\n",
    "x = np.random.randint(1,25,1)\n",
    "intentos = 0\n",
    "while intentos < 6:\n",
    "    num = int(input(\"Elige un numero entre 1 y 25: \"))\n",
    "    intentos +=1\n",
    "    if num > 0:\n",
    "        if num > x:\n",
    "            print(\"Tu numero esta por encima\")\n",
    "        elif num < x:\n",
    "            print(\"Tu numero esta por debajo\")\n",
    "        else:\n",
    "            break\n",
    "    else:\n",
    "        print(\"Debe se un numero entre 1 y 25\")\n",
    "if num == x:\n",
    "    print(\"Felicidades, Acertaste\")\n",
    "    print(f\"El numero era {x}, lo lograste en {intentos} intentos\")\n",
    "else:\n",
    "    print(\"Mucha Salchica\")\n",
    "\n"
   ]
  },
  {
   "cell_type": "markdown",
   "metadata": {},
   "source": [
    "# Menu interactivo -Cajero Automatico"
   ]
  },
  {
   "cell_type": "code",
   "execution_count": 17,
   "metadata": {},
   "outputs": [
    {
     "name": "stdout",
     "output_type": "stream",
     "text": [
      "----- Bienvenido al Cajero Automatico -----\n",
      "\n",
      " Menu\n",
      "1- Consultar Saldo\n",
      "2- Retiro\n",
      "3- Deposito\n",
      "0- Salir\n",
      "La opción es invalida\n",
      "\n",
      " Menu\n",
      "1- Consultar Saldo\n",
      "2- Retiro\n",
      "3- Deposito\n",
      "0- Salir\n",
      "Hasta Luego!!!\n"
     ]
    }
   ],
   "source": [
    "import numpy as np\n",
    "from random import randrange\n",
    "saldo = np.random.randint(0,5000000,1)\n",
    "#saldo = randrange(0,5000000)\n",
    "print(\"----- Bienvenido al Cajero Automatico -----\")\n",
    "while True:\n",
    "    print(\"\\n Menu\\n1- Consultar Saldo\\n2- Retiro\\n3- Deposito\\n0- Salir\")\n",
    "\n",
    "    opcion = int(input(\"Eliga una opcion entre 1 y 3.\\n 0 para salir\"))\n",
    "    if opcion in range(4):\n",
    "        if opcion == 1:\n",
    "            print(f\"Su saldo es {int(saldo)}\")\n",
    "        elif opcion == 2:\n",
    "            monto = int(input(\"Indique monto a retirar\"))\n",
    "            if monto > saldo:\n",
    "                print(\"Operación invalida, saldo no disponible\")\n",
    "            else:\n",
    "                saldo = saldo - monto\n",
    "                print(\"Operación Exitosa!!!\")\n",
    "                print(f\"Su saldo actual es {int(saldo)}\")\n",
    "        elif opcion == 3:\n",
    "            monto = int(input('Ingrese valor a depositar'))\n",
    "            saldo = saldo + monto\n",
    "            print(\"Transacción exitosa\")\n",
    "            print(f\"Saldo actual {int(saldo)}\")\n",
    "        else:\n",
    "            print('Hasta Luego!!!')\n",
    "            break\n",
    "    else:\n",
    "        print('La opción es invalida')"
   ]
  },
  {
   "cell_type": "markdown",
   "metadata": {},
   "source": [
    "# Contar cada una de las vocales en una oración o frase"
   ]
  },
  {
   "cell_type": "code",
   "execution_count": 10,
   "metadata": {},
   "outputs": [
    {
     "name": "stdout",
     "output_type": "stream",
     "text": [
      "\n",
      "La cantidad de vocales que tiene HOLA MUNDO son:\n"
     ]
    }
   ],
   "source": [
    "# petición de horación frase o texto\n",
    "cadena = str(input(\"Ingrese una oración o frase: \"))\n",
    "# declaración de lista de vocales\n",
    "lista_vocales = list('aeiou')\n",
    "print(f'\\nLa cantidad de vocales que tiene {cadena.upper()} son:')"
   ]
  },
  {
   "cell_type": "code",
   "execution_count": 11,
   "metadata": {},
   "outputs": [
    {
     "name": "stdout",
     "output_type": "stream",
     "text": [
      "\t a ---> 1\n",
      "\t e ---> 0\n",
      "\t i ---> 0\n",
      "\t o ---> 2\n",
      "\t u ---> 1\n"
     ]
    }
   ],
   "source": [
    "for i in range(len(lista_vocales)):\n",
    "    print(f\"\\t {lista_vocales[i]} ---> {cadena.count(lista_vocales[i])}\")"
   ]
  },
  {
   "cell_type": "code",
   "execution_count": null,
   "metadata": {},
   "outputs": [],
   "source": []
  },
  {
   "cell_type": "markdown",
   "metadata": {},
   "source": [
    "# Funciones"
   ]
  },
  {
   "cell_type": "markdown",
   "metadata": {},
   "source": []
  }
 ],
 "metadata": {
  "interpreter": {
   "hash": "916dbcbb3f70747c44a77c7bcd40155683ae19c65e1c03b4aa3499c5328201f1"
  },
  "kernelspec": {
   "display_name": "Python 3.7.3 64-bit",
   "language": "python",
   "name": "python3"
  },
  "language_info": {
   "codemirror_mode": {
    "name": "ipython",
    "version": 3
   },
   "file_extension": ".py",
   "mimetype": "text/x-python",
   "name": "python",
   "nbconvert_exporter": "python",
   "pygments_lexer": "ipython3",
   "version": "3.7.3"
  },
  "orig_nbformat": 4
 },
 "nbformat": 4,
 "nbformat_minor": 2
}
