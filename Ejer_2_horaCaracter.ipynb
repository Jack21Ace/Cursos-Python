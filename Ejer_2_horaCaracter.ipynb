{
 "cells": [
  {
   "cell_type": "code",
   "execution_count": 26,
   "metadata": {},
   "outputs": [],
   "source": [
    "# 2. Dado una hora en números, debemos convertirla en palabras de la forma:\n",
    "#   6:00 → seis en punto\n",
    "#   6:02 → seis y dos minutos\n",
    "#   6:10 → seis y diez minutos\n",
    "#   6:30 → seis y media\n",
    "#   6:45 → seis y cuarenta y cinco minutos\n",
    "#   6:55 → seis y cincuenta y cinco minutos"
   ]
  },
  {
   "cell_type": "code",
   "execution_count": 36,
   "metadata": {},
   "outputs": [
    {
     "name": "stdout",
     "output_type": "stream",
     "text": [
      "El digito ingresado es invalido.\n",
      "El digito ingresado es invalido.\n",
      "El digito ingresado es invalido.\n"
     ]
    }
   ],
   "source": [
    "# 1- mediante una función condiciono que el dato de entrada sea un numero\n",
    "# entero tanto para lka hora como el minuto\n",
    "\n",
    "def esEntero():\n",
    "    while True:\n",
    "        # h = input('Ingrese un numero entero para la Hora')\n",
    "        # m = input('Ingrese un numero entero para los minutos')\n",
    "        try:\n",
    "            h = int(input('Ingrese un numero entero para la Hora'))\n",
    "            m = int(input('Ingrese un numero entero para los minutos'))\n",
    "            dato = [h, m]\n",
    "            return dato\n",
    "        except ValueError:\n",
    "            print(\"El digito ingresado es invalido.\")\n",
    "date = esEntero()"
   ]
  },
  {
   "cell_type": "code",
   "execution_count": 37,
   "metadata": {},
   "outputs": [
    {
     "data": {
      "text/plain": [
       "'Son las Tres y Un minutos'"
      ]
     },
     "execution_count": 37,
     "metadata": {},
     "output_type": "execute_result"
    }
   ],
   "source": [
    "def formatoDicc(time):\n",
    "        h = time[0]\n",
    "        m = time[1]\n",
    "        diccH = {1:\"Una\", 2:\"Dos\", 3 :\"Tres\", 4:\"Cuatro\", 5:\"Cinco\", 6:\"Seis\", 7:\"Siete\", 8:\"Ocho\", 9:\"Nueve\", 10:\"Diez\", 11:\"Once\", 12:\"Doce\"} #00:\"Doble Cero\", 13:\"Trece\", 14:\"Catorce\", 15:\"Quince\", 16:\"Dieciseis\", 17:\"Diecisiete\", 18:\"Dieciocho\", 19:\"Diecinueve\", 20:\"Veinte\", 21:\"Ventiun\", 22:\"Veintidós\", 23:\"Veintitrés\"\n",
    "        diccM = {00:\"Doble Cero\", 1:\"Un\", 2:\"Dos\", 3 :\"Tres\", 4:\"Cuatro\", 5:\"Cinco\", 6:\"Seis\", 7:\"Siete\", 8:\"Ocho\", 9:\"Nueve\",\n",
    "                10:\"Diez\", 11:\"Once\", 12:\"Doce\", 13:\"Trece\", 14:\"Catorce\", 15:\"Quince\", 16:\"Dieciseis\", 17:\"Diecisiete\", 18:\"Dieciocho\", 19:\"Diecinueve\",\n",
    "                20:\"Veinte\", 21:\"Ventiun\", 22:\"Veintidós\", 23:\"Veintitrés\", 24:\"Veinticuatro\", 25:\"Veinticinco\", 26:\"Veintiseis\", 27:\"Veintisiete\", 28:\"Veintiocho\", 29:\"Veintinueve\",\n",
    "                30:\"Treinta\", 31:\"Treinta y un\", 32:\"Treinta y dos\", 33:\"Treinta y tres\", 34:\"Treinta y cuatro\", 35:\"Treinta y cinco\", 36:\"Treinta y seis\", 37:\"Treinta y siete\", 38:\"Treinta y ocho\", 39:\"Treinta y nueve\",\n",
    "                40:\"Cuarenta\", 41:\"Cuarenta y un\", 42:\"Cuarenta y dos\", 43:\"Cuarenta y tres\", 44:\"Cuarenta y cuatro\", 45:\"Cuarenta y cinco\", 46:\"Cuarenta y seis\", 47:\"Cuarenta y siete\", 48:\"Cuarenta y ocho\", 49:\"Cuarenta y nueve\",\n",
    "                50:\"Cincuenta\", 51:\"Cincuenta y un\", 52:\"Cincuenta y dos\", 53:\"Cincuenta y tres\", 54:\"Cincuenta y cuatro\", 55:\"Cincuenta y cinco\", 56:\"Cincuenta y seis\", 57:\"Cincuenta y siete\", 58:\"Cincuenta y ocho\", 59:\"Cincuenta y nueve\"}\n",
    "        hora = f\"Son las {diccH[h]} y {diccM[m]} minutos\"\n",
    "        return hora\n",
    "\n",
    "formatoDicc(date)"
   ]
  },
  {
   "cell_type": "code",
   "execution_count": null,
   "metadata": {},
   "outputs": [],
   "source": []
  }
 ],
 "metadata": {
  "interpreter": {
   "hash": "916dbcbb3f70747c44a77c7bcd40155683ae19c65e1c03b4aa3499c5328201f1"
  },
  "kernelspec": {
   "display_name": "Python 3.7.3 64-bit",
   "language": "python",
   "name": "python3"
  },
  "language_info": {
   "codemirror_mode": {
    "name": "ipython",
    "version": 3
   },
   "file_extension": ".py",
   "mimetype": "text/x-python",
   "name": "python",
   "nbconvert_exporter": "python",
   "pygments_lexer": "ipython3",
   "version": "3.7.3"
  },
  "orig_nbformat": 4
 },
 "nbformat": 4,
 "nbformat_minor": 2
}
