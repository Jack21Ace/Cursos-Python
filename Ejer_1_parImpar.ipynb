{
 "cells": [
  {
   "cell_type": "code",
   "execution_count": 1,
   "metadata": {},
   "outputs": [],
   "source": [
    "# 1. Dado un número entero, lleve a cabo las siguientes condiciones:\n",
    "#    ● Si es impar, imprimir “Quipux”\n",
    "#    ● Si es par y está en el rango inclusivo de 2 y 5, imprima “No Quipux”\n",
    "#    ● Si es par y está en el rango inclusivo de 6 y 20, imprima “Quipux”\n",
    "#    ● Si es par y es mayor que 20, imprima “No Quipux”"
   ]
  },
  {
   "cell_type": "code",
   "execution_count": 56,
   "metadata": {},
   "outputs": [],
   "source": [
    "def esEntero():\n",
    "    while True:\n",
    "        n = input('Ingrese un numero entero para validar si es par o impar\\nIngrese 0 para salir\\n')\n",
    "        try:\n",
    "            n = int(n)\n",
    "            return n\n",
    "        except ValueError:\n",
    "            print(\"El digito ingresado es invalido.\")\n",
    "num = esEntero()"
   ]
  },
  {
   "cell_type": "code",
   "execution_count": 57,
   "metadata": {},
   "outputs": [
    {
     "name": "stdout",
     "output_type": "stream",
     "text": [
      "No quipux: 22, es par y es mayor que 20\n"
     ]
    }
   ],
   "source": [
    "def esPar(n):\n",
    "    if n >= 1 and n <= 100:\n",
    "        if n %2 == 0 and n >= 2 and n < 6:\n",
    "            print(f\"No quipux: {n}, es par y esta en el rango de 2 y 5\")\n",
    "        elif n %2 == 0 and n > 5 and n < 20:\n",
    "            print(f\"Quipux: {n}, es par y esta en el rango de 6 y 20\")\n",
    "        elif n %2 == 0 and n > 20:\n",
    "            print(f\"No quipux: {n}, es par y es mayor que 20\")\n",
    "        else:\n",
    "            print(f\"Quipux: {n} es impar\")\n",
    "    elif n == 0:\n",
    "        print(\"Adios\")\n",
    "    else:\n",
    "        print(\"El numero debe ser mayor a 0  y menos a 100 en este caso.\")\n",
    "        return esPar(esEntero())\n",
    "esPar(num)"
   ]
  }
 ],
 "metadata": {
  "interpreter": {
   "hash": "916dbcbb3f70747c44a77c7bcd40155683ae19c65e1c03b4aa3499c5328201f1"
  },
  "kernelspec": {
   "display_name": "Python 3.7.3 64-bit",
   "language": "python",
   "name": "python3"
  },
  "language_info": {
   "codemirror_mode": {
    "name": "ipython",
    "version": 3
   },
   "file_extension": ".py",
   "mimetype": "text/x-python",
   "name": "python",
   "nbconvert_exporter": "python",
   "pygments_lexer": "ipython3",
   "version": "3.7.3"
  },
  "orig_nbformat": 4
 },
 "nbformat": 4,
 "nbformat_minor": 2
}
