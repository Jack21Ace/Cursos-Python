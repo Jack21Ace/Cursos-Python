{
 "cells": [
  {
   "cell_type": "markdown",
   "metadata": {},
   "source": [
    "# Pilas"
   ]
  },
  {
   "cell_type": "code",
   "execution_count": 1,
   "metadata": {},
   "outputs": [],
   "source": [
    "from collections import deque\n",
    "\n",
    "# Declaración de pila\n",
    "Pila = deque()"
   ]
  },
  {
   "cell_type": "code",
   "execution_count": null,
   "metadata": {},
   "outputs": [],
   "source": [
    "#Apilación de elementos\n",
    "i=0\n",
    "while True:\n",
    "    i+=1\n",
    "    # Apilar elemntos\n",
    "    Pila.append(f'elemento {i}')\n",
    "    print(\"\\nSe agregó un elemento a la pila \")\n",
    "    # Mostrar Pila\n",
    "    print('\\n',Pila)\n",
    "    if input(\"desea apilar otro elemnto [s/n]; \") == 'n':\n",
    "        break\n",
    "# mostrar Pila\n",
    "print(f\"{Pila}\")"
   ]
  },
  {
   "cell_type": "code",
   "execution_count": null,
   "metadata": {},
   "outputs": [],
   "source": [
    "# Desapilar\n",
    "while len(Pila) > 0:\n",
    "    # desapilar elemntos\n",
    "    elemnto = Pila.pop()\n",
    "    print(f'\\nElemento desapilado : {elemnto}')\n",
    "\n",
    "# mostrar la Pila\n",
    "print(Pila)"
   ]
  },
  {
   "cell_type": "markdown",
   "metadata": {},
   "source": [
    "# Colas"
   ]
  },
  {
   "cell_type": "code",
   "execution_count": 5,
   "metadata": {},
   "outputs": [],
   "source": [
    "# import de elementos necesarios\n",
    "from collections import  deque\n",
    "# declaración de cola\n",
    "Cola = deque()"
   ]
  },
  {
   "cell_type": "code",
   "execution_count": 7,
   "metadata": {},
   "outputs": [
    {
     "name": "stdout",
     "output_type": "stream",
     "text": [
      "\n",
      "Se agrego un elemnto a la cola\n",
      "deque(['elemnto 1', 'elemnto 2', 'elemnto 3', 'elemnto 4', 'elemnto 1'])\n",
      "\n",
      "Se agrego un elemnto a la cola\n",
      "deque(['elemnto 1', 'elemnto 2', 'elemnto 3', 'elemnto 4', 'elemnto 1', 'elemnto 2'])\n",
      "\n",
      "Se agrego un elemnto a la cola\n",
      "deque(['elemnto 1', 'elemnto 2', 'elemnto 3', 'elemnto 4', 'elemnto 1', 'elemnto 2', 'elemnto 3'])\n",
      "\n",
      "Se agrego un elemnto a la cola\n",
      "deque(['elemnto 1', 'elemnto 2', 'elemnto 3', 'elemnto 4', 'elemnto 1', 'elemnto 2', 'elemnto 3', 'elemnto 4'])\n",
      "******* Cola *******\n",
      "deque(['elemnto 1', 'elemnto 2', 'elemnto 3', 'elemnto 4', 'elemnto 1', 'elemnto 2', 'elemnto 3', 'elemnto 4'])\n"
     ]
    }
   ],
   "source": [
    "i = 0\n",
    "while True:\n",
    "    i+=1\n",
    "    # encolar elementos\n",
    "    Cola.append(f'elemnto {i}')\n",
    "    print(f'\\nSe agrego un elemnto a la cola')\n",
    "    print(Cola)\n",
    "    if input('Desea agregar otro elemento a la cola [s/n]') == 'n':\n",
    "        break\n",
    "\n",
    "print('******* Cola *******')\n",
    "print(Cola)"
   ]
  },
  {
   "cell_type": "code",
   "execution_count": 8,
   "metadata": {},
   "outputs": [
    {
     "name": "stdout",
     "output_type": "stream",
     "text": [
      "elemento desencolado elemnto 1\n",
      "elemento desencolado elemnto 2\n",
      "elemento desencolado elemnto 3\n",
      "elemento desencolado elemnto 4\n",
      "elemento desencolado elemnto 1\n",
      "elemento desencolado elemnto 2\n",
      "elemento desencolado elemnto 3\n",
      "elemento desencolado elemnto 4\n",
      "deque([])\n"
     ]
    }
   ],
   "source": [
    "# desencolar elementos\n",
    "while len(Cola) > 0:\n",
    "    # desencolar elementos\n",
    "    elemnto = Cola.popleft()\n",
    "    print(f'elemento desencolado {elemnto}')\n",
    "\n",
    "# mostrar Cola\n",
    "print(Cola)"
   ]
  },
  {
   "cell_type": "markdown",
   "metadata": {},
   "source": [
    "# Eliminar Duplicados"
   ]
  },
  {
   "cell_type": "code",
   "execution_count": 9,
   "metadata": {},
   "outputs": [
    {
     "data": {
      "text/plain": [
       "array([19,  2, 12,  6, 15,  8,  6, 10, 10,  4,  4, 17, 17,  5,  2,  7,  3,\n",
       "       16, 17, 17, 10,  9,  2, 15])"
      ]
     },
     "execution_count": 9,
     "metadata": {},
     "output_type": "execute_result"
    }
   ],
   "source": [
    "# eliminar duplicados de una lista\n",
    "import numpy as np\n",
    "lista = np.random.randint(1,20,24)\n",
    "lista"
   ]
  },
  {
   "cell_type": "code",
   "execution_count": 11,
   "metadata": {},
   "outputs": [
    {
     "name": "stdout",
     "output_type": "stream",
     "text": [
      "[2, 3, 4, 5, 6, 7, 8, 9, 10, 12, 15, 16, 17, 19]\n"
     ]
    }
   ],
   "source": [
    "nuevaSinDuplicados = []\n",
    "for e in lista:\n",
    "    if not e in nuevaSinDuplicados:\n",
    "        nuevaSinDuplicados.append(e)\n",
    "print(sorted(nuevaSinDuplicados))"
   ]
  },
  {
   "cell_type": "code",
   "execution_count": 13,
   "metadata": {},
   "outputs": [
    {
     "data": {
      "text/plain": [
       "[2, 3, 4, 5, 6, 7, 8, 9, 10, 12, 15, 16, 17, 19]"
      ]
     },
     "execution_count": 13,
     "metadata": {},
     "output_type": "execute_result"
    }
   ],
   "source": [
    "# otra manera es \n",
    "nueva = set(lista)\n",
    "nueva = list(nueva)\n",
    "nueva"
   ]
  },
  {
   "cell_type": "code",
   "execution_count": 14,
   "metadata": {},
   "outputs": [
    {
     "data": {
      "text/plain": [
       "[2, 3, 4, 5, 6, 7, 8, 9, 10, 12, 15, 16, 17, 19]"
      ]
     },
     "execution_count": 14,
     "metadata": {},
     "output_type": "execute_result"
    }
   ],
   "source": [
    "# En una sola linea\n",
    "nueva = list(set(lista))\n",
    "nueva"
   ]
  },
  {
   "cell_type": "markdown",
   "metadata": {},
   "source": [
    "# operaciones de conjuntos con listas"
   ]
  },
  {
   "cell_type": "code",
   "execution_count": 17,
   "metadata": {},
   "outputs": [],
   "source": [
    "# creación de listas\n",
    "a = [1,2,4]\n",
    "b = [1,2,3,5]"
   ]
  },
  {
   "cell_type": "code",
   "execution_count": 19,
   "metadata": {},
   "outputs": [
    {
     "data": {
      "text/plain": [
       "[1, 2, 4]"
      ]
     },
     "execution_count": 19,
     "metadata": {},
     "output_type": "execute_result"
    }
   ],
   "source": [
    "# a union b\n",
    "aub = list(a)\n",
    "aub"
   ]
  },
  {
   "cell_type": "code",
   "execution_count": 20,
   "metadata": {},
   "outputs": [
    {
     "name": "stdout",
     "output_type": "stream",
     "text": [
      "Union ->  [1, 2, 3, 4, 5]\n"
     ]
    }
   ],
   "source": [
    "for e in b:\n",
    "    if not e in aub:\n",
    "        aub.append(e)\n",
    "print(\"Union -> \", sorted(aub))"
   ]
  },
  {
   "cell_type": "code",
   "execution_count": 22,
   "metadata": {},
   "outputs": [
    {
     "name": "stdout",
     "output_type": "stream",
     "text": [
      "Intersección ->  [1, 2]\n"
     ]
    }
   ],
   "source": [
    "# intersección\n",
    "ainterb = []\n",
    "for e in b:\n",
    "    if e in a:\n",
    "        ainterb.append(e)\n",
    "print(\"Intersección -> \", sorted(ainterb))\n",
    "# mostrando a 1 y 2 como elementos comunes"
   ]
  },
  {
   "cell_type": "code",
   "execution_count": 23,
   "metadata": {},
   "outputs": [
    {
     "name": "stdout",
     "output_type": "stream",
     "text": [
      "Diferencia ->  [4]\n"
     ]
    }
   ],
   "source": [
    "# Diferencia\n",
    "adifb = list(a)\n",
    "for e in b:\n",
    "    if e in adifb:\n",
    "        adifb.remove(e)\n",
    "print(\"Diferencia -> \", sorted(adifb))"
   ]
  },
  {
   "cell_type": "code",
   "execution_count": 24,
   "metadata": {},
   "outputs": [
    {
     "name": "stdout",
     "output_type": "stream",
     "text": [
      "Diferencia Simétrica ->  [3, 4, 5]\n"
     ]
    }
   ],
   "source": [
    "# Diferencia simétrica\n",
    "adifsb = list()\n",
    "for e in a:\n",
    "    if not e in b:\n",
    "        adifsb.append(e)\n",
    "for e in b:\n",
    "    if not e in a:\n",
    "        adifsb.append(e)\n",
    "print(\"Diferencia Simétrica -> \", sorted(adifsb))"
   ]
  },
  {
   "cell_type": "code",
   "execution_count": 25,
   "metadata": {},
   "outputs": [
    {
     "name": "stdout",
     "output_type": "stream",
     "text": [
      "No super conjunto\n"
     ]
    }
   ],
   "source": [
    "# super conjunto\n",
    "super = True\n",
    "for e in b:\n",
    "    if not e in a:\n",
    "        super = False\n",
    "        break\n",
    "if super:\n",
    "    print(\"Super Conjunto\")\n",
    "else:\n",
    "    print(\"No super conjunto\")"
   ]
  },
  {
   "cell_type": "code",
   "execution_count": 27,
   "metadata": {},
   "outputs": [
    {
     "name": "stdout",
     "output_type": "stream",
     "text": [
      "No subconjunto\n"
     ]
    }
   ],
   "source": [
    "# Sub conjuntos\n",
    "sub = True\n",
    "for e in a:\n",
    "    if not e in b:\n",
    "        sub = False\n",
    "        break\n",
    "if sub:\n",
    "    print(\"Subconjunto\")\n",
    "else:\n",
    "    print(\"No subconjunto\")\n",
    "# Si b tubiera un 4, entonces a seria un sub conjunto de b"
   ]
  },
  {
   "cell_type": "code",
   "execution_count": 28,
   "metadata": {},
   "outputs": [
    {
     "name": "stdout",
     "output_type": "stream",
     "text": [
      "No disjuntos\n"
     ]
    }
   ],
   "source": [
    "# Disjuntos\n",
    "\n",
    "disJ = True\n",
    "for e in a:\n",
    "    if e in b:\n",
    "        disJ = False\n",
    "        break\n",
    "if disJ:\n",
    "    print(\"Disjuntos\")\n",
    "else:\n",
    "    print(\"No disjuntos\")\n"
   ]
  },
  {
   "cell_type": "code",
   "execution_count": null,
   "metadata": {},
   "outputs": [],
   "source": []
  }
 ],
 "metadata": {
  "interpreter": {
   "hash": "916dbcbb3f70747c44a77c7bcd40155683ae19c65e1c03b4aa3499c5328201f1"
  },
  "kernelspec": {
   "display_name": "Python 3.7.3 64-bit",
   "language": "python",
   "name": "python3"
  },
  "language_info": {
   "codemirror_mode": {
    "name": "ipython",
    "version": 3
   },
   "file_extension": ".py",
   "mimetype": "text/x-python",
   "name": "python",
   "nbconvert_exporter": "python",
   "pygments_lexer": "ipython3",
   "version": "3.7.3"
  },
  "orig_nbformat": 4
 },
 "nbformat": 4,
 "nbformat_minor": 2
}
