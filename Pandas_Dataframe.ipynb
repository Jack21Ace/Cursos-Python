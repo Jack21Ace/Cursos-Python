{
 "cells": [
  {
   "cell_type": "markdown",
   "id": "075b7175",
   "metadata": {},
   "source": [
    "# Seleccionar datos de Frameworks con pandas y numpy"
   ]
  },
  {
   "cell_type": "code",
   "execution_count": 30,
   "id": "1fd1af71-8bb8-4c5b-8156-d72be7df28b8",
   "metadata": {},
   "outputs": [],
   "source": [
    "import pandas as pd\n",
    "import numpy as np"
   ]
  },
  {
   "cell_type": "code",
   "execution_count": 31,
   "id": "999d6efb-6f4c-46e7-b983-87a120e6dba3",
   "metadata": {},
   "outputs": [
    {
     "data": {
      "text/plain": [
       "array([[ 0,  1,  2,  3,  4],\n",
       "       [ 5,  6,  7,  8,  9],\n",
       "       [10, 11, 12, 13, 14],\n",
       "       [15, 16, 17, 18, 19],\n",
       "       [20, 21, 22, 23, 24]])"
      ]
     },
     "execution_count": 31,
     "metadata": {},
     "output_type": "execute_result"
    }
   ],
   "source": [
    "lista_valores = np.arange(25).reshape(5,5)\n",
    "lista_valores"
   ]
  },
  {
   "cell_type": "code",
   "execution_count": 32,
   "id": "3d012fef-524f-40f5-9982-016e250afae7",
   "metadata": {},
   "outputs": [
    {
     "data": {
      "text/plain": [
       "['i1', 'i2', 'i3', 'i4', 'i5']"
      ]
     },
     "execution_count": 32,
     "metadata": {},
     "output_type": "execute_result"
    }
   ],
   "source": [
    "lista_indice = ['i1', 'i2', 'i3', 'i4', 'i5']\n",
    "lista_indice"
   ]
  },
  {
   "cell_type": "code",
   "execution_count": 33,
   "id": "d3e747dc-c138-4900-8c2a-55e392b18129",
   "metadata": {},
   "outputs": [
    {
     "data": {
      "text/plain": [
       "['c1', 'c2', 'c3', 'c4', 'c5']"
      ]
     },
     "execution_count": 33,
     "metadata": {},
     "output_type": "execute_result"
    }
   ],
   "source": [
    "lista_columnas = ['c1', 'c2', 'c3', 'c4', 'c5']\n",
    "lista_columnas"
   ]
  },
  {
   "cell_type": "code",
   "execution_count": 34,
   "id": "83de1dcc-2461-412d-93a5-a93e9b33cb0c",
   "metadata": {},
   "outputs": [
    {
     "data": {
      "text/html": [
       "<div>\n",
       "<style scoped>\n",
       "    .dataframe tbody tr th:only-of-type {\n",
       "        vertical-align: middle;\n",
       "    }\n",
       "\n",
       "    .dataframe tbody tr th {\n",
       "        vertical-align: top;\n",
       "    }\n",
       "\n",
       "    .dataframe thead th {\n",
       "        text-align: right;\n",
       "    }\n",
       "</style>\n",
       "<table border=\"1\" class=\"dataframe\">\n",
       "  <thead>\n",
       "    <tr style=\"text-align: right;\">\n",
       "      <th></th>\n",
       "      <th>c1</th>\n",
       "      <th>c2</th>\n",
       "      <th>c3</th>\n",
       "      <th>c4</th>\n",
       "      <th>c5</th>\n",
       "    </tr>\n",
       "  </thead>\n",
       "  <tbody>\n",
       "    <tr>\n",
       "      <th>i1</th>\n",
       "      <td>0</td>\n",
       "      <td>1</td>\n",
       "      <td>2</td>\n",
       "      <td>3</td>\n",
       "      <td>4</td>\n",
       "    </tr>\n",
       "    <tr>\n",
       "      <th>i2</th>\n",
       "      <td>5</td>\n",
       "      <td>6</td>\n",
       "      <td>7</td>\n",
       "      <td>8</td>\n",
       "      <td>9</td>\n",
       "    </tr>\n",
       "    <tr>\n",
       "      <th>i3</th>\n",
       "      <td>10</td>\n",
       "      <td>11</td>\n",
       "      <td>12</td>\n",
       "      <td>13</td>\n",
       "      <td>14</td>\n",
       "    </tr>\n",
       "    <tr>\n",
       "      <th>i4</th>\n",
       "      <td>15</td>\n",
       "      <td>16</td>\n",
       "      <td>17</td>\n",
       "      <td>18</td>\n",
       "      <td>19</td>\n",
       "    </tr>\n",
       "    <tr>\n",
       "      <th>i5</th>\n",
       "      <td>20</td>\n",
       "      <td>21</td>\n",
       "      <td>22</td>\n",
       "      <td>23</td>\n",
       "      <td>24</td>\n",
       "    </tr>\n",
       "  </tbody>\n",
       "</table>\n",
       "</div>"
      ],
      "text/plain": [
       "    c1  c2  c3  c4  c5\n",
       "i1   0   1   2   3   4\n",
       "i2   5   6   7   8   9\n",
       "i3  10  11  12  13  14\n",
       "i4  15  16  17  18  19\n",
       "i5  20  21  22  23  24"
      ]
     },
     "execution_count": 34,
     "metadata": {},
     "output_type": "execute_result"
    }
   ],
   "source": [
    "dataframe = pd.DataFrame(lista_valores, index=lista_indice, columns=lista_columnas)\n",
    "dataframe"
   ]
  },
  {
   "cell_type": "raw",
   "id": "cbdab72b-d791-4b68-a877-6d6a25e3119a",
   "metadata": {},
   "source": [
    "# Para acceder a las columnas usamos:"
   ]
  },
  {
   "cell_type": "code",
   "execution_count": 36,
   "id": "df7f065b-2020-48e3-80f7-d451cb649b72",
   "metadata": {},
   "outputs": [
    {
     "data": {
      "text/plain": [
       "i1     1\n",
       "i2     6\n",
       "i3    11\n",
       "i4    16\n",
       "i5    21\n",
       "Name: c2, dtype: int64"
      ]
     },
     "execution_count": 36,
     "metadata": {},
     "output_type": "execute_result"
    }
   ],
   "source": [
    "dataframe['c2']"
   ]
  },
  {
   "cell_type": "raw",
   "id": "e2dabd55-62a3-48f2-b3f8-a58eb2894c0e",
   "metadata": {},
   "source": [
    "# Para acceder a un dato en especifico podemos nombrar la COLUMNAy luego la FILA"
   ]
  },
  {
   "cell_type": "code",
   "execution_count": 39,
   "id": "4fc694b5-7d53-49f0-ae64-8fe88f9e825c",
   "metadata": {},
   "outputs": [
    {
     "data": {
      "text/plain": [
       "22"
      ]
     },
     "execution_count": 39,
     "metadata": {},
     "output_type": "execute_result"
    }
   ],
   "source": [
    "dataframe['c3']['i5']"
   ]
  },
  {
   "cell_type": "raw",
   "id": "235849a5-6069-49db-92c5-0794a0700d14",
   "metadata": {},
   "source": [
    "# Si se quiere seleccionar 2 columnas usamos"
   ]
  },
  {
   "cell_type": "code",
   "execution_count": 41,
   "id": "38be1f75-100a-4a47-a4ba-c2d104e415c7",
   "metadata": {},
   "outputs": [
    {
     "data": {
      "text/html": [
       "<div>\n",
       "<style scoped>\n",
       "    .dataframe tbody tr th:only-of-type {\n",
       "        vertical-align: middle;\n",
       "    }\n",
       "\n",
       "    .dataframe tbody tr th {\n",
       "        vertical-align: top;\n",
       "    }\n",
       "\n",
       "    .dataframe thead th {\n",
       "        text-align: right;\n",
       "    }\n",
       "</style>\n",
       "<table border=\"1\" class=\"dataframe\">\n",
       "  <thead>\n",
       "    <tr style=\"text-align: right;\">\n",
       "      <th></th>\n",
       "      <th>c2</th>\n",
       "      <th>c4</th>\n",
       "    </tr>\n",
       "  </thead>\n",
       "  <tbody>\n",
       "    <tr>\n",
       "      <th>i1</th>\n",
       "      <td>1</td>\n",
       "      <td>3</td>\n",
       "    </tr>\n",
       "    <tr>\n",
       "      <th>i2</th>\n",
       "      <td>6</td>\n",
       "      <td>8</td>\n",
       "    </tr>\n",
       "    <tr>\n",
       "      <th>i3</th>\n",
       "      <td>11</td>\n",
       "      <td>13</td>\n",
       "    </tr>\n",
       "    <tr>\n",
       "      <th>i4</th>\n",
       "      <td>16</td>\n",
       "      <td>18</td>\n",
       "    </tr>\n",
       "    <tr>\n",
       "      <th>i5</th>\n",
       "      <td>21</td>\n",
       "      <td>23</td>\n",
       "    </tr>\n",
       "  </tbody>\n",
       "</table>\n",
       "</div>"
      ],
      "text/plain": [
       "    c2  c4\n",
       "i1   1   3\n",
       "i2   6   8\n",
       "i3  11  13\n",
       "i4  16  18\n",
       "i5  21  23"
      ]
     },
     "execution_count": 41,
     "metadata": {},
     "output_type": "execute_result"
    }
   ],
   "source": [
    "dataframe[['c2','c4']]"
   ]
  },
  {
   "cell_type": "raw",
   "id": "19d10a17-0c2e-485d-b6a4-b25261f1c529",
   "metadata": {},
   "source": [
    "# Tambien la podemos seleccionar por rangos ejmplo de c2 a c5"
   ]
  },
  {
   "cell_type": "code",
   "execution_count": 52,
   "id": "2b61bc49-0671-4862-9b7b-966484128a50",
   "metadata": {},
   "outputs": [
    {
     "data": {
      "text/html": [
       "<div>\n",
       "<style scoped>\n",
       "    .dataframe tbody tr th:only-of-type {\n",
       "        vertical-align: middle;\n",
       "    }\n",
       "\n",
       "    .dataframe tbody tr th {\n",
       "        vertical-align: top;\n",
       "    }\n",
       "\n",
       "    .dataframe thead th {\n",
       "        text-align: right;\n",
       "    }\n",
       "</style>\n",
       "<table border=\"1\" class=\"dataframe\">\n",
       "  <thead>\n",
       "    <tr style=\"text-align: right;\">\n",
       "      <th></th>\n",
       "      <th>c1</th>\n",
       "      <th>c2</th>\n",
       "      <th>c3</th>\n",
       "      <th>c4</th>\n",
       "      <th>c5</th>\n",
       "    </tr>\n",
       "  </thead>\n",
       "  <tbody>\n",
       "    <tr>\n",
       "      <th>i4</th>\n",
       "      <td>15</td>\n",
       "      <td>16</td>\n",
       "      <td>17</td>\n",
       "      <td>18</td>\n",
       "      <td>19</td>\n",
       "    </tr>\n",
       "    <tr>\n",
       "      <th>i5</th>\n",
       "      <td>20</td>\n",
       "      <td>21</td>\n",
       "      <td>22</td>\n",
       "      <td>23</td>\n",
       "      <td>24</td>\n",
       "    </tr>\n",
       "  </tbody>\n",
       "</table>\n",
       "</div>"
      ],
      "text/plain": [
       "    c1  c2  c3  c4  c5\n",
       "i4  15  16  17  18  19\n",
       "i5  20  21  22  23  24"
      ]
     },
     "execution_count": 52,
     "metadata": {},
     "output_type": "execute_result"
    }
   ],
   "source": [
    "dataframe[dataframe['c2'] > 15]"
   ]
  },
  {
   "cell_type": "code",
   "execution_count": 53,
   "id": "37392ec2-16c0-4372-8063-8b7e68f452a3",
   "metadata": {},
   "outputs": [
    {
     "data": {
      "text/html": [
       "<div>\n",
       "<style scoped>\n",
       "    .dataframe tbody tr th:only-of-type {\n",
       "        vertical-align: middle;\n",
       "    }\n",
       "\n",
       "    .dataframe tbody tr th {\n",
       "        vertical-align: top;\n",
       "    }\n",
       "\n",
       "    .dataframe thead th {\n",
       "        text-align: right;\n",
       "    }\n",
       "</style>\n",
       "<table border=\"1\" class=\"dataframe\">\n",
       "  <thead>\n",
       "    <tr style=\"text-align: right;\">\n",
       "      <th></th>\n",
       "      <th>c1</th>\n",
       "      <th>c2</th>\n",
       "      <th>c3</th>\n",
       "      <th>c4</th>\n",
       "      <th>c5</th>\n",
       "    </tr>\n",
       "  </thead>\n",
       "  <tbody>\n",
       "    <tr>\n",
       "      <th>i1</th>\n",
       "      <td>0</td>\n",
       "      <td>1</td>\n",
       "      <td>2</td>\n",
       "      <td>3</td>\n",
       "      <td>4</td>\n",
       "    </tr>\n",
       "    <tr>\n",
       "      <th>i2</th>\n",
       "      <td>5</td>\n",
       "      <td>6</td>\n",
       "      <td>7</td>\n",
       "      <td>8</td>\n",
       "      <td>9</td>\n",
       "    </tr>\n",
       "    <tr>\n",
       "      <th>i3</th>\n",
       "      <td>10</td>\n",
       "      <td>11</td>\n",
       "      <td>12</td>\n",
       "      <td>13</td>\n",
       "      <td>14</td>\n",
       "    </tr>\n",
       "    <tr>\n",
       "      <th>i4</th>\n",
       "      <td>15</td>\n",
       "      <td>16</td>\n",
       "      <td>17</td>\n",
       "      <td>18</td>\n",
       "      <td>19</td>\n",
       "    </tr>\n",
       "    <tr>\n",
       "      <th>i5</th>\n",
       "      <td>20</td>\n",
       "      <td>21</td>\n",
       "      <td>22</td>\n",
       "      <td>23</td>\n",
       "      <td>24</td>\n",
       "    </tr>\n",
       "  </tbody>\n",
       "</table>\n",
       "</div>"
      ],
      "text/plain": [
       "    c1  c2  c3  c4  c5\n",
       "i1   0   1   2   3   4\n",
       "i2   5   6   7   8   9\n",
       "i3  10  11  12  13  14\n",
       "i4  15  16  17  18  19\n",
       "i5  20  21  22  23  24"
      ]
     },
     "execution_count": 53,
     "metadata": {},
     "output_type": "execute_result"
    }
   ],
   "source": [
    "df = dataframe\n",
    "df"
   ]
  },
  {
   "cell_type": "code",
   "execution_count": 57,
   "id": "c73d7cff-4065-47eb-ad34-0e25f3834b99",
   "metadata": {},
   "outputs": [
    {
     "data": {
      "text/html": [
       "<div>\n",
       "<style scoped>\n",
       "    .dataframe tbody tr th:only-of-type {\n",
       "        vertical-align: middle;\n",
       "    }\n",
       "\n",
       "    .dataframe tbody tr th {\n",
       "        vertical-align: top;\n",
       "    }\n",
       "\n",
       "    .dataframe thead th {\n",
       "        text-align: right;\n",
       "    }\n",
       "</style>\n",
       "<table border=\"1\" class=\"dataframe\">\n",
       "  <thead>\n",
       "    <tr style=\"text-align: right;\">\n",
       "      <th></th>\n",
       "      <th>c1</th>\n",
       "      <th>c2</th>\n",
       "      <th>c3</th>\n",
       "      <th>c4</th>\n",
       "      <th>c5</th>\n",
       "    </tr>\n",
       "  </thead>\n",
       "  <tbody>\n",
       "    <tr>\n",
       "      <th>i1</th>\n",
       "      <td>False</td>\n",
       "      <td>False</td>\n",
       "      <td>False</td>\n",
       "      <td>False</td>\n",
       "      <td>False</td>\n",
       "    </tr>\n",
       "    <tr>\n",
       "      <th>i2</th>\n",
       "      <td>False</td>\n",
       "      <td>False</td>\n",
       "      <td>False</td>\n",
       "      <td>False</td>\n",
       "      <td>False</td>\n",
       "    </tr>\n",
       "    <tr>\n",
       "      <th>i3</th>\n",
       "      <td>False</td>\n",
       "      <td>False</td>\n",
       "      <td>False</td>\n",
       "      <td>False</td>\n",
       "      <td>False</td>\n",
       "    </tr>\n",
       "    <tr>\n",
       "      <th>i4</th>\n",
       "      <td>False</td>\n",
       "      <td>False</td>\n",
       "      <td>False</td>\n",
       "      <td>False</td>\n",
       "      <td>False</td>\n",
       "    </tr>\n",
       "    <tr>\n",
       "      <th>i5</th>\n",
       "      <td>False</td>\n",
       "      <td>True</td>\n",
       "      <td>True</td>\n",
       "      <td>True</td>\n",
       "      <td>True</td>\n",
       "    </tr>\n",
       "  </tbody>\n",
       "</table>\n",
       "</div>"
      ],
      "text/plain": [
       "       c1     c2     c3     c4     c5\n",
       "i1  False  False  False  False  False\n",
       "i2  False  False  False  False  False\n",
       "i3  False  False  False  False  False\n",
       "i4  False  False  False  False  False\n",
       "i5  False   True   True   True   True"
      ]
     },
     "execution_count": 57,
     "metadata": {},
     "output_type": "execute_result"
    }
   ],
   "source": [
    "df > 20"
   ]
  },
  {
   "cell_type": "code",
   "execution_count": 60,
   "id": "fe2ebef1-638d-47f6-a631-f5543900df7f",
   "metadata": {},
   "outputs": [
    {
     "data": {
      "text/html": [
       "<div>\n",
       "<style scoped>\n",
       "    .dataframe tbody tr th:only-of-type {\n",
       "        vertical-align: middle;\n",
       "    }\n",
       "\n",
       "    .dataframe tbody tr th {\n",
       "        vertical-align: top;\n",
       "    }\n",
       "\n",
       "    .dataframe thead th {\n",
       "        text-align: right;\n",
       "    }\n",
       "</style>\n",
       "<table border=\"1\" class=\"dataframe\">\n",
       "  <thead>\n",
       "    <tr style=\"text-align: right;\">\n",
       "      <th></th>\n",
       "      <th>c1</th>\n",
       "      <th>c2</th>\n",
       "      <th>c3</th>\n",
       "      <th>c4</th>\n",
       "      <th>c5</th>\n",
       "    </tr>\n",
       "  </thead>\n",
       "  <tbody>\n",
       "    <tr>\n",
       "      <th>i1</th>\n",
       "      <td>0</td>\n",
       "      <td>1</td>\n",
       "      <td>2</td>\n",
       "      <td>3</td>\n",
       "      <td>4</td>\n",
       "    </tr>\n",
       "    <tr>\n",
       "      <th>i2</th>\n",
       "      <td>5</td>\n",
       "      <td>6</td>\n",
       "      <td>7</td>\n",
       "      <td>8</td>\n",
       "      <td>9</td>\n",
       "    </tr>\n",
       "    <tr>\n",
       "      <th>i3</th>\n",
       "      <td>10</td>\n",
       "      <td>11</td>\n",
       "      <td>12</td>\n",
       "      <td>13</td>\n",
       "      <td>14</td>\n",
       "    </tr>\n",
       "    <tr>\n",
       "      <th>i4</th>\n",
       "      <td>15</td>\n",
       "      <td>16</td>\n",
       "      <td>17</td>\n",
       "      <td>18</td>\n",
       "      <td>19</td>\n",
       "    </tr>\n",
       "    <tr>\n",
       "      <th>i5</th>\n",
       "      <td>20</td>\n",
       "      <td>21</td>\n",
       "      <td>22</td>\n",
       "      <td>23</td>\n",
       "      <td>24</td>\n",
       "    </tr>\n",
       "  </tbody>\n",
       "</table>\n",
       "</div>"
      ],
      "text/plain": [
       "    c1  c2  c3  c4  c5\n",
       "i1   0   1   2   3   4\n",
       "i2   5   6   7   8   9\n",
       "i3  10  11  12  13  14\n",
       "i4  15  16  17  18  19\n",
       "i5  20  21  22  23  24"
      ]
     },
     "execution_count": 60,
     "metadata": {},
     "output_type": "execute_result"
    }
   ],
   "source": [
    "df"
   ]
  },
  {
   "cell_type": "raw",
   "id": "24bda0f0-4566-4a98-aa53-bbd6e02ba805",
   "metadata": {},
   "source": [
    "# Para mostrar toda una fila usamos .loc['indice']"
   ]
  },
  {
   "cell_type": "code",
   "execution_count": 61,
   "id": "be72c2b4-e588-4b15-b372-3396a1e2833b",
   "metadata": {},
   "outputs": [
    {
     "data": {
      "text/plain": [
       "c1    10\n",
       "c2    11\n",
       "c3    12\n",
       "c4    13\n",
       "c5    14\n",
       "Name: i3, dtype: int64"
      ]
     },
     "execution_count": 61,
     "metadata": {},
     "output_type": "execute_result"
    }
   ],
   "source": [
    "df.loc['i3']"
   ]
  },
  {
   "cell_type": "raw",
   "id": "ae1fbb7c-5f8f-4db6-a039-0728369fe72a",
   "metadata": {},
   "source": [
    "# de la misma manera si queremos seleccionar un dato unico podemos usar .loc"
   ]
  },
  {
   "cell_type": "code",
   "execution_count": 62,
   "id": "b3180616-d3cb-4f49-a714-0857d4c77b54",
   "metadata": {},
   "outputs": [
    {
     "data": {
      "text/plain": [
       "13"
      ]
     },
     "execution_count": 62,
     "metadata": {},
     "output_type": "execute_result"
    }
   ],
   "source": [
    "df.loc['i3']['c4']"
   ]
  },
  {
   "cell_type": "markdown",
   "id": "fc28c5c0-1119-4a17-86f9-6b6b26ce5eac",
   "metadata": {
    "tags": []
   },
   "source": [
    "# Operaciones sobre Series y Dataframes"
   ]
  },
  {
   "cell_type": "code",
   "execution_count": 1,
   "id": "8239c84f-ff63-48e6-8ec2-6f0c18a89a88",
   "metadata": {},
   "outputs": [],
   "source": [
    "import pandas as pd\n",
    "import numpy as np"
   ]
  },
  {
   "cell_type": "code",
   "execution_count": 3,
   "id": "130e78f6-7001-46d8-9163-51b04d96d433",
   "metadata": {},
   "outputs": [
    {
     "data": {
      "text/plain": [
       "a    0\n",
       "b    1\n",
       "c    2\n",
       "dtype: int64"
      ]
     },
     "execution_count": 3,
     "metadata": {},
     "output_type": "execute_result"
    }
   ],
   "source": [
    "s1 = pd.Series([0,1,2], index=['a', 'b', 'c'])\n",
    "s1"
   ]
  },
  {
   "cell_type": "code",
   "execution_count": 4,
   "id": "97f3fa95-2e56-4190-82e2-a9796ddd3186",
   "metadata": {},
   "outputs": [
    {
     "data": {
      "text/plain": [
       "a    3\n",
       "b    4\n",
       "c    5\n",
       "d    6\n",
       "dtype: int64"
      ]
     },
     "execution_count": 4,
     "metadata": {},
     "output_type": "execute_result"
    }
   ],
   "source": [
    "s2 = pd.Series([3,4,5,6], index=['a', 'b', 'c', 'd'])\n",
    "s2"
   ]
  },
  {
   "cell_type": "code",
   "execution_count": 5,
   "id": "f0d061b7-96b9-460d-87bb-e26d58f7c2d9",
   "metadata": {},
   "outputs": [
    {
     "data": {
      "text/plain": [
       "a    3.0\n",
       "b    5.0\n",
       "c    7.0\n",
       "d    NaN\n",
       "dtype: float64"
      ]
     },
     "execution_count": 5,
     "metadata": {},
     "output_type": "execute_result"
    }
   ],
   "source": [
    "s1+s2"
   ]
  },
  {
   "cell_type": "code",
   "execution_count": 6,
   "id": "9290891f-fa84-4487-8a8a-e0e316c6856b",
   "metadata": {},
   "outputs": [
    {
     "data": {
      "text/plain": [
       "array([[0, 1],\n",
       "       [2, 3]])"
      ]
     },
     "execution_count": 6,
     "metadata": {},
     "output_type": "execute_result"
    }
   ],
   "source": [
    "lista_valores = np.arange(4).reshape(2,2)\n",
    "lista_valores"
   ]
  },
  {
   "cell_type": "code",
   "execution_count": 7,
   "id": "9567f4fa-7338-4d81-acd9-7df3f4752911",
   "metadata": {},
   "outputs": [
    {
     "data": {
      "text/plain": [
       "['a', 'b']"
      ]
     },
     "execution_count": 7,
     "metadata": {},
     "output_type": "execute_result"
    }
   ],
   "source": [
    "lista_indices = list('ab')\n",
    "lista_indices"
   ]
  },
  {
   "cell_type": "code",
   "execution_count": 8,
   "id": "98502b17-e3f1-4d36-9ac1-a8226385f201",
   "metadata": {},
   "outputs": [
    {
     "data": {
      "text/plain": [
       "['1', '2']"
      ]
     },
     "execution_count": 8,
     "metadata": {},
     "output_type": "execute_result"
    }
   ],
   "source": [
    "lista_columnas = list('12')\n",
    "lista_columnas"
   ]
  },
  {
   "cell_type": "code",
   "execution_count": 10,
   "id": "01c7bd69-2361-4ed9-8b31-c5f66d700182",
   "metadata": {},
   "outputs": [
    {
     "data": {
      "text/html": [
       "<div>\n",
       "<style scoped>\n",
       "    .dataframe tbody tr th:only-of-type {\n",
       "        vertical-align: middle;\n",
       "    }\n",
       "\n",
       "    .dataframe tbody tr th {\n",
       "        vertical-align: top;\n",
       "    }\n",
       "\n",
       "    .dataframe thead th {\n",
       "        text-align: right;\n",
       "    }\n",
       "</style>\n",
       "<table border=\"1\" class=\"dataframe\">\n",
       "  <thead>\n",
       "    <tr style=\"text-align: right;\">\n",
       "      <th></th>\n",
       "      <th>1</th>\n",
       "      <th>2</th>\n",
       "    </tr>\n",
       "  </thead>\n",
       "  <tbody>\n",
       "    <tr>\n",
       "      <th>a</th>\n",
       "      <td>0</td>\n",
       "      <td>1</td>\n",
       "    </tr>\n",
       "    <tr>\n",
       "      <th>b</th>\n",
       "      <td>2</td>\n",
       "      <td>3</td>\n",
       "    </tr>\n",
       "  </tbody>\n",
       "</table>\n",
       "</div>"
      ],
      "text/plain": [
       "   1  2\n",
       "a  0  1\n",
       "b  2  3"
      ]
     },
     "execution_count": 10,
     "metadata": {},
     "output_type": "execute_result"
    }
   ],
   "source": [
    "df = pd.DataFrame(lista_valores, index=lista_indices, columns=lista_columnas)\n",
    "df"
   ]
  },
  {
   "cell_type": "code",
   "execution_count": 11,
   "id": "fd4e5678-4d53-40f8-adfe-9d582283f428",
   "metadata": {},
   "outputs": [],
   "source": [
    "listaValores = np.arange(9).reshape(3,3)"
   ]
  },
  {
   "cell_type": "code",
   "execution_count": 12,
   "id": "e6a6031f-3aeb-4378-9d68-7e234d093be3",
   "metadata": {},
   "outputs": [],
   "source": [
    "listaIndices = list('abc')\n",
    "listaColumnas = list('123')"
   ]
  },
  {
   "cell_type": "code",
   "execution_count": 13,
   "id": "0c141263-9252-4a3d-b49d-d591ea5424b0",
   "metadata": {},
   "outputs": [
    {
     "data": {
      "text/html": [
       "<div>\n",
       "<style scoped>\n",
       "    .dataframe tbody tr th:only-of-type {\n",
       "        vertical-align: middle;\n",
       "    }\n",
       "\n",
       "    .dataframe tbody tr th {\n",
       "        vertical-align: top;\n",
       "    }\n",
       "\n",
       "    .dataframe thead th {\n",
       "        text-align: right;\n",
       "    }\n",
       "</style>\n",
       "<table border=\"1\" class=\"dataframe\">\n",
       "  <thead>\n",
       "    <tr style=\"text-align: right;\">\n",
       "      <th></th>\n",
       "      <th>1</th>\n",
       "      <th>2</th>\n",
       "      <th>3</th>\n",
       "    </tr>\n",
       "  </thead>\n",
       "  <tbody>\n",
       "    <tr>\n",
       "      <th>a</th>\n",
       "      <td>0</td>\n",
       "      <td>1</td>\n",
       "      <td>2</td>\n",
       "    </tr>\n",
       "    <tr>\n",
       "      <th>b</th>\n",
       "      <td>3</td>\n",
       "      <td>4</td>\n",
       "      <td>5</td>\n",
       "    </tr>\n",
       "    <tr>\n",
       "      <th>c</th>\n",
       "      <td>6</td>\n",
       "      <td>7</td>\n",
       "      <td>8</td>\n",
       "    </tr>\n",
       "  </tbody>\n",
       "</table>\n",
       "</div>"
      ],
      "text/plain": [
       "   1  2  3\n",
       "a  0  1  2\n",
       "b  3  4  5\n",
       "c  6  7  8"
      ]
     },
     "execution_count": 13,
     "metadata": {},
     "output_type": "execute_result"
    }
   ],
   "source": [
    "df2 = pd.DataFrame(listaValores, index=listaIndices, columns=listaColumnas)\n",
    "df2"
   ]
  },
  {
   "cell_type": "code",
   "execution_count": 14,
   "id": "a24431ce-5f9e-4b08-bb43-3e6131f3a8bf",
   "metadata": {},
   "outputs": [
    {
     "data": {
      "text/html": [
       "<div>\n",
       "<style scoped>\n",
       "    .dataframe tbody tr th:only-of-type {\n",
       "        vertical-align: middle;\n",
       "    }\n",
       "\n",
       "    .dataframe tbody tr th {\n",
       "        vertical-align: top;\n",
       "    }\n",
       "\n",
       "    .dataframe thead th {\n",
       "        text-align: right;\n",
       "    }\n",
       "</style>\n",
       "<table border=\"1\" class=\"dataframe\">\n",
       "  <thead>\n",
       "    <tr style=\"text-align: right;\">\n",
       "      <th></th>\n",
       "      <th>1</th>\n",
       "      <th>2</th>\n",
       "      <th>3</th>\n",
       "    </tr>\n",
       "  </thead>\n",
       "  <tbody>\n",
       "    <tr>\n",
       "      <th>a</th>\n",
       "      <td>0.0</td>\n",
       "      <td>2.0</td>\n",
       "      <td>NaN</td>\n",
       "    </tr>\n",
       "    <tr>\n",
       "      <th>b</th>\n",
       "      <td>5.0</td>\n",
       "      <td>7.0</td>\n",
       "      <td>NaN</td>\n",
       "    </tr>\n",
       "    <tr>\n",
       "      <th>c</th>\n",
       "      <td>NaN</td>\n",
       "      <td>NaN</td>\n",
       "      <td>NaN</td>\n",
       "    </tr>\n",
       "  </tbody>\n",
       "</table>\n",
       "</div>"
      ],
      "text/plain": [
       "     1    2   3\n",
       "a  0.0  2.0 NaN\n",
       "b  5.0  7.0 NaN\n",
       "c  NaN  NaN NaN"
      ]
     },
     "execution_count": 14,
     "metadata": {},
     "output_type": "execute_result"
    }
   ],
   "source": [
    "df + df2"
   ]
  },
  {
   "cell_type": "code",
   "execution_count": 16,
   "id": "b32d814b-19a3-48f1-8e42-18241410bae8",
   "metadata": {},
   "outputs": [
    {
     "data": {
      "text/html": [
       "<div>\n",
       "<style scoped>\n",
       "    .dataframe tbody tr th:only-of-type {\n",
       "        vertical-align: middle;\n",
       "    }\n",
       "\n",
       "    .dataframe tbody tr th {\n",
       "        vertical-align: top;\n",
       "    }\n",
       "\n",
       "    .dataframe thead th {\n",
       "        text-align: right;\n",
       "    }\n",
       "</style>\n",
       "<table border=\"1\" class=\"dataframe\">\n",
       "  <thead>\n",
       "    <tr style=\"text-align: right;\">\n",
       "      <th></th>\n",
       "      <th>1</th>\n",
       "      <th>2</th>\n",
       "      <th>3</th>\n",
       "    </tr>\n",
       "  </thead>\n",
       "  <tbody>\n",
       "    <tr>\n",
       "      <th>a</th>\n",
       "      <td>0.0</td>\n",
       "      <td>2.0</td>\n",
       "      <td>2.0</td>\n",
       "    </tr>\n",
       "    <tr>\n",
       "      <th>b</th>\n",
       "      <td>5.0</td>\n",
       "      <td>7.0</td>\n",
       "      <td>5.0</td>\n",
       "    </tr>\n",
       "    <tr>\n",
       "      <th>c</th>\n",
       "      <td>6.0</td>\n",
       "      <td>7.0</td>\n",
       "      <td>8.0</td>\n",
       "    </tr>\n",
       "  </tbody>\n",
       "</table>\n",
       "</div>"
      ],
      "text/plain": [
       "     1    2    3\n",
       "a  0.0  2.0  2.0\n",
       "b  5.0  7.0  5.0\n",
       "c  6.0  7.0  8.0"
      ]
     },
     "execution_count": 16,
     "metadata": {},
     "output_type": "execute_result"
    }
   ],
   "source": [
    "df.add(df2, fill_value=0)"
   ]
  },
  {
   "cell_type": "markdown",
   "id": "88cecd7c-ec3d-41f0-b139-487d3e74cf15",
   "metadata": {
    "tags": []
   },
   "source": [
    "# Ordenar Y clasificar Series"
   ]
  },
  {
   "cell_type": "code",
   "execution_count": 17,
   "id": "30a6622d-6ba9-4c7c-9ab6-a65728c1dbf3",
   "metadata": {},
   "outputs": [],
   "source": [
    "import pandas as pd\n",
    "import numpy as np"
   ]
  },
  {
   "cell_type": "code",
   "execution_count": 19,
   "id": "dd5d1fd8-546f-4d18-bdcf-46ac57f20112",
   "metadata": {},
   "outputs": [
    {
     "data": {
      "text/plain": [
       "range(0, 4)"
      ]
     },
     "execution_count": 19,
     "metadata": {},
     "output_type": "execute_result"
    }
   ],
   "source": [
    "range( 4)"
   ]
  },
  {
   "cell_type": "code",
   "execution_count": 20,
   "id": "73955dd6-f267-4449-8560-b2833cbe5fb8",
   "metadata": {},
   "outputs": [],
   "source": [
    "lista_valores = range(4)"
   ]
  },
  {
   "cell_type": "code",
   "execution_count": 27,
   "id": "f90d3a6e-76cc-41b9-b9d8-73ad6d3d7b6f",
   "metadata": {},
   "outputs": [],
   "source": [
    "lista_indices = list('CABD')"
   ]
  },
  {
   "cell_type": "code",
   "execution_count": 28,
   "id": "e271c9b2-6465-4c38-a7db-0b406891bb8d",
   "metadata": {},
   "outputs": [
    {
     "data": {
      "text/plain": [
       "['C', 'A', 'B', 'D']"
      ]
     },
     "execution_count": 28,
     "metadata": {},
     "output_type": "execute_result"
    }
   ],
   "source": [
    "lista_indices"
   ]
  },
  {
   "cell_type": "code",
   "execution_count": 29,
   "id": "de8521bf-5089-403b-b3ce-0999fc0d92bf",
   "metadata": {},
   "outputs": [
    {
     "data": {
      "text/plain": [
       "C    0\n",
       "A    1\n",
       "B    2\n",
       "D    3\n",
       "dtype: int64"
      ]
     },
     "execution_count": 29,
     "metadata": {},
     "output_type": "execute_result"
    }
   ],
   "source": [
    "serie = pd.Series(lista_valores, index=lista_indices)\n",
    "serie"
   ]
  },
  {
   "cell_type": "raw",
   "id": "e4965daf-3c5c-4977-96ca-073cad7cf7a9",
   "metadata": {},
   "source": [
    "# si querermos el orden alfabetico por indice"
   ]
  },
  {
   "cell_type": "code",
   "execution_count": 30,
   "id": "ef1e1bab-05f0-4ec2-b918-9bf40b6a46ed",
   "metadata": {},
   "outputs": [
    {
     "data": {
      "text/plain": [
       "A    1\n",
       "B    2\n",
       "C    0\n",
       "D    3\n",
       "dtype: int64"
      ]
     },
     "execution_count": 30,
     "metadata": {},
     "output_type": "execute_result"
    }
   ],
   "source": [
    "serie.sort_index()"
   ]
  },
  {
   "cell_type": "code",
   "execution_count": 32,
   "id": "334f79bd-d56f-48b0-8506-b1aa014216f5",
   "metadata": {},
   "outputs": [
    {
     "data": {
      "text/plain": [
       "C    0\n",
       "A    1\n",
       "B    2\n",
       "D    3\n",
       "dtype: int64"
      ]
     },
     "execution_count": 32,
     "metadata": {},
     "output_type": "execute_result"
    }
   ],
   "source": [
    "serie.sort_values()"
   ]
  },
  {
   "cell_type": "code",
   "execution_count": 33,
   "id": "2e48323c-219a-4e0d-ac62-ec4dfc25b857",
   "metadata": {},
   "outputs": [
    {
     "data": {
      "text/plain": [
       "C    1.0\n",
       "A    2.0\n",
       "B    3.0\n",
       "D    4.0\n",
       "dtype: float64"
      ]
     },
     "execution_count": 33,
     "metadata": {},
     "output_type": "execute_result"
    }
   ],
   "source": [
    "serie.rank()"
   ]
  },
  {
   "cell_type": "code",
   "execution_count": 39,
   "id": "567f9369-87f9-415c-86ee-890ca89c1ebe",
   "metadata": {},
   "outputs": [
    {
     "data": {
      "text/plain": [
       "0    0.497775\n",
       "1    0.613514\n",
       "2    1.406727\n",
       "3    0.302398\n",
       "4    1.877099\n",
       "5   -0.331372\n",
       "6    0.641607\n",
       "7   -0.672114\n",
       "8    0.682540\n",
       "9    1.066553\n",
       "dtype: float64"
      ]
     },
     "execution_count": 39,
     "metadata": {},
     "output_type": "execute_result"
    }
   ],
   "source": [
    "serie2 = pd.Series(np.random.randn(10))\n",
    "serie2"
   ]
  },
  {
   "cell_type": "code",
   "execution_count": 40,
   "id": "115a0c29-b5cb-4c58-8682-394c7a3ac0f1",
   "metadata": {},
   "outputs": [
    {
     "data": {
      "text/plain": [
       "0     4.0\n",
       "1     5.0\n",
       "2     9.0\n",
       "3     3.0\n",
       "4    10.0\n",
       "5     2.0\n",
       "6     6.0\n",
       "7     1.0\n",
       "8     7.0\n",
       "9     8.0\n",
       "dtype: float64"
      ]
     },
     "execution_count": 40,
     "metadata": {},
     "output_type": "execute_result"
    }
   ],
   "source": [
    "serie2.rank()"
   ]
  },
  {
   "cell_type": "code",
   "execution_count": 41,
   "id": "8073c369-5ed3-4a53-92a2-587927c66561",
   "metadata": {},
   "outputs": [
    {
     "data": {
      "text/plain": [
       "7   -0.672114\n",
       "5   -0.331372\n",
       "3    0.302398\n",
       "0    0.497775\n",
       "1    0.613514\n",
       "6    0.641607\n",
       "8    0.682540\n",
       "9    1.066553\n",
       "2    1.406727\n",
       "4    1.877099\n",
       "dtype: float64"
      ]
     },
     "execution_count": 41,
     "metadata": {},
     "output_type": "execute_result"
    }
   ],
   "source": [
    "serie2.sort_values()"
   ]
  },
  {
   "cell_type": "code",
   "execution_count": 42,
   "id": "7be06f22-4ac6-4e3f-bace-85cfdda7c669",
   "metadata": {},
   "outputs": [
    {
     "data": {
      "text/plain": [
       "0    0.497775\n",
       "1    0.613514\n",
       "2    1.406727\n",
       "3    0.302398\n",
       "4    1.877099\n",
       "5   -0.331372\n",
       "6    0.641607\n",
       "7   -0.672114\n",
       "8    0.682540\n",
       "9    1.066553\n",
       "dtype: float64"
      ]
     },
     "execution_count": 42,
     "metadata": {},
     "output_type": "execute_result"
    }
   ],
   "source": [
    "serie2.sort_index()"
   ]
  },
  {
   "cell_type": "code",
   "execution_count": 43,
   "id": "d8031651-e380-49bd-8e08-416201e31a59",
   "metadata": {},
   "outputs": [
    {
     "data": {
      "text/plain": [
       "0    0.497775\n",
       "1    0.613514\n",
       "2    1.406727\n",
       "3    0.302398\n",
       "4    1.877099\n",
       "5   -0.331372\n",
       "6    0.641607\n",
       "7   -0.672114\n",
       "8    0.682540\n",
       "9    1.066553\n",
       "dtype: float64"
      ]
     },
     "execution_count": 43,
     "metadata": {},
     "output_type": "execute_result"
    }
   ],
   "source": [
    "serie2"
   ]
  },
  {
   "cell_type": "markdown",
   "id": "02b2c58e-ffd5-4ac8-9545-59b5a1f483eb",
   "metadata": {
    "jp-MarkdownHeadingCollapsed": true,
    "tags": []
   },
   "source": [
    "# Estadisticas en Dataframe"
   ]
  },
  {
   "cell_type": "code",
   "execution_count": 44,
   "id": "6d43de7c-37f4-4144-b9b8-b02cbad8d237",
   "metadata": {},
   "outputs": [],
   "source": [
    "import pandas as pd\n",
    "import numpy as np"
   ]
  },
  {
   "cell_type": "code",
   "execution_count": 45,
   "id": "65cb5cff-225b-4db2-b8b5-9d417192250f",
   "metadata": {},
   "outputs": [
    {
     "data": {
      "text/plain": [
       "array([[1, 8, 3],\n",
       "       [5, 6, 7]])"
      ]
     },
     "execution_count": 45,
     "metadata": {},
     "output_type": "execute_result"
    }
   ],
   "source": [
    "array = np.array([[1,8,3], [5,6,7]])\n",
    "array"
   ]
  },
  {
   "cell_type": "code",
   "execution_count": 49,
   "id": "767329d2-8741-4604-88b4-a689464f4bcd",
   "metadata": {},
   "outputs": [
    {
     "data": {
      "text/html": [
       "<div>\n",
       "<style scoped>\n",
       "    .dataframe tbody tr th:only-of-type {\n",
       "        vertical-align: middle;\n",
       "    }\n",
       "\n",
       "    .dataframe tbody tr th {\n",
       "        vertical-align: top;\n",
       "    }\n",
       "\n",
       "    .dataframe thead th {\n",
       "        text-align: right;\n",
       "    }\n",
       "</style>\n",
       "<table border=\"1\" class=\"dataframe\">\n",
       "  <thead>\n",
       "    <tr style=\"text-align: right;\">\n",
       "      <th></th>\n",
       "      <th>1</th>\n",
       "      <th>2</th>\n",
       "      <th>3</th>\n",
       "    </tr>\n",
       "  </thead>\n",
       "  <tbody>\n",
       "    <tr>\n",
       "      <th>a</th>\n",
       "      <td>1</td>\n",
       "      <td>8</td>\n",
       "      <td>3</td>\n",
       "    </tr>\n",
       "    <tr>\n",
       "      <th>b</th>\n",
       "      <td>5</td>\n",
       "      <td>6</td>\n",
       "      <td>7</td>\n",
       "    </tr>\n",
       "  </tbody>\n",
       "</table>\n",
       "</div>"
      ],
      "text/plain": [
       "   1  2  3\n",
       "a  1  8  3\n",
       "b  5  6  7"
      ]
     },
     "execution_count": 49,
     "metadata": {},
     "output_type": "execute_result"
    }
   ],
   "source": [
    "df = pd.DataFrame(array, index=['a', 'b'], columns=list('123'))\n",
    "df"
   ]
  },
  {
   "cell_type": "raw",
   "id": "86368bd1-fa79-4a62-be9b-9ae8ed99cbf4",
   "metadata": {},
   "source": [
    "# Para sumar por columnas"
   ]
  },
  {
   "cell_type": "code",
   "execution_count": 55,
   "id": "675c3d0d-e4cc-4bd0-831b-fca59da8f974",
   "metadata": {},
   "outputs": [
    {
     "data": {
      "text/plain": [
       "1     6\n",
       "2    14\n",
       "3    10\n",
       "dtype: int64"
      ]
     },
     "execution_count": 55,
     "metadata": {},
     "output_type": "execute_result"
    }
   ],
   "source": [
    "df.sum()"
   ]
  },
  {
   "cell_type": "raw",
   "id": "eb8ee3f9-72b6-48ea-b715-f0670cf8871a",
   "metadata": {},
   "source": [
    "# Para sumar por Filas"
   ]
  },
  {
   "cell_type": "code",
   "execution_count": 58,
   "id": "782a6a02-7beb-43f7-82f8-66b966ecc9b5",
   "metadata": {},
   "outputs": [
    {
     "data": {
      "text/html": [
       "<div>\n",
       "<style scoped>\n",
       "    .dataframe tbody tr th:only-of-type {\n",
       "        vertical-align: middle;\n",
       "    }\n",
       "\n",
       "    .dataframe tbody tr th {\n",
       "        vertical-align: top;\n",
       "    }\n",
       "\n",
       "    .dataframe thead th {\n",
       "        text-align: right;\n",
       "    }\n",
       "</style>\n",
       "<table border=\"1\" class=\"dataframe\">\n",
       "  <thead>\n",
       "    <tr style=\"text-align: right;\">\n",
       "      <th></th>\n",
       "      <th>1</th>\n",
       "      <th>2</th>\n",
       "      <th>3</th>\n",
       "    </tr>\n",
       "  </thead>\n",
       "  <tbody>\n",
       "    <tr>\n",
       "      <th>a</th>\n",
       "      <td>1</td>\n",
       "      <td>8</td>\n",
       "      <td>3</td>\n",
       "    </tr>\n",
       "    <tr>\n",
       "      <th>b</th>\n",
       "      <td>5</td>\n",
       "      <td>6</td>\n",
       "      <td>7</td>\n",
       "    </tr>\n",
       "  </tbody>\n",
       "</table>\n",
       "</div>"
      ],
      "text/plain": [
       "   1  2  3\n",
       "a  1  8  3\n",
       "b  5  6  7"
      ]
     },
     "execution_count": 58,
     "metadata": {},
     "output_type": "execute_result"
    }
   ],
   "source": [
    "df"
   ]
  },
  {
   "cell_type": "code",
   "execution_count": 59,
   "id": "729019cf-4996-4201-8800-9b37bea1c17c",
   "metadata": {},
   "outputs": [
    {
     "data": {
      "text/plain": [
       "a    12\n",
       "b    18\n",
       "dtype: int64"
      ]
     },
     "execution_count": 59,
     "metadata": {},
     "output_type": "execute_result"
    }
   ],
   "source": [
    "df.sum(axis=1)"
   ]
  },
  {
   "cell_type": "raw",
   "id": "ac2051cf-c648-46eb-830b-733c495aff2d",
   "metadata": {},
   "source": [
    "# Para saber el minimo por columa"
   ]
  },
  {
   "cell_type": "code",
   "execution_count": 61,
   "id": "d613eb3d-d4d5-40dc-b71d-6733d477b9a1",
   "metadata": {},
   "outputs": [
    {
     "data": {
      "text/plain": [
       "1    1\n",
       "2    6\n",
       "3    3\n",
       "dtype: int64"
      ]
     },
     "execution_count": 61,
     "metadata": {},
     "output_type": "execute_result"
    }
   ],
   "source": [
    "df.min()"
   ]
  },
  {
   "cell_type": "code",
   "execution_count": 62,
   "id": "f3bda0e4-375a-4611-a153-e8365b6ffd8e",
   "metadata": {},
   "outputs": [],
   "source": [
    "# Para saber el maximo por fila"
   ]
  },
  {
   "cell_type": "code",
   "execution_count": 64,
   "id": "57ace413-cf00-4a63-b5e0-0c61d5e79cd8",
   "metadata": {},
   "outputs": [
    {
     "data": {
      "text/html": [
       "<div>\n",
       "<style scoped>\n",
       "    .dataframe tbody tr th:only-of-type {\n",
       "        vertical-align: middle;\n",
       "    }\n",
       "\n",
       "    .dataframe tbody tr th {\n",
       "        vertical-align: top;\n",
       "    }\n",
       "\n",
       "    .dataframe thead th {\n",
       "        text-align: right;\n",
       "    }\n",
       "</style>\n",
       "<table border=\"1\" class=\"dataframe\">\n",
       "  <thead>\n",
       "    <tr style=\"text-align: right;\">\n",
       "      <th></th>\n",
       "      <th>1</th>\n",
       "      <th>2</th>\n",
       "      <th>3</th>\n",
       "    </tr>\n",
       "  </thead>\n",
       "  <tbody>\n",
       "    <tr>\n",
       "      <th>a</th>\n",
       "      <td>1</td>\n",
       "      <td>8</td>\n",
       "      <td>3</td>\n",
       "    </tr>\n",
       "    <tr>\n",
       "      <th>b</th>\n",
       "      <td>5</td>\n",
       "      <td>6</td>\n",
       "      <td>7</td>\n",
       "    </tr>\n",
       "  </tbody>\n",
       "</table>\n",
       "</div>"
      ],
      "text/plain": [
       "   1  2  3\n",
       "a  1  8  3\n",
       "b  5  6  7"
      ]
     },
     "execution_count": 64,
     "metadata": {},
     "output_type": "execute_result"
    }
   ],
   "source": [
    "df"
   ]
  },
  {
   "cell_type": "code",
   "execution_count": 65,
   "id": "60263519-1246-49ba-ad1b-9d2ce6cacb96",
   "metadata": {},
   "outputs": [
    {
     "data": {
      "text/plain": [
       "a    8\n",
       "b    7\n",
       "dtype: int64"
      ]
     },
     "execution_count": 65,
     "metadata": {},
     "output_type": "execute_result"
    }
   ],
   "source": [
    "df.max(axis=1)"
   ]
  },
  {
   "cell_type": "code",
   "execution_count": 66,
   "id": "01a7a6df-44c8-4c08-9bd5-a9e0b7114687",
   "metadata": {},
   "outputs": [],
   "source": [
    "# Para saber el valor delñ indice"
   ]
  },
  {
   "cell_type": "code",
   "execution_count": 68,
   "id": "0297da81-a3ef-411a-b10f-8ef45928d34c",
   "metadata": {},
   "outputs": [
    {
     "data": {
      "text/html": [
       "<div>\n",
       "<style scoped>\n",
       "    .dataframe tbody tr th:only-of-type {\n",
       "        vertical-align: middle;\n",
       "    }\n",
       "\n",
       "    .dataframe tbody tr th {\n",
       "        vertical-align: top;\n",
       "    }\n",
       "\n",
       "    .dataframe thead th {\n",
       "        text-align: right;\n",
       "    }\n",
       "</style>\n",
       "<table border=\"1\" class=\"dataframe\">\n",
       "  <thead>\n",
       "    <tr style=\"text-align: right;\">\n",
       "      <th></th>\n",
       "      <th>1</th>\n",
       "      <th>2</th>\n",
       "      <th>3</th>\n",
       "    </tr>\n",
       "  </thead>\n",
       "  <tbody>\n",
       "    <tr>\n",
       "      <th>a</th>\n",
       "      <td>1</td>\n",
       "      <td>8</td>\n",
       "      <td>3</td>\n",
       "    </tr>\n",
       "    <tr>\n",
       "      <th>b</th>\n",
       "      <td>5</td>\n",
       "      <td>6</td>\n",
       "      <td>7</td>\n",
       "    </tr>\n",
       "  </tbody>\n",
       "</table>\n",
       "</div>"
      ],
      "text/plain": [
       "   1  2  3\n",
       "a  1  8  3\n",
       "b  5  6  7"
      ]
     },
     "execution_count": 68,
     "metadata": {},
     "output_type": "execute_result"
    }
   ],
   "source": [
    "df"
   ]
  },
  {
   "cell_type": "code",
   "execution_count": 69,
   "id": "15badf16-318e-462f-aebe-7d71a45a9100",
   "metadata": {},
   "outputs": [
    {
     "data": {
      "text/plain": [
       "1    a\n",
       "2    b\n",
       "3    a\n",
       "dtype: object"
      ]
     },
     "execution_count": 69,
     "metadata": {},
     "output_type": "execute_result"
    }
   ],
   "source": [
    "df.idxmin()"
   ]
  },
  {
   "cell_type": "code",
   "execution_count": 70,
   "id": "a98ccab3-6a08-4cfd-a601-891b613d3028",
   "metadata": {},
   "outputs": [
    {
     "data": {
      "text/html": [
       "<div>\n",
       "<style scoped>\n",
       "    .dataframe tbody tr th:only-of-type {\n",
       "        vertical-align: middle;\n",
       "    }\n",
       "\n",
       "    .dataframe tbody tr th {\n",
       "        vertical-align: top;\n",
       "    }\n",
       "\n",
       "    .dataframe thead th {\n",
       "        text-align: right;\n",
       "    }\n",
       "</style>\n",
       "<table border=\"1\" class=\"dataframe\">\n",
       "  <thead>\n",
       "    <tr style=\"text-align: right;\">\n",
       "      <th></th>\n",
       "      <th>1</th>\n",
       "      <th>2</th>\n",
       "      <th>3</th>\n",
       "    </tr>\n",
       "  </thead>\n",
       "  <tbody>\n",
       "    <tr>\n",
       "      <th>count</th>\n",
       "      <td>2.000000</td>\n",
       "      <td>2.000000</td>\n",
       "      <td>2.000000</td>\n",
       "    </tr>\n",
       "    <tr>\n",
       "      <th>mean</th>\n",
       "      <td>3.000000</td>\n",
       "      <td>7.000000</td>\n",
       "      <td>5.000000</td>\n",
       "    </tr>\n",
       "    <tr>\n",
       "      <th>std</th>\n",
       "      <td>2.828427</td>\n",
       "      <td>1.414214</td>\n",
       "      <td>2.828427</td>\n",
       "    </tr>\n",
       "    <tr>\n",
       "      <th>min</th>\n",
       "      <td>1.000000</td>\n",
       "      <td>6.000000</td>\n",
       "      <td>3.000000</td>\n",
       "    </tr>\n",
       "    <tr>\n",
       "      <th>25%</th>\n",
       "      <td>2.000000</td>\n",
       "      <td>6.500000</td>\n",
       "      <td>4.000000</td>\n",
       "    </tr>\n",
       "    <tr>\n",
       "      <th>50%</th>\n",
       "      <td>3.000000</td>\n",
       "      <td>7.000000</td>\n",
       "      <td>5.000000</td>\n",
       "    </tr>\n",
       "    <tr>\n",
       "      <th>75%</th>\n",
       "      <td>4.000000</td>\n",
       "      <td>7.500000</td>\n",
       "      <td>6.000000</td>\n",
       "    </tr>\n",
       "    <tr>\n",
       "      <th>max</th>\n",
       "      <td>5.000000</td>\n",
       "      <td>8.000000</td>\n",
       "      <td>7.000000</td>\n",
       "    </tr>\n",
       "  </tbody>\n",
       "</table>\n",
       "</div>"
      ],
      "text/plain": [
       "              1         2         3\n",
       "count  2.000000  2.000000  2.000000\n",
       "mean   3.000000  7.000000  5.000000\n",
       "std    2.828427  1.414214  2.828427\n",
       "min    1.000000  6.000000  3.000000\n",
       "25%    2.000000  6.500000  4.000000\n",
       "50%    3.000000  7.000000  5.000000\n",
       "75%    4.000000  7.500000  6.000000\n",
       "max    5.000000  8.000000  7.000000"
      ]
     },
     "execution_count": 70,
     "metadata": {},
     "output_type": "execute_result"
    }
   ],
   "source": [
    " df.describe()"
   ]
  },
  {
   "cell_type": "markdown",
   "id": "8fa4a253-6343-489d-8534-889f4c259a9a",
   "metadata": {
    "jp-MarkdownHeadingCollapsed": true,
    "tags": []
   },
   "source": [
    "# Valores Nulos con Numpy"
   ]
  },
  {
   "cell_type": "code",
   "execution_count": 71,
   "id": "4114d019-2594-4e04-bf5b-2e04231478bc",
   "metadata": {},
   "outputs": [],
   "source": [
    "import pandas as pd\n",
    "import numpy as np"
   ]
  },
  {
   "cell_type": "code",
   "execution_count": 72,
   "id": "de0410a6-9347-4b62-b103-6044c77b391a",
   "metadata": {},
   "outputs": [
    {
     "data": {
      "text/plain": [
       "['1', '2', nan, '4']"
      ]
     },
     "execution_count": 72,
     "metadata": {},
     "output_type": "execute_result"
    }
   ],
   "source": [
    "lista_valores = ['1','2',np.nan, '4']\n",
    "lista_valores"
   ]
  },
  {
   "cell_type": "code",
   "execution_count": 73,
   "id": "93ed2b88-9d2d-4297-bbd5-29566b6e2ee5",
   "metadata": {},
   "outputs": [
    {
     "data": {
      "text/plain": [
       "a      1\n",
       "b      2\n",
       "c    NaN\n",
       "d      4\n",
       "dtype: object"
      ]
     },
     "execution_count": 73,
     "metadata": {},
     "output_type": "execute_result"
    }
   ],
   "source": [
    "serie = pd.Series(lista_valores, index=list('abcd'))\n",
    "serie"
   ]
  },
  {
   "cell_type": "code",
   "execution_count": 74,
   "id": "ac2f9deb-18b6-4999-8670-7a6ca246d328",
   "metadata": {},
   "outputs": [
    {
     "data": {
      "text/plain": [
       "a    False\n",
       "b    False\n",
       "c     True\n",
       "d    False\n",
       "dtype: bool"
      ]
     },
     "execution_count": 74,
     "metadata": {},
     "output_type": "execute_result"
    }
   ],
   "source": [
    "serie.isnull()"
   ]
  },
  {
   "cell_type": "code",
   "execution_count": 75,
   "id": "3fe77c57-47ff-4aa6-afce-85e1210e3407",
   "metadata": {},
   "outputs": [
    {
     "data": {
      "text/plain": [
       "a    1\n",
       "b    2\n",
       "d    4\n",
       "dtype: object"
      ]
     },
     "execution_count": 75,
     "metadata": {},
     "output_type": "execute_result"
    }
   ],
   "source": [
    "serie.dropna()"
   ]
  },
  {
   "cell_type": "code",
   "execution_count": 76,
   "id": "b44ad073-5b54-436b-8c1e-4b3d04039c6a",
   "metadata": {},
   "outputs": [
    {
     "data": {
      "text/plain": [
       "a      1\n",
       "b      2\n",
       "c    NaN\n",
       "d      4\n",
       "dtype: object"
      ]
     },
     "execution_count": 76,
     "metadata": {},
     "output_type": "execute_result"
    }
   ],
   "source": [
    "serie"
   ]
  },
  {
   "cell_type": "markdown",
   "id": "dbd0c8fa-c797-4279-a41a-8103301fb9c0",
   "metadata": {
    "jp-MarkdownHeadingCollapsed": true,
    "tags": []
   },
   "source": [
    "# Valores Nulos con Pandas"
   ]
  },
  {
   "cell_type": "code",
   "execution_count": 77,
   "id": "b0417090-593a-435e-966b-a106d95b659f",
   "metadata": {},
   "outputs": [
    {
     "data": {
      "text/plain": [
       "[[1, 2, 3], [4, nan, 5], [6, 7, nan]]"
      ]
     },
     "execution_count": 77,
     "metadata": {},
     "output_type": "execute_result"
    }
   ],
   "source": [
    "listaValores = [[1,2,3], [4,np.nan,5],[6,7, np.nan]]\n",
    "listaValores"
   ]
  },
  {
   "cell_type": "code",
   "execution_count": 80,
   "id": "b973d327-6f00-4564-aa95-266b613c7542",
   "metadata": {},
   "outputs": [
    {
     "data": {
      "text/plain": [
       "[[1, 2, 3], [4, nan, 5], [6, 7, nan]]"
      ]
     },
     "execution_count": 80,
     "metadata": {},
     "output_type": "execute_result"
    }
   ],
   "source": [
    "listaValores"
   ]
  },
  {
   "cell_type": "code",
   "execution_count": 81,
   "id": "97080aa2-2365-4d70-acb9-73e16ffedda8",
   "metadata": {},
   "outputs": [
    {
     "data": {
      "text/plain": [
       "['1', '2', '3']"
      ]
     },
     "execution_count": 81,
     "metadata": {},
     "output_type": "execute_result"
    }
   ],
   "source": [
    "listaIndices = list('123')\n",
    "listaIndices"
   ]
  },
  {
   "cell_type": "code",
   "execution_count": 82,
   "id": "12e95748-22b4-4f74-bdab-23ce04b18e40",
   "metadata": {},
   "outputs": [
    {
     "data": {
      "text/plain": [
       "['a', 'b', 'c']"
      ]
     },
     "execution_count": 82,
     "metadata": {},
     "output_type": "execute_result"
    }
   ],
   "source": [
    "listaColumnas = list('abc')\n",
    "listaColumnas"
   ]
  },
  {
   "cell_type": "code",
   "execution_count": 83,
   "id": "75f80d54-6f81-4754-922d-6aaad846f721",
   "metadata": {},
   "outputs": [
    {
     "data": {
      "text/html": [
       "<div>\n",
       "<style scoped>\n",
       "    .dataframe tbody tr th:only-of-type {\n",
       "        vertical-align: middle;\n",
       "    }\n",
       "\n",
       "    .dataframe tbody tr th {\n",
       "        vertical-align: top;\n",
       "    }\n",
       "\n",
       "    .dataframe thead th {\n",
       "        text-align: right;\n",
       "    }\n",
       "</style>\n",
       "<table border=\"1\" class=\"dataframe\">\n",
       "  <thead>\n",
       "    <tr style=\"text-align: right;\">\n",
       "      <th></th>\n",
       "      <th>a</th>\n",
       "      <th>b</th>\n",
       "      <th>c</th>\n",
       "    </tr>\n",
       "  </thead>\n",
       "  <tbody>\n",
       "    <tr>\n",
       "      <th>1</th>\n",
       "      <td>1</td>\n",
       "      <td>2.0</td>\n",
       "      <td>3.0</td>\n",
       "    </tr>\n",
       "    <tr>\n",
       "      <th>2</th>\n",
       "      <td>4</td>\n",
       "      <td>NaN</td>\n",
       "      <td>5.0</td>\n",
       "    </tr>\n",
       "    <tr>\n",
       "      <th>3</th>\n",
       "      <td>6</td>\n",
       "      <td>7.0</td>\n",
       "      <td>NaN</td>\n",
       "    </tr>\n",
       "  </tbody>\n",
       "</table>\n",
       "</div>"
      ],
      "text/plain": [
       "   a    b    c\n",
       "1  1  2.0  3.0\n",
       "2  4  NaN  5.0\n",
       "3  6  7.0  NaN"
      ]
     },
     "execution_count": 83,
     "metadata": {},
     "output_type": "execute_result"
    }
   ],
   "source": [
    "df = pd.DataFrame(listaValores, index=listaIndices, columns=listaColumnas)\n",
    "df"
   ]
  },
  {
   "cell_type": "code",
   "execution_count": 84,
   "id": "a49552d8-6d9b-489d-a499-3d5882f29831",
   "metadata": {},
   "outputs": [
    {
     "data": {
      "text/html": [
       "<div>\n",
       "<style scoped>\n",
       "    .dataframe tbody tr th:only-of-type {\n",
       "        vertical-align: middle;\n",
       "    }\n",
       "\n",
       "    .dataframe tbody tr th {\n",
       "        vertical-align: top;\n",
       "    }\n",
       "\n",
       "    .dataframe thead th {\n",
       "        text-align: right;\n",
       "    }\n",
       "</style>\n",
       "<table border=\"1\" class=\"dataframe\">\n",
       "  <thead>\n",
       "    <tr style=\"text-align: right;\">\n",
       "      <th></th>\n",
       "      <th>a</th>\n",
       "      <th>b</th>\n",
       "      <th>c</th>\n",
       "    </tr>\n",
       "  </thead>\n",
       "  <tbody>\n",
       "    <tr>\n",
       "      <th>1</th>\n",
       "      <td>False</td>\n",
       "      <td>False</td>\n",
       "      <td>False</td>\n",
       "    </tr>\n",
       "    <tr>\n",
       "      <th>2</th>\n",
       "      <td>False</td>\n",
       "      <td>True</td>\n",
       "      <td>False</td>\n",
       "    </tr>\n",
       "    <tr>\n",
       "      <th>3</th>\n",
       "      <td>False</td>\n",
       "      <td>False</td>\n",
       "      <td>True</td>\n",
       "    </tr>\n",
       "  </tbody>\n",
       "</table>\n",
       "</div>"
      ],
      "text/plain": [
       "       a      b      c\n",
       "1  False  False  False\n",
       "2  False   True  False\n",
       "3  False  False   True"
      ]
     },
     "execution_count": 84,
     "metadata": {},
     "output_type": "execute_result"
    }
   ],
   "source": [
    "df.isnull()"
   ]
  },
  {
   "cell_type": "code",
   "execution_count": 85,
   "id": "66ba1e6e-89f7-4a94-9a03-4c07f8f713a5",
   "metadata": {},
   "outputs": [
    {
     "data": {
      "text/html": [
       "<div>\n",
       "<style scoped>\n",
       "    .dataframe tbody tr th:only-of-type {\n",
       "        vertical-align: middle;\n",
       "    }\n",
       "\n",
       "    .dataframe tbody tr th {\n",
       "        vertical-align: top;\n",
       "    }\n",
       "\n",
       "    .dataframe thead th {\n",
       "        text-align: right;\n",
       "    }\n",
       "</style>\n",
       "<table border=\"1\" class=\"dataframe\">\n",
       "  <thead>\n",
       "    <tr style=\"text-align: right;\">\n",
       "      <th></th>\n",
       "      <th>a</th>\n",
       "      <th>b</th>\n",
       "      <th>c</th>\n",
       "    </tr>\n",
       "  </thead>\n",
       "  <tbody>\n",
       "    <tr>\n",
       "      <th>1</th>\n",
       "      <td>1</td>\n",
       "      <td>2.0</td>\n",
       "      <td>3.0</td>\n",
       "    </tr>\n",
       "  </tbody>\n",
       "</table>\n",
       "</div>"
      ],
      "text/plain": [
       "   a    b    c\n",
       "1  1  2.0  3.0"
      ]
     },
     "execution_count": 85,
     "metadata": {},
     "output_type": "execute_result"
    }
   ],
   "source": [
    "df.dropna()"
   ]
  },
  {
   "cell_type": "code",
   "execution_count": 86,
   "id": "c17c6463-897e-4d5c-b6a8-58f2926f416e",
   "metadata": {},
   "outputs": [
    {
     "data": {
      "text/html": [
       "<div>\n",
       "<style scoped>\n",
       "    .dataframe tbody tr th:only-of-type {\n",
       "        vertical-align: middle;\n",
       "    }\n",
       "\n",
       "    .dataframe tbody tr th {\n",
       "        vertical-align: top;\n",
       "    }\n",
       "\n",
       "    .dataframe thead th {\n",
       "        text-align: right;\n",
       "    }\n",
       "</style>\n",
       "<table border=\"1\" class=\"dataframe\">\n",
       "  <thead>\n",
       "    <tr style=\"text-align: right;\">\n",
       "      <th></th>\n",
       "      <th>a</th>\n",
       "      <th>b</th>\n",
       "      <th>c</th>\n",
       "    </tr>\n",
       "  </thead>\n",
       "  <tbody>\n",
       "    <tr>\n",
       "      <th>1</th>\n",
       "      <td>1</td>\n",
       "      <td>2.0</td>\n",
       "      <td>3.0</td>\n",
       "    </tr>\n",
       "    <tr>\n",
       "      <th>2</th>\n",
       "      <td>4</td>\n",
       "      <td>NaN</td>\n",
       "      <td>5.0</td>\n",
       "    </tr>\n",
       "    <tr>\n",
       "      <th>3</th>\n",
       "      <td>6</td>\n",
       "      <td>7.0</td>\n",
       "      <td>NaN</td>\n",
       "    </tr>\n",
       "  </tbody>\n",
       "</table>\n",
       "</div>"
      ],
      "text/plain": [
       "   a    b    c\n",
       "1  1  2.0  3.0\n",
       "2  4  NaN  5.0\n",
       "3  6  7.0  NaN"
      ]
     },
     "execution_count": 86,
     "metadata": {},
     "output_type": "execute_result"
    }
   ],
   "source": [
    "df"
   ]
  },
  {
   "cell_type": "raw",
   "id": "ca8a0d7b-03ba-44d0-8973-def3c4e5d881",
   "metadata": {},
   "source": [
    "# Para llenar los valores nulos con algun valores ejemplo 0"
   ]
  },
  {
   "cell_type": "code",
   "execution_count": 87,
   "id": "59716ac6-8e62-4628-a4fb-afd23c9a48a9",
   "metadata": {},
   "outputs": [
    {
     "data": {
      "text/html": [
       "<div>\n",
       "<style scoped>\n",
       "    .dataframe tbody tr th:only-of-type {\n",
       "        vertical-align: middle;\n",
       "    }\n",
       "\n",
       "    .dataframe tbody tr th {\n",
       "        vertical-align: top;\n",
       "    }\n",
       "\n",
       "    .dataframe thead th {\n",
       "        text-align: right;\n",
       "    }\n",
       "</style>\n",
       "<table border=\"1\" class=\"dataframe\">\n",
       "  <thead>\n",
       "    <tr style=\"text-align: right;\">\n",
       "      <th></th>\n",
       "      <th>a</th>\n",
       "      <th>b</th>\n",
       "      <th>c</th>\n",
       "    </tr>\n",
       "  </thead>\n",
       "  <tbody>\n",
       "    <tr>\n",
       "      <th>1</th>\n",
       "      <td>1</td>\n",
       "      <td>2.0</td>\n",
       "      <td>3.0</td>\n",
       "    </tr>\n",
       "    <tr>\n",
       "      <th>2</th>\n",
       "      <td>4</td>\n",
       "      <td>0.0</td>\n",
       "      <td>5.0</td>\n",
       "    </tr>\n",
       "    <tr>\n",
       "      <th>3</th>\n",
       "      <td>6</td>\n",
       "      <td>7.0</td>\n",
       "      <td>0.0</td>\n",
       "    </tr>\n",
       "  </tbody>\n",
       "</table>\n",
       "</div>"
      ],
      "text/plain": [
       "   a    b    c\n",
       "1  1  2.0  3.0\n",
       "2  4  0.0  5.0\n",
       "3  6  7.0  0.0"
      ]
     },
     "execution_count": 87,
     "metadata": {},
     "output_type": "execute_result"
    }
   ],
   "source": [
    "df.fillna(0)"
   ]
  },
  {
   "cell_type": "markdown",
   "id": "dc454c17-74f8-40f1-ac46-f589a5ecad1a",
   "metadata": {
    "jp-MarkdownHeadingCollapsed": true,
    "tags": []
   },
   "source": [
    "# Jerarquia en los Indices"
   ]
  },
  {
   "cell_type": "code",
   "execution_count": 107,
   "id": "4eca56ac-5c2d-4331-929a-95c3c75a4402",
   "metadata": {},
   "outputs": [],
   "source": [
    "import pandas as pd\n",
    "import numpy as np"
   ]
  },
  {
   "cell_type": "code",
   "execution_count": 108,
   "id": "667fb14b-6947-4b49-8746-fda6ff8314f5",
   "metadata": {},
   "outputs": [
    {
     "data": {
      "text/plain": [
       "array([ 0.79466758, -0.5386715 , -0.16171622,  1.15927696,  0.11995435,\n",
       "        0.5480753 ])"
      ]
     },
     "execution_count": 108,
     "metadata": {},
     "output_type": "execute_result"
    }
   ],
   "source": [
    "listaValores = np.random.randn(6)\n",
    "listaValores"
   ]
  },
  {
   "cell_type": "code",
   "execution_count": 109,
   "id": "853ba47c-605a-4aa6-a287-89fdf7e31e5b",
   "metadata": {},
   "outputs": [
    {
     "data": {
      "text/plain": [
       "[[1, 1, 1, 2, 2, 2], ['a', 'b', 'c', 'a', 'b', 'c']]"
      ]
     },
     "execution_count": 109,
     "metadata": {},
     "output_type": "execute_result"
    }
   ],
   "source": [
    "listaIndices = [[1,1,1,2,2,2,], ['a','b','c','a','b','c']]\n",
    "listaIndices"
   ]
  },
  {
   "cell_type": "code",
   "execution_count": 110,
   "id": "d10af02c-2ec5-48ba-9999-22c2f02b9a9e",
   "metadata": {},
   "outputs": [
    {
     "data": {
      "text/plain": [
       "1  a    0.794668\n",
       "   b   -0.538672\n",
       "   c   -0.161716\n",
       "2  a    1.159277\n",
       "   b    0.119954\n",
       "   c    0.548075\n",
       "dtype: float64"
      ]
     },
     "execution_count": 110,
     "metadata": {},
     "output_type": "execute_result"
    }
   ],
   "source": [
    "serie =  pd.Series(listaValores, index=listaIndices)\n",
    "serie"
   ]
  },
  {
   "cell_type": "raw",
   "id": "a5ef6f40-73cf-44c3-99aa-3c609c00273b",
   "metadata": {},
   "source": [
    "# Para sacar todos los sub indices del indice 2"
   ]
  },
  {
   "cell_type": "code",
   "execution_count": 111,
   "id": "36a95125-6832-437c-bd77-fa999b6400d0",
   "metadata": {},
   "outputs": [
    {
     "data": {
      "text/plain": [
       "a    1.159277\n",
       "b    0.119954\n",
       "c    0.548075\n",
       "dtype: float64"
      ]
     },
     "execution_count": 111,
     "metadata": {},
     "output_type": "execute_result"
    }
   ],
   "source": [
    "serie[2]"
   ]
  },
  {
   "cell_type": "raw",
   "id": "d9631322-89ac-43cd-8ed3-b04e97232a3d",
   "metadata": {},
   "source": [
    "# si queremos un sub indice especifico del 1 por ejemplo"
   ]
  },
  {
   "cell_type": "code",
   "execution_count": 112,
   "id": "c6f74c34-1c31-4196-baf8-dddffbc8839a",
   "metadata": {},
   "outputs": [
    {
     "data": {
      "text/plain": [
       "-0.5386715044654986"
      ]
     },
     "execution_count": 112,
     "metadata": {},
     "output_type": "execute_result"
    }
   ],
   "source": [
    "serie[1]['b']"
   ]
  },
  {
   "cell_type": "code",
   "execution_count": 113,
   "id": "23c7f926-0b29-4e54-83b1-ebe65afdc265",
   "metadata": {},
   "outputs": [
    {
     "data": {
      "text/plain": [
       "1  a    0.794668\n",
       "   b   -0.538672\n",
       "   c   -0.161716\n",
       "2  a    1.159277\n",
       "   b    0.119954\n",
       "   c    0.548075\n",
       "dtype: float64"
      ]
     },
     "execution_count": 113,
     "metadata": {},
     "output_type": "execute_result"
    }
   ],
   "source": [
    "serie"
   ]
  },
  {
   "cell_type": "raw",
   "id": "8439522a-d498-4fc5-aa6a-49df141ff9b5",
   "metadata": {},
   "source": [
    "# Para convertir un indice en columna usamos la funcion "
   ]
  },
  {
   "cell_type": "code",
   "execution_count": 114,
   "id": "71160263-6e83-4975-b8c2-5c64dcde8731",
   "metadata": {},
   "outputs": [
    {
     "data": {
      "text/html": [
       "<div>\n",
       "<style scoped>\n",
       "    .dataframe tbody tr th:only-of-type {\n",
       "        vertical-align: middle;\n",
       "    }\n",
       "\n",
       "    .dataframe tbody tr th {\n",
       "        vertical-align: top;\n",
       "    }\n",
       "\n",
       "    .dataframe thead th {\n",
       "        text-align: right;\n",
       "    }\n",
       "</style>\n",
       "<table border=\"1\" class=\"dataframe\">\n",
       "  <thead>\n",
       "    <tr style=\"text-align: right;\">\n",
       "      <th></th>\n",
       "      <th>a</th>\n",
       "      <th>b</th>\n",
       "      <th>c</th>\n",
       "    </tr>\n",
       "  </thead>\n",
       "  <tbody>\n",
       "    <tr>\n",
       "      <th>1</th>\n",
       "      <td>0.794668</td>\n",
       "      <td>-0.538672</td>\n",
       "      <td>-0.161716</td>\n",
       "    </tr>\n",
       "    <tr>\n",
       "      <th>2</th>\n",
       "      <td>1.159277</td>\n",
       "      <td>0.119954</td>\n",
       "      <td>0.548075</td>\n",
       "    </tr>\n",
       "  </tbody>\n",
       "</table>\n",
       "</div>"
      ],
      "text/plain": [
       "          a         b         c\n",
       "1  0.794668 -0.538672 -0.161716\n",
       "2  1.159277  0.119954  0.548075"
      ]
     },
     "execution_count": 114,
     "metadata": {},
     "output_type": "execute_result"
    }
   ],
   "source": [
    "df = serie.unstack()\n",
    "df"
   ]
  },
  {
   "cell_type": "raw",
   "id": "cfbc5a36-5d81-44ad-95f1-4fc4e86ee8aa",
   "metadata": {},
   "source": [
    "# ahora invertido"
   ]
  },
  {
   "cell_type": "code",
   "execution_count": 115,
   "id": "3f599f2b-06fe-45fb-979f-13375272eab9",
   "metadata": {},
   "outputs": [
    {
     "data": {
      "text/plain": [
       "array([[ 0,  1,  2,  3],\n",
       "       [ 4,  5,  6,  7],\n",
       "       [ 8,  9, 10, 11],\n",
       "       [12, 13, 14, 15]])"
      ]
     },
     "execution_count": 115,
     "metadata": {},
     "output_type": "execute_result"
    }
   ],
   "source": [
    "lista_Valores = np.arange(16).reshape(4,4)\n",
    "lista_Valores"
   ]
  },
  {
   "cell_type": "code",
   "execution_count": 116,
   "id": "5cc09bfc-7173-448b-a68c-c2d791e8d8df",
   "metadata": {},
   "outputs": [],
   "source": [
    "lista_indices = list('1234')\n",
    "lista_columnas = list('abcd')"
   ]
  },
  {
   "cell_type": "code",
   "execution_count": 117,
   "id": "57c925e6-ee80-489f-984a-f3fa92ae1c03",
   "metadata": {},
   "outputs": [
    {
     "data": {
      "text/html": [
       "<div>\n",
       "<style scoped>\n",
       "    .dataframe tbody tr th:only-of-type {\n",
       "        vertical-align: middle;\n",
       "    }\n",
       "\n",
       "    .dataframe tbody tr th {\n",
       "        vertical-align: top;\n",
       "    }\n",
       "\n",
       "    .dataframe thead th {\n",
       "        text-align: right;\n",
       "    }\n",
       "</style>\n",
       "<table border=\"1\" class=\"dataframe\">\n",
       "  <thead>\n",
       "    <tr style=\"text-align: right;\">\n",
       "      <th></th>\n",
       "      <th>a</th>\n",
       "      <th>b</th>\n",
       "      <th>c</th>\n",
       "      <th>d</th>\n",
       "    </tr>\n",
       "  </thead>\n",
       "  <tbody>\n",
       "    <tr>\n",
       "      <th>1</th>\n",
       "      <td>0</td>\n",
       "      <td>1</td>\n",
       "      <td>2</td>\n",
       "      <td>3</td>\n",
       "    </tr>\n",
       "    <tr>\n",
       "      <th>2</th>\n",
       "      <td>4</td>\n",
       "      <td>5</td>\n",
       "      <td>6</td>\n",
       "      <td>7</td>\n",
       "    </tr>\n",
       "    <tr>\n",
       "      <th>3</th>\n",
       "      <td>8</td>\n",
       "      <td>9</td>\n",
       "      <td>10</td>\n",
       "      <td>11</td>\n",
       "    </tr>\n",
       "    <tr>\n",
       "      <th>4</th>\n",
       "      <td>12</td>\n",
       "      <td>13</td>\n",
       "      <td>14</td>\n",
       "      <td>15</td>\n",
       "    </tr>\n",
       "  </tbody>\n",
       "</table>\n",
       "</div>"
      ],
      "text/plain": [
       "    a   b   c   d\n",
       "1   0   1   2   3\n",
       "2   4   5   6   7\n",
       "3   8   9  10  11\n",
       "4  12  13  14  15"
      ]
     },
     "execution_count": 117,
     "metadata": {},
     "output_type": "execute_result"
    }
   ],
   "source": [
    "df = pd.DataFrame(lista_Valores, index=lista_indices, columns=lista_columnas)\n",
    "df"
   ]
  },
  {
   "cell_type": "code",
   "execution_count": 118,
   "id": "6923816a-dc79-4df1-9176-1ec7054400fd",
   "metadata": {},
   "outputs": [],
   "source": [
    "serie2 = df.stack()"
   ]
  },
  {
   "cell_type": "code",
   "execution_count": 119,
   "id": "e5fe745d-b8a8-4f08-8f22-e2f73b56079c",
   "metadata": {},
   "outputs": [
    {
     "data": {
      "text/plain": [
       "1  a     0\n",
       "   b     1\n",
       "   c     2\n",
       "   d     3\n",
       "2  a     4\n",
       "   b     5\n",
       "   c     6\n",
       "   d     7\n",
       "3  a     8\n",
       "   b     9\n",
       "   c    10\n",
       "   d    11\n",
       "4  a    12\n",
       "   b    13\n",
       "   c    14\n",
       "   d    15\n",
       "dtype: int64"
      ]
     },
     "execution_count": 119,
     "metadata": {},
     "output_type": "execute_result"
    }
   ],
   "source": [
    "serie2"
   ]
  },
  {
   "cell_type": "markdown",
   "id": "c496c71d-1895-4c5e-9945-6a50725e07d4",
   "metadata": {
    "jp-MarkdownHeadingCollapsed": true,
    "tags": []
   },
   "source": [
    "# Ejercicio_1"
   ]
  },
  {
   "cell_type": "raw",
   "id": "27a550f0-4c96-4925-abcc-973afe799a62",
   "metadata": {},
   "source": [
    "Se busca crear 3 clases \"clase1\", \"clase2\", \"clase3\" \n",
    "Se generara un numero aleatorio de alumnos por clase\n",
    "para obtenerlo se usara\n",
    "np.random.randint(minimo,maximo,numero)"
   ]
  },
  {
   "cell_type": "code",
   "execution_count": 127,
   "id": "15c3b7af-542e-4705-a0a4-2e1673425452",
   "metadata": {},
   "outputs": [],
   "source": [
    "import pandas as pd\n",
    "import numpy as np"
   ]
  },
  {
   "cell_type": "code",
   "execution_count": 128,
   "id": "c8189b16-43fc-4ff7-a1d2-826151d24093",
   "metadata": {},
   "outputs": [
    {
     "data": {
      "text/plain": [
       "array([35, 27, 23])"
      ]
     },
     "execution_count": 128,
     "metadata": {},
     "output_type": "execute_result"
    }
   ],
   "source": [
    "mini:int = 10\n",
    "maxi:int = 40\n",
    "num:int = 3\n",
    "alumnos = np.random.randint(mini,maxi,num)\n",
    "alumnos"
   ]
  },
  {
   "cell_type": "code",
   "execution_count": 129,
   "id": "ac242681-4b2f-4bb9-b2fb-7f1381a7ec6f",
   "metadata": {},
   "outputs": [
    {
     "data": {
      "text/plain": [
       "['clase1', 'clase2', 'clase3']"
      ]
     },
     "execution_count": 129,
     "metadata": {},
     "output_type": "execute_result"
    }
   ],
   "source": [
    "clases = ['clase1', 'clase2', 'clase3']\n",
    "clases"
   ]
  },
  {
   "cell_type": "code",
   "execution_count": 130,
   "id": "b4523d02-0c0e-4c84-b9de-30ee34b65d47",
   "metadata": {},
   "outputs": [
    {
     "data": {
      "text/plain": [
       "clase1    35\n",
       "clase2    27\n",
       "clase3    23\n",
       "dtype: int64"
      ]
     },
     "execution_count": 130,
     "metadata": {},
     "output_type": "execute_result"
    }
   ],
   "source": [
    "serie = pd.Series(alumnos, index=clases)\n",
    "serie"
   ]
  },
  {
   "cell_type": "code",
   "execution_count": null,
   "id": "cb77ca22-883a-4749-859d-d19844197a2a",
   "metadata": {},
   "outputs": [],
   "source": [
    "serie['clase']"
   ]
  },
  {
   "cell_type": "markdown",
   "id": "ff444a4f-5c7a-4686-928d-20ba3783e0f4",
   "metadata": {},
   "source": [
    "# Ejercicio 2"
   ]
  },
  {
   "cell_type": "code",
   "execution_count": 10,
   "id": "8368587e-042c-47fc-b78c-ae0c4564100f",
   "metadata": {},
   "outputs": [],
   "source": [
    "# Dado el fichero de excel, mostrar los datos en un dataframe\n",
    "# ya sea usando la función pd.read_clipboard() o pd.read_excel()\n",
    "# Mostrar todos los nosmbres de las columnas\n",
    "# Mostrar la primera fila del dataframe\n",
    "# Mostrar la primera columna del dataframe\n",
    "# Mostrar tordas las fimas pero solo continente y poblaciín\n",
    "# Mostrar las primeras 3 filñas del dataframe\n",
    "# Mostrar las ultimas filas del dataframe\n",
    "\n",
    "\n",
    "import pandas as pd\n",
    "import numpy as np\n",
    "path = 'poblacion.xlsx'"
   ]
  },
  {
   "cell_type": "code",
   "execution_count": 11,
   "id": "fd7f1e87-932b-40c8-867d-e3e35219eafc",
   "metadata": {},
   "outputs": [
    {
     "data": {
      "text/html": [
       "<div>\n",
       "<style scoped>\n",
       "    .dataframe tbody tr th:only-of-type {\n",
       "        vertical-align: middle;\n",
       "    }\n",
       "\n",
       "    .dataframe tbody tr th {\n",
       "        vertical-align: top;\n",
       "    }\n",
       "\n",
       "    .dataframe thead th {\n",
       "        text-align: right;\n",
       "    }\n",
       "</style>\n",
       "<table border=\"1\" class=\"dataframe\">\n",
       "  <thead>\n",
       "    <tr style=\"text-align: right;\">\n",
       "      <th></th>\n",
       "      <th>Continente</th>\n",
       "      <th>Densidad</th>\n",
       "      <th>Superficie</th>\n",
       "      <th>Población</th>\n",
       "      <th>País más poblado</th>\n",
       "      <th>Ciudad más poblada</th>\n",
       "    </tr>\n",
       "  </thead>\n",
       "  <tbody>\n",
       "    <tr>\n",
       "      <th>0</th>\n",
       "      <td>Asia</td>\n",
       "      <td>86.88</td>\n",
       "      <td>43810000</td>\n",
       "      <td>4677291000</td>\n",
       "      <td>China (1.392.240.000)</td>\n",
       "      <td>Tokio (35.682.000)</td>\n",
       "    </tr>\n",
       "    <tr>\n",
       "      <th>1</th>\n",
       "      <td>África</td>\n",
       "      <td>32.70</td>\n",
       "      <td>30370000</td>\n",
       "      <td>1110020000</td>\n",
       "      <td>Nigeria (191.205.000)</td>\n",
       "      <td>El Cairo (16.794.000)</td>\n",
       "    </tr>\n",
       "    <tr>\n",
       "      <th>2</th>\n",
       "      <td>Europa</td>\n",
       "      <td>70.00</td>\n",
       "      <td>10180000</td>\n",
       "      <td>801000000</td>\n",
       "      <td>Rusia (112.000.000)</td>\n",
       "      <td>Moscú (18.940.000)</td>\n",
       "    </tr>\n",
       "    <tr>\n",
       "      <th>3</th>\n",
       "      <td>América</td>\n",
       "      <td>23.50</td>\n",
       "      <td>42330000</td>\n",
       "      <td>1094215000</td>\n",
       "      <td>Estados Unidos (330.028.000)</td>\n",
       "      <td>Ciudad de México (22.577.000)</td>\n",
       "    </tr>\n",
       "    <tr>\n",
       "      <th>4</th>\n",
       "      <td>Oceanía</td>\n",
       "      <td>4.25</td>\n",
       "      <td>9008500</td>\n",
       "      <td>40201000</td>\n",
       "      <td>Australia (27.240.000)</td>\n",
       "      <td>Sídney (6.550.000)</td>\n",
       "    </tr>\n",
       "  </tbody>\n",
       "</table>\n",
       "</div>"
      ],
      "text/plain": [
       "  Continente  Densidad  Superficie   Población              País más poblado  \\\n",
       "0       Asia     86.88    43810000  4677291000         China (1.392.240.000)   \n",
       "1     África     32.70    30370000  1110020000         Nigeria (191.205.000)   \n",
       "2     Europa     70.00    10180000   801000000           Rusia (112.000.000)   \n",
       "3    América     23.50    42330000  1094215000  Estados Unidos (330.028.000)   \n",
       "4    Oceanía      4.25     9008500    40201000        Australia (27.240.000)   \n",
       "\n",
       "              Ciudad más poblada  \n",
       "0             Tokio (35.682.000)  \n",
       "1          El Cairo (16.794.000)  \n",
       "2             Moscú (18.940.000)  \n",
       "3  Ciudad de México (22.577.000)  \n",
       "4             Sídney (6.550.000)  "
      ]
     },
     "execution_count": 11,
     "metadata": {},
     "output_type": "execute_result"
    }
   ],
   "source": [
    "datos = pd.read_excel(path)\n",
    "datos"
   ]
  },
  {
   "cell_type": "code",
   "execution_count": 12,
   "id": "08e0b2a6-a2cf-4dd3-a739-16be42af0aa0",
   "metadata": {},
   "outputs": [
    {
     "data": {
      "text/plain": [
       "Index(['Continente', 'Densidad', 'Superficie', 'Población', 'País más poblado',\n",
       "       'Ciudad más poblada'],\n",
       "      dtype='object')"
      ]
     },
     "execution_count": 12,
     "metadata": {},
     "output_type": "execute_result"
    }
   ],
   "source": [
    "datos.columns"
   ]
  },
  {
   "cell_type": "code",
   "execution_count": 13,
   "id": "ba05bb4a-179c-4f7d-a156-de71a076880d",
   "metadata": {},
   "outputs": [
    {
     "data": {
      "text/plain": [
       "0       Asia\n",
       "1     África\n",
       "2     Europa\n",
       "3    América\n",
       "4    Oceanía\n",
       "Name: Continente, dtype: object"
      ]
     },
     "execution_count": 13,
     "metadata": {},
     "output_type": "execute_result"
    }
   ],
   "source": [
    "datos['Continente']"
   ]
  },
  {
   "cell_type": "code",
   "execution_count": 14,
   "id": "e7d62ba9",
   "metadata": {},
   "outputs": [
    {
     "data": {
      "text/plain": [
       "Continente                             Asia\n",
       "Densidad                              86.88\n",
       "Superficie                         43810000\n",
       "Población                        4677291000\n",
       "País más poblado      China (1.392.240.000)\n",
       "Ciudad más poblada       Tokio (35.682.000)\n",
       "Name: 0, dtype: object"
      ]
     },
     "execution_count": 14,
     "metadata": {},
     "output_type": "execute_result"
    }
   ],
   "source": [
    "datos.loc[0]"
   ]
  },
  {
   "cell_type": "code",
   "execution_count": 15,
   "id": "138d4cee",
   "metadata": {},
   "outputs": [
    {
     "data": {
      "text/html": [
       "<div>\n",
       "<style scoped>\n",
       "    .dataframe tbody tr th:only-of-type {\n",
       "        vertical-align: middle;\n",
       "    }\n",
       "\n",
       "    .dataframe tbody tr th {\n",
       "        vertical-align: top;\n",
       "    }\n",
       "\n",
       "    .dataframe thead th {\n",
       "        text-align: right;\n",
       "    }\n",
       "</style>\n",
       "<table border=\"1\" class=\"dataframe\">\n",
       "  <thead>\n",
       "    <tr style=\"text-align: right;\">\n",
       "      <th></th>\n",
       "      <th>Continente</th>\n",
       "      <th>Población</th>\n",
       "    </tr>\n",
       "  </thead>\n",
       "  <tbody>\n",
       "    <tr>\n",
       "      <th>0</th>\n",
       "      <td>Asia</td>\n",
       "      <td>4677291000</td>\n",
       "    </tr>\n",
       "    <tr>\n",
       "      <th>1</th>\n",
       "      <td>África</td>\n",
       "      <td>1110020000</td>\n",
       "    </tr>\n",
       "    <tr>\n",
       "      <th>2</th>\n",
       "      <td>Europa</td>\n",
       "      <td>801000000</td>\n",
       "    </tr>\n",
       "    <tr>\n",
       "      <th>3</th>\n",
       "      <td>América</td>\n",
       "      <td>1094215000</td>\n",
       "    </tr>\n",
       "  </tbody>\n",
       "</table>\n",
       "</div>"
      ],
      "text/plain": [
       "  Continente   Población\n",
       "0       Asia  4677291000\n",
       "1     África  1110020000\n",
       "2     Europa   801000000\n",
       "3    América  1094215000"
      ]
     },
     "execution_count": 15,
     "metadata": {},
     "output_type": "execute_result"
    }
   ],
   "source": [
    "datos.loc[0:3, ['Continente', 'Población']]"
   ]
  },
  {
   "cell_type": "code",
   "execution_count": 16,
   "id": "38726399",
   "metadata": {},
   "outputs": [
    {
     "data": {
      "text/html": [
       "<div>\n",
       "<style scoped>\n",
       "    .dataframe tbody tr th:only-of-type {\n",
       "        vertical-align: middle;\n",
       "    }\n",
       "\n",
       "    .dataframe tbody tr th {\n",
       "        vertical-align: top;\n",
       "    }\n",
       "\n",
       "    .dataframe thead th {\n",
       "        text-align: right;\n",
       "    }\n",
       "</style>\n",
       "<table border=\"1\" class=\"dataframe\">\n",
       "  <thead>\n",
       "    <tr style=\"text-align: right;\">\n",
       "      <th></th>\n",
       "      <th>Continente</th>\n",
       "      <th>Densidad</th>\n",
       "      <th>Superficie</th>\n",
       "      <th>Población</th>\n",
       "      <th>País más poblado</th>\n",
       "      <th>Ciudad más poblada</th>\n",
       "    </tr>\n",
       "  </thead>\n",
       "  <tbody>\n",
       "    <tr>\n",
       "      <th>0</th>\n",
       "      <td>Asia</td>\n",
       "      <td>86.88</td>\n",
       "      <td>43810000</td>\n",
       "      <td>4677291000</td>\n",
       "      <td>China (1.392.240.000)</td>\n",
       "      <td>Tokio (35.682.000)</td>\n",
       "    </tr>\n",
       "    <tr>\n",
       "      <th>1</th>\n",
       "      <td>África</td>\n",
       "      <td>32.70</td>\n",
       "      <td>30370000</td>\n",
       "      <td>1110020000</td>\n",
       "      <td>Nigeria (191.205.000)</td>\n",
       "      <td>El Cairo (16.794.000)</td>\n",
       "    </tr>\n",
       "    <tr>\n",
       "      <th>2</th>\n",
       "      <td>Europa</td>\n",
       "      <td>70.00</td>\n",
       "      <td>10180000</td>\n",
       "      <td>801000000</td>\n",
       "      <td>Rusia (112.000.000)</td>\n",
       "      <td>Moscú (18.940.000)</td>\n",
       "    </tr>\n",
       "  </tbody>\n",
       "</table>\n",
       "</div>"
      ],
      "text/plain": [
       "  Continente  Densidad  Superficie   Población       País más poblado  \\\n",
       "0       Asia     86.88    43810000  4677291000  China (1.392.240.000)   \n",
       "1     África     32.70    30370000  1110020000  Nigeria (191.205.000)   \n",
       "2     Europa     70.00    10180000   801000000    Rusia (112.000.000)   \n",
       "\n",
       "      Ciudad más poblada  \n",
       "0     Tokio (35.682.000)  \n",
       "1  El Cairo (16.794.000)  \n",
       "2     Moscú (18.940.000)  "
      ]
     },
     "execution_count": 16,
     "metadata": {},
     "output_type": "execute_result"
    }
   ],
   "source": [
    "datos.head(3)"
   ]
  },
  {
   "cell_type": "code",
   "execution_count": 17,
   "id": "42360d3c",
   "metadata": {},
   "outputs": [
    {
     "data": {
      "text/html": [
       "<div>\n",
       "<style scoped>\n",
       "    .dataframe tbody tr th:only-of-type {\n",
       "        vertical-align: middle;\n",
       "    }\n",
       "\n",
       "    .dataframe tbody tr th {\n",
       "        vertical-align: top;\n",
       "    }\n",
       "\n",
       "    .dataframe thead th {\n",
       "        text-align: right;\n",
       "    }\n",
       "</style>\n",
       "<table border=\"1\" class=\"dataframe\">\n",
       "  <thead>\n",
       "    <tr style=\"text-align: right;\">\n",
       "      <th></th>\n",
       "      <th>Continente</th>\n",
       "      <th>Densidad</th>\n",
       "      <th>Superficie</th>\n",
       "      <th>Población</th>\n",
       "      <th>País más poblado</th>\n",
       "      <th>Ciudad más poblada</th>\n",
       "    </tr>\n",
       "  </thead>\n",
       "  <tbody>\n",
       "    <tr>\n",
       "      <th>3</th>\n",
       "      <td>América</td>\n",
       "      <td>23.50</td>\n",
       "      <td>42330000</td>\n",
       "      <td>1094215000</td>\n",
       "      <td>Estados Unidos (330.028.000)</td>\n",
       "      <td>Ciudad de México (22.577.000)</td>\n",
       "    </tr>\n",
       "    <tr>\n",
       "      <th>4</th>\n",
       "      <td>Oceanía</td>\n",
       "      <td>4.25</td>\n",
       "      <td>9008500</td>\n",
       "      <td>40201000</td>\n",
       "      <td>Australia (27.240.000)</td>\n",
       "      <td>Sídney (6.550.000)</td>\n",
       "    </tr>\n",
       "  </tbody>\n",
       "</table>\n",
       "</div>"
      ],
      "text/plain": [
       "  Continente  Densidad  Superficie   Población              País más poblado  \\\n",
       "3    América     23.50    42330000  1094215000  Estados Unidos (330.028.000)   \n",
       "4    Oceanía      4.25     9008500    40201000        Australia (27.240.000)   \n",
       "\n",
       "              Ciudad más poblada  \n",
       "3  Ciudad de México (22.577.000)  \n",
       "4             Sídney (6.550.000)  "
      ]
     },
     "execution_count": 17,
     "metadata": {},
     "output_type": "execute_result"
    }
   ],
   "source": [
    "datos.tail(2)"
   ]
  },
  {
   "cell_type": "markdown",
   "id": "d9dd6c6e",
   "metadata": {},
   "source": [
    "# HTML Con Python "
   ]
  },
  {
   "cell_type": "code",
   "execution_count": 33,
   "id": "7659dc60",
   "metadata": {},
   "outputs": [],
   "source": [
    "# Vamos a traernos las tablas de una pagina html \n",
    "import pandas as pd"
   ]
  },
  {
   "cell_type": "code",
   "execution_count": 19,
   "id": "0af58520",
   "metadata": {},
   "outputs": [
    {
     "data": {
      "text/plain": [
       "[         Fecha           Campeón       Resultado        Subcampeón  \\\n",
       " 0   30-07-1930           Uruguay             4:2         Argentina   \n",
       " 1   10-06-1934            Italia       2:1 (pr.)    Checoslovaquia   \n",
       " 2   19-06-1938            Italia             4:2           Hungría   \n",
       " 3   16-07-1950           Uruguay             2:1            Brasil   \n",
       " 4   04-07-1954  Alemania Federal             3:2           Hungría   \n",
       " 5   29-06-1958            Brasil             5:2            Suecia   \n",
       " 6   17-06-1962            Brasil             3:1    Checoslovaquia   \n",
       " 7   30-07-1966        Inglaterra       4:2 (pr.)  Alemania Federal   \n",
       " 8   21-06-1970            Brasil             4:1            Italia   \n",
       " 9   07-07-1974  Alemania Federal             2:1      Países Bajos   \n",
       " 10  25-06-1978         Argentina       3:1 (pr.)      Países Bajos   \n",
       " 11  11-07-1982            Italia             3:1  Alemania Federal   \n",
       " 12  29-06-1986         Argentina             3:2  Alemania Federal   \n",
       " 13  08-07-1990  Alemania Federal             1:0         Argentina   \n",
       " 14  17-07-1994            Brasil  0:0 (3:2 pen.)            Italia   \n",
       " 15  12-07-1998           Francia             3:0            Brasil   \n",
       " 16  30-06-2002            Brasil             2:0          Alemania   \n",
       " 17  09-07-2006            Italia  1:1 (5:3 pen.)           Francia   \n",
       " 18  11-07-2010            España       1:0 (pr.)      Países Bajos   \n",
       " 19  13-07-2014          Alemania       1:0 (pr.)         Argentina   \n",
       " 20  15-07-2018           Francia             4:2           Croacia   \n",
       " 21  18-12-2022               NaN             NaN               NaN   \n",
       " 22  08-07-2026               NaN             NaN               NaN   \n",
       " \n",
       "                               Estadio Espectadores       Localización  \\\n",
       " 0                  Estadio Centenario       68 346         Montevideo   \n",
       " 1            Estadio Nacional del PNF       50 000               Roma   \n",
       " 2                     Stade Olympique       45 124           Colombes   \n",
       " 3                    Estadio Maracaná      199 150     Río de Janeiro   \n",
       " 4                     Wankdorfstadion       60 000              Berna   \n",
       " 5                     Estadio Råsunda       51 800              Solna   \n",
       " 6                    Estadio Nacional       68 679  Santiago de Chile   \n",
       " 7                  Estadio de Wembley       97 924            Londres   \n",
       " 8                      Estadio Azteca      107 412   Ciudad de México   \n",
       " 9                    Estadio Olímpico       75 200             Múnich   \n",
       " 10                 Estadio Monumental       71 483       Buenos Aires   \n",
       " 11                  Santiago Bernabéu       90 000             Madrid   \n",
       " 12                     Estadio Azteca      114 600   Ciudad de México   \n",
       " 13                   Estadio Olímpico       73 603               Roma   \n",
       " 14                  Estadio Rose Bowl       94 194           Pasadena   \n",
       " 15                    Stade de France       80 000        Saint-Denis   \n",
       " 16  Estadio Internacional de Yokohama       69 029           Yokohama   \n",
       " 17                   Estadio Olímpico       69 000             Berlín   \n",
       " 18                Estadio Soccer City       84 490      Johannesburgo   \n",
       " 19                   Estadio Maracaná       74 738     Río de Janeiro   \n",
       " 20          Estadio Olímpico Luzhnikí       78 011              Moscú   \n",
       " 21         Estadio Nacional de Lusail          NaN             Lusail   \n",
       " 22                    MetLife Stadium          NaN    East Rutherford   \n",
       " \n",
       "          Notas  \n",
       " 0     [4]​[5]​  \n",
       " 1     [6]​[7]​  \n",
       " 2     [8]​[9]​  \n",
       " 3   [10]​[11]​  \n",
       " 4   [12]​[13]​  \n",
       " 5   [14]​[15]​  \n",
       " 6   [16]​[17]​  \n",
       " 7   [18]​[19]​  \n",
       " 8   [20]​[21]​  \n",
       " 9   [22]​[23]​  \n",
       " 10  [24]​[25]​  \n",
       " 11  [26]​[27]​  \n",
       " 12  [28]​[29]​  \n",
       " 13  [30]​[31]​  \n",
       " 14  [32]​[33]​  \n",
       " 15  [34]​[35]​  \n",
       " 16  [36]​[37]​  \n",
       " 17  [38]​[39]​  \n",
       " 18       [40]​  \n",
       " 19       [41]​  \n",
       " 20       [42]​  \n",
       " 21         NaN  \n",
       " 22         NaN  ]"
      ]
     },
     "execution_count": 19,
     "metadata": {},
     "output_type": "execute_result"
    }
   ],
   "source": [
    "url = 'https://es.wikipedia.org/wiki/Anexo:Finales_de_la_Copa_Mundial_de_F%C3%BAtbol'\n",
    "df = pd.io.html.read_html(url)\n",
    "df"
   ]
  },
  {
   "cell_type": "code",
   "execution_count": 20,
   "id": "b559022e",
   "metadata": {},
   "outputs": [
    {
     "data": {
      "text/html": [
       "<div>\n",
       "<style scoped>\n",
       "    .dataframe tbody tr th:only-of-type {\n",
       "        vertical-align: middle;\n",
       "    }\n",
       "\n",
       "    .dataframe tbody tr th {\n",
       "        vertical-align: top;\n",
       "    }\n",
       "\n",
       "    .dataframe thead th {\n",
       "        text-align: right;\n",
       "    }\n",
       "</style>\n",
       "<table border=\"1\" class=\"dataframe\">\n",
       "  <thead>\n",
       "    <tr style=\"text-align: right;\">\n",
       "      <th></th>\n",
       "      <th>Fecha</th>\n",
       "      <th>Campeón</th>\n",
       "      <th>Resultado</th>\n",
       "      <th>Subcampeón</th>\n",
       "      <th>Estadio</th>\n",
       "      <th>Espectadores</th>\n",
       "      <th>Localización</th>\n",
       "      <th>Notas</th>\n",
       "    </tr>\n",
       "  </thead>\n",
       "  <tbody>\n",
       "    <tr>\n",
       "      <th>0</th>\n",
       "      <td>30-07-1930</td>\n",
       "      <td>Uruguay</td>\n",
       "      <td>4:2</td>\n",
       "      <td>Argentina</td>\n",
       "      <td>Estadio Centenario</td>\n",
       "      <td>68 346</td>\n",
       "      <td>Montevideo</td>\n",
       "      <td>[4]​[5]​</td>\n",
       "    </tr>\n",
       "    <tr>\n",
       "      <th>1</th>\n",
       "      <td>10-06-1934</td>\n",
       "      <td>Italia</td>\n",
       "      <td>2:1 (pr.)</td>\n",
       "      <td>Checoslovaquia</td>\n",
       "      <td>Estadio Nacional del PNF</td>\n",
       "      <td>50 000</td>\n",
       "      <td>Roma</td>\n",
       "      <td>[6]​[7]​</td>\n",
       "    </tr>\n",
       "    <tr>\n",
       "      <th>2</th>\n",
       "      <td>19-06-1938</td>\n",
       "      <td>Italia</td>\n",
       "      <td>4:2</td>\n",
       "      <td>Hungría</td>\n",
       "      <td>Stade Olympique</td>\n",
       "      <td>45 124</td>\n",
       "      <td>Colombes</td>\n",
       "      <td>[8]​[9]​</td>\n",
       "    </tr>\n",
       "    <tr>\n",
       "      <th>3</th>\n",
       "      <td>16-07-1950</td>\n",
       "      <td>Uruguay</td>\n",
       "      <td>2:1</td>\n",
       "      <td>Brasil</td>\n",
       "      <td>Estadio Maracaná</td>\n",
       "      <td>199 150</td>\n",
       "      <td>Río de Janeiro</td>\n",
       "      <td>[10]​[11]​</td>\n",
       "    </tr>\n",
       "    <tr>\n",
       "      <th>4</th>\n",
       "      <td>04-07-1954</td>\n",
       "      <td>Alemania Federal</td>\n",
       "      <td>3:2</td>\n",
       "      <td>Hungría</td>\n",
       "      <td>Wankdorfstadion</td>\n",
       "      <td>60 000</td>\n",
       "      <td>Berna</td>\n",
       "      <td>[12]​[13]​</td>\n",
       "    </tr>\n",
       "    <tr>\n",
       "      <th>5</th>\n",
       "      <td>29-06-1958</td>\n",
       "      <td>Brasil</td>\n",
       "      <td>5:2</td>\n",
       "      <td>Suecia</td>\n",
       "      <td>Estadio Råsunda</td>\n",
       "      <td>51 800</td>\n",
       "      <td>Solna</td>\n",
       "      <td>[14]​[15]​</td>\n",
       "    </tr>\n",
       "    <tr>\n",
       "      <th>6</th>\n",
       "      <td>17-06-1962</td>\n",
       "      <td>Brasil</td>\n",
       "      <td>3:1</td>\n",
       "      <td>Checoslovaquia</td>\n",
       "      <td>Estadio Nacional</td>\n",
       "      <td>68 679</td>\n",
       "      <td>Santiago de Chile</td>\n",
       "      <td>[16]​[17]​</td>\n",
       "    </tr>\n",
       "    <tr>\n",
       "      <th>7</th>\n",
       "      <td>30-07-1966</td>\n",
       "      <td>Inglaterra</td>\n",
       "      <td>4:2 (pr.)</td>\n",
       "      <td>Alemania Federal</td>\n",
       "      <td>Estadio de Wembley</td>\n",
       "      <td>97 924</td>\n",
       "      <td>Londres</td>\n",
       "      <td>[18]​[19]​</td>\n",
       "    </tr>\n",
       "    <tr>\n",
       "      <th>8</th>\n",
       "      <td>21-06-1970</td>\n",
       "      <td>Brasil</td>\n",
       "      <td>4:1</td>\n",
       "      <td>Italia</td>\n",
       "      <td>Estadio Azteca</td>\n",
       "      <td>107 412</td>\n",
       "      <td>Ciudad de México</td>\n",
       "      <td>[20]​[21]​</td>\n",
       "    </tr>\n",
       "    <tr>\n",
       "      <th>9</th>\n",
       "      <td>07-07-1974</td>\n",
       "      <td>Alemania Federal</td>\n",
       "      <td>2:1</td>\n",
       "      <td>Países Bajos</td>\n",
       "      <td>Estadio Olímpico</td>\n",
       "      <td>75 200</td>\n",
       "      <td>Múnich</td>\n",
       "      <td>[22]​[23]​</td>\n",
       "    </tr>\n",
       "    <tr>\n",
       "      <th>10</th>\n",
       "      <td>25-06-1978</td>\n",
       "      <td>Argentina</td>\n",
       "      <td>3:1 (pr.)</td>\n",
       "      <td>Países Bajos</td>\n",
       "      <td>Estadio Monumental</td>\n",
       "      <td>71 483</td>\n",
       "      <td>Buenos Aires</td>\n",
       "      <td>[24]​[25]​</td>\n",
       "    </tr>\n",
       "    <tr>\n",
       "      <th>11</th>\n",
       "      <td>11-07-1982</td>\n",
       "      <td>Italia</td>\n",
       "      <td>3:1</td>\n",
       "      <td>Alemania Federal</td>\n",
       "      <td>Santiago Bernabéu</td>\n",
       "      <td>90 000</td>\n",
       "      <td>Madrid</td>\n",
       "      <td>[26]​[27]​</td>\n",
       "    </tr>\n",
       "    <tr>\n",
       "      <th>12</th>\n",
       "      <td>29-06-1986</td>\n",
       "      <td>Argentina</td>\n",
       "      <td>3:2</td>\n",
       "      <td>Alemania Federal</td>\n",
       "      <td>Estadio Azteca</td>\n",
       "      <td>114 600</td>\n",
       "      <td>Ciudad de México</td>\n",
       "      <td>[28]​[29]​</td>\n",
       "    </tr>\n",
       "    <tr>\n",
       "      <th>13</th>\n",
       "      <td>08-07-1990</td>\n",
       "      <td>Alemania Federal</td>\n",
       "      <td>1:0</td>\n",
       "      <td>Argentina</td>\n",
       "      <td>Estadio Olímpico</td>\n",
       "      <td>73 603</td>\n",
       "      <td>Roma</td>\n",
       "      <td>[30]​[31]​</td>\n",
       "    </tr>\n",
       "    <tr>\n",
       "      <th>14</th>\n",
       "      <td>17-07-1994</td>\n",
       "      <td>Brasil</td>\n",
       "      <td>0:0 (3:2 pen.)</td>\n",
       "      <td>Italia</td>\n",
       "      <td>Estadio Rose Bowl</td>\n",
       "      <td>94 194</td>\n",
       "      <td>Pasadena</td>\n",
       "      <td>[32]​[33]​</td>\n",
       "    </tr>\n",
       "    <tr>\n",
       "      <th>15</th>\n",
       "      <td>12-07-1998</td>\n",
       "      <td>Francia</td>\n",
       "      <td>3:0</td>\n",
       "      <td>Brasil</td>\n",
       "      <td>Stade de France</td>\n",
       "      <td>80 000</td>\n",
       "      <td>Saint-Denis</td>\n",
       "      <td>[34]​[35]​</td>\n",
       "    </tr>\n",
       "    <tr>\n",
       "      <th>16</th>\n",
       "      <td>30-06-2002</td>\n",
       "      <td>Brasil</td>\n",
       "      <td>2:0</td>\n",
       "      <td>Alemania</td>\n",
       "      <td>Estadio Internacional de Yokohama</td>\n",
       "      <td>69 029</td>\n",
       "      <td>Yokohama</td>\n",
       "      <td>[36]​[37]​</td>\n",
       "    </tr>\n",
       "    <tr>\n",
       "      <th>17</th>\n",
       "      <td>09-07-2006</td>\n",
       "      <td>Italia</td>\n",
       "      <td>1:1 (5:3 pen.)</td>\n",
       "      <td>Francia</td>\n",
       "      <td>Estadio Olímpico</td>\n",
       "      <td>69 000</td>\n",
       "      <td>Berlín</td>\n",
       "      <td>[38]​[39]​</td>\n",
       "    </tr>\n",
       "    <tr>\n",
       "      <th>18</th>\n",
       "      <td>11-07-2010</td>\n",
       "      <td>España</td>\n",
       "      <td>1:0 (pr.)</td>\n",
       "      <td>Países Bajos</td>\n",
       "      <td>Estadio Soccer City</td>\n",
       "      <td>84 490</td>\n",
       "      <td>Johannesburgo</td>\n",
       "      <td>[40]​</td>\n",
       "    </tr>\n",
       "    <tr>\n",
       "      <th>19</th>\n",
       "      <td>13-07-2014</td>\n",
       "      <td>Alemania</td>\n",
       "      <td>1:0 (pr.)</td>\n",
       "      <td>Argentina</td>\n",
       "      <td>Estadio Maracaná</td>\n",
       "      <td>74 738</td>\n",
       "      <td>Río de Janeiro</td>\n",
       "      <td>[41]​</td>\n",
       "    </tr>\n",
       "    <tr>\n",
       "      <th>20</th>\n",
       "      <td>15-07-2018</td>\n",
       "      <td>Francia</td>\n",
       "      <td>4:2</td>\n",
       "      <td>Croacia</td>\n",
       "      <td>Estadio Olímpico Luzhnikí</td>\n",
       "      <td>78 011</td>\n",
       "      <td>Moscú</td>\n",
       "      <td>[42]​</td>\n",
       "    </tr>\n",
       "    <tr>\n",
       "      <th>21</th>\n",
       "      <td>18-12-2022</td>\n",
       "      <td>NaN</td>\n",
       "      <td>NaN</td>\n",
       "      <td>NaN</td>\n",
       "      <td>Estadio Nacional de Lusail</td>\n",
       "      <td>NaN</td>\n",
       "      <td>Lusail</td>\n",
       "      <td>NaN</td>\n",
       "    </tr>\n",
       "    <tr>\n",
       "      <th>22</th>\n",
       "      <td>08-07-2026</td>\n",
       "      <td>NaN</td>\n",
       "      <td>NaN</td>\n",
       "      <td>NaN</td>\n",
       "      <td>MetLife Stadium</td>\n",
       "      <td>NaN</td>\n",
       "      <td>East Rutherford</td>\n",
       "      <td>NaN</td>\n",
       "    </tr>\n",
       "  </tbody>\n",
       "</table>\n",
       "</div>"
      ],
      "text/plain": [
       "         Fecha           Campeón       Resultado        Subcampeón  \\\n",
       "0   30-07-1930           Uruguay             4:2         Argentina   \n",
       "1   10-06-1934            Italia       2:1 (pr.)    Checoslovaquia   \n",
       "2   19-06-1938            Italia             4:2           Hungría   \n",
       "3   16-07-1950           Uruguay             2:1            Brasil   \n",
       "4   04-07-1954  Alemania Federal             3:2           Hungría   \n",
       "5   29-06-1958            Brasil             5:2            Suecia   \n",
       "6   17-06-1962            Brasil             3:1    Checoslovaquia   \n",
       "7   30-07-1966        Inglaterra       4:2 (pr.)  Alemania Federal   \n",
       "8   21-06-1970            Brasil             4:1            Italia   \n",
       "9   07-07-1974  Alemania Federal             2:1      Países Bajos   \n",
       "10  25-06-1978         Argentina       3:1 (pr.)      Países Bajos   \n",
       "11  11-07-1982            Italia             3:1  Alemania Federal   \n",
       "12  29-06-1986         Argentina             3:2  Alemania Federal   \n",
       "13  08-07-1990  Alemania Federal             1:0         Argentina   \n",
       "14  17-07-1994            Brasil  0:0 (3:2 pen.)            Italia   \n",
       "15  12-07-1998           Francia             3:0            Brasil   \n",
       "16  30-06-2002            Brasil             2:0          Alemania   \n",
       "17  09-07-2006            Italia  1:1 (5:3 pen.)           Francia   \n",
       "18  11-07-2010            España       1:0 (pr.)      Países Bajos   \n",
       "19  13-07-2014          Alemania       1:0 (pr.)         Argentina   \n",
       "20  15-07-2018           Francia             4:2           Croacia   \n",
       "21  18-12-2022               NaN             NaN               NaN   \n",
       "22  08-07-2026               NaN             NaN               NaN   \n",
       "\n",
       "                              Estadio Espectadores       Localización  \\\n",
       "0                  Estadio Centenario       68 346         Montevideo   \n",
       "1            Estadio Nacional del PNF       50 000               Roma   \n",
       "2                     Stade Olympique       45 124           Colombes   \n",
       "3                    Estadio Maracaná      199 150     Río de Janeiro   \n",
       "4                     Wankdorfstadion       60 000              Berna   \n",
       "5                     Estadio Råsunda       51 800              Solna   \n",
       "6                    Estadio Nacional       68 679  Santiago de Chile   \n",
       "7                  Estadio de Wembley       97 924            Londres   \n",
       "8                      Estadio Azteca      107 412   Ciudad de México   \n",
       "9                    Estadio Olímpico       75 200             Múnich   \n",
       "10                 Estadio Monumental       71 483       Buenos Aires   \n",
       "11                  Santiago Bernabéu       90 000             Madrid   \n",
       "12                     Estadio Azteca      114 600   Ciudad de México   \n",
       "13                   Estadio Olímpico       73 603               Roma   \n",
       "14                  Estadio Rose Bowl       94 194           Pasadena   \n",
       "15                    Stade de France       80 000        Saint-Denis   \n",
       "16  Estadio Internacional de Yokohama       69 029           Yokohama   \n",
       "17                   Estadio Olímpico       69 000             Berlín   \n",
       "18                Estadio Soccer City       84 490      Johannesburgo   \n",
       "19                   Estadio Maracaná       74 738     Río de Janeiro   \n",
       "20          Estadio Olímpico Luzhnikí       78 011              Moscú   \n",
       "21         Estadio Nacional de Lusail          NaN             Lusail   \n",
       "22                    MetLife Stadium          NaN    East Rutherford   \n",
       "\n",
       "         Notas  \n",
       "0     [4]​[5]​  \n",
       "1     [6]​[7]​  \n",
       "2     [8]​[9]​  \n",
       "3   [10]​[11]​  \n",
       "4   [12]​[13]​  \n",
       "5   [14]​[15]​  \n",
       "6   [16]​[17]​  \n",
       "7   [18]​[19]​  \n",
       "8   [20]​[21]​  \n",
       "9   [22]​[23]​  \n",
       "10  [24]​[25]​  \n",
       "11  [26]​[27]​  \n",
       "12  [28]​[29]​  \n",
       "13  [30]​[31]​  \n",
       "14  [32]​[33]​  \n",
       "15  [34]​[35]​  \n",
       "16  [36]​[37]​  \n",
       "17  [38]​[39]​  \n",
       "18       [40]​  \n",
       "19       [41]​  \n",
       "20       [42]​  \n",
       "21         NaN  \n",
       "22         NaN  "
      ]
     },
     "execution_count": 20,
     "metadata": {},
     "output_type": "execute_result"
    }
   ],
   "source": [
    "# vamos a indicar que queremos la información de la primera tabla en caso que se tengas tablas adicionales\n",
    "df_0 = df[0]\n",
    "df_0"
   ]
  },
  {
   "cell_type": "code",
   "execution_count": 32,
   "id": "244d23df",
   "metadata": {},
   "outputs": [
    {
     "data": {
      "text/html": [
       "<div>\n",
       "<style scoped>\n",
       "    .dataframe tbody tr th:only-of-type {\n",
       "        vertical-align: middle;\n",
       "    }\n",
       "\n",
       "    .dataframe tbody tr th {\n",
       "        vertical-align: top;\n",
       "    }\n",
       "\n",
       "    .dataframe thead th {\n",
       "        text-align: right;\n",
       "    }\n",
       "</style>\n",
       "<table border=\"1\" class=\"dataframe\">\n",
       "  <thead>\n",
       "    <tr style=\"text-align: right;\">\n",
       "      <th></th>\n",
       "      <th>Continente</th>\n",
       "      <th>Densidad</th>\n",
       "      <th>Superficie</th>\n",
       "      <th>Población</th>\n",
       "      <th>País más poblado</th>\n",
       "      <th>Ciudad más poblada</th>\n",
       "    </tr>\n",
       "  </thead>\n",
       "  <tbody>\n",
       "    <tr>\n",
       "      <th>0</th>\n",
       "      <td>Asia</td>\n",
       "      <td>86.88</td>\n",
       "      <td>43810000</td>\n",
       "      <td>4677291000</td>\n",
       "      <td>China (1.392.240.000)</td>\n",
       "      <td>Tokio (35.682.000)</td>\n",
       "    </tr>\n",
       "    <tr>\n",
       "      <th>1</th>\n",
       "      <td>África</td>\n",
       "      <td>32.70</td>\n",
       "      <td>30370000</td>\n",
       "      <td>1110020000</td>\n",
       "      <td>Nigeria (191.205.000)</td>\n",
       "      <td>El Cairo (16.794.000)</td>\n",
       "    </tr>\n",
       "    <tr>\n",
       "      <th>2</th>\n",
       "      <td>Europa</td>\n",
       "      <td>70.00</td>\n",
       "      <td>10180000</td>\n",
       "      <td>801000000</td>\n",
       "      <td>Rusia (112.000.000)</td>\n",
       "      <td>Moscú (18.940.000)</td>\n",
       "    </tr>\n",
       "    <tr>\n",
       "      <th>3</th>\n",
       "      <td>América</td>\n",
       "      <td>23.50</td>\n",
       "      <td>42330000</td>\n",
       "      <td>1094215000</td>\n",
       "      <td>Estados Unidos (330.028.000)</td>\n",
       "      <td>Ciudad de México (22.577.000)</td>\n",
       "    </tr>\n",
       "    <tr>\n",
       "      <th>4</th>\n",
       "      <td>Oceanía</td>\n",
       "      <td>4.25</td>\n",
       "      <td>9008500</td>\n",
       "      <td>40201000</td>\n",
       "      <td>Australia (27.240.000)</td>\n",
       "      <td>Sídney (6.550.000)</td>\n",
       "    </tr>\n",
       "  </tbody>\n",
       "</table>\n",
       "</div>"
      ],
      "text/plain": [
       "  Continente  Densidad  Superficie   Población              País más poblado  \\\n",
       "0       Asia     86.88    43810000  4677291000         China (1.392.240.000)   \n",
       "1     África     32.70    30370000  1110020000         Nigeria (191.205.000)   \n",
       "2     Europa     70.00    10180000   801000000           Rusia (112.000.000)   \n",
       "3    América     23.50    42330000  1094215000  Estados Unidos (330.028.000)   \n",
       "4    Oceanía      4.25     9008500    40201000        Australia (27.240.000)   \n",
       "\n",
       "              Ciudad más poblada  \n",
       "0             Tokio (35.682.000)  \n",
       "1          El Cairo (16.794.000)  \n",
       "2             Moscú (18.940.000)  \n",
       "3  Ciudad de México (22.577.000)  \n",
       "4             Sídney (6.550.000)  "
      ]
     },
     "execution_count": 32,
     "metadata": {},
     "output_type": "execute_result"
    }
   ],
   "source": [
    "datos"
   ]
  },
  {
   "cell_type": "markdown",
   "id": "d0dca641",
   "metadata": {},
   "source": [
    "# Ejercicio 1"
   ]
  },
  {
   "cell_type": "code",
   "execution_count": 49,
   "id": "d8b8fbf5",
   "metadata": {},
   "outputs": [
    {
     "data": {
      "text/html": [
       "<div>\n",
       "<style scoped>\n",
       "    .dataframe tbody tr th:only-of-type {\n",
       "        vertical-align: middle;\n",
       "    }\n",
       "\n",
       "    .dataframe tbody tr th {\n",
       "        vertical-align: top;\n",
       "    }\n",
       "\n",
       "    .dataframe thead th {\n",
       "        text-align: right;\n",
       "    }\n",
       "</style>\n",
       "<table border=\"1\" class=\"dataframe\">\n",
       "  <thead>\n",
       "    <tr style=\"text-align: right;\">\n",
       "      <th></th>\n",
       "      <th>Continente</th>\n",
       "      <th>Densidad</th>\n",
       "      <th>Superficie</th>\n",
       "      <th>Población</th>\n",
       "      <th>País más poblado</th>\n",
       "      <th>Ciudad más poblada</th>\n",
       "    </tr>\n",
       "  </thead>\n",
       "  <tbody>\n",
       "    <tr>\n",
       "      <th>0</th>\n",
       "      <td>Asia</td>\n",
       "      <td>86.88</td>\n",
       "      <td>43810000</td>\n",
       "      <td>4677291000</td>\n",
       "      <td>China (1.392.240.000)</td>\n",
       "      <td>Tokio (35.682.000)</td>\n",
       "    </tr>\n",
       "    <tr>\n",
       "      <th>1</th>\n",
       "      <td>África</td>\n",
       "      <td>32.70</td>\n",
       "      <td>30370000</td>\n",
       "      <td>1110020000</td>\n",
       "      <td>Nigeria (191.205.000)</td>\n",
       "      <td>El Cairo (16.794.000)</td>\n",
       "    </tr>\n",
       "    <tr>\n",
       "      <th>2</th>\n",
       "      <td>Europa</td>\n",
       "      <td>70.00</td>\n",
       "      <td>10180000</td>\n",
       "      <td>801000000</td>\n",
       "      <td>Rusia (112.000.000)</td>\n",
       "      <td>Moscú (18.940.000)</td>\n",
       "    </tr>\n",
       "    <tr>\n",
       "      <th>3</th>\n",
       "      <td>América</td>\n",
       "      <td>23.50</td>\n",
       "      <td>42330000</td>\n",
       "      <td>1094215000</td>\n",
       "      <td>Estados Unidos (330.028.000)</td>\n",
       "      <td>Ciudad de México (22.577.000)</td>\n",
       "    </tr>\n",
       "    <tr>\n",
       "      <th>4</th>\n",
       "      <td>Oceanía</td>\n",
       "      <td>4.25</td>\n",
       "      <td>9008500</td>\n",
       "      <td>40201000</td>\n",
       "      <td>Australia (27.240.000)</td>\n",
       "      <td>Sídney (6.550.000)</td>\n",
       "    </tr>\n",
       "  </tbody>\n",
       "</table>\n",
       "</div>"
      ],
      "text/plain": [
       "  Continente  Densidad  Superficie   Población              País más poblado  \\\n",
       "0       Asia     86.88    43810000  4677291000         China (1.392.240.000)   \n",
       "1     África     32.70    30370000  1110020000         Nigeria (191.205.000)   \n",
       "2     Europa     70.00    10180000   801000000           Rusia (112.000.000)   \n",
       "3    América     23.50    42330000  1094215000  Estados Unidos (330.028.000)   \n",
       "4    Oceanía      4.25     9008500    40201000        Australia (27.240.000)   \n",
       "\n",
       "              Ciudad más poblada  \n",
       "0             Tokio (35.682.000)  \n",
       "1          El Cairo (16.794.000)  \n",
       "2             Moscú (18.940.000)  \n",
       "3  Ciudad de México (22.577.000)  \n",
       "4             Sídney (6.550.000)  "
      ]
     },
     "execution_count": 49,
     "metadata": {},
     "output_type": "execute_result"
    }
   ],
   "source": [
    "# Ficheros  formato Excel\n",
    "import pandas as pd\n",
    "file = pd.ExcelFile('poblacion.xlsx')\n",
    "df = file.parse('Hoja 1')\n",
    "df"
   ]
  },
  {
   "cell_type": "code",
   "execution_count": 46,
   "id": "e656c0c2",
   "metadata": {},
   "outputs": [
    {
     "data": {
      "text/plain": [
       "'Ciudad de México (22.577.000)'"
      ]
     },
     "execution_count": 46,
     "metadata": {},
     "output_type": "execute_result"
    }
   ],
   "source": [
    "americanBigCity = df['Ciudad más poblada'][3]\n",
    "americanBigCity"
   ]
  },
  {
   "cell_type": "code",
   "execution_count": 47,
   "id": "4badb35b",
   "metadata": {},
   "outputs": [
    {
     "data": {
      "text/html": [
       "<div>\n",
       "<style scoped>\n",
       "    .dataframe tbody tr th:only-of-type {\n",
       "        vertical-align: middle;\n",
       "    }\n",
       "\n",
       "    .dataframe tbody tr th {\n",
       "        vertical-align: top;\n",
       "    }\n",
       "\n",
       "    .dataframe thead th {\n",
       "        text-align: right;\n",
       "    }\n",
       "</style>\n",
       "<table border=\"1\" class=\"dataframe\">\n",
       "  <thead>\n",
       "    <tr style=\"text-align: right;\">\n",
       "      <th></th>\n",
       "      <th>Continente</th>\n",
       "      <th>Densidad</th>\n",
       "      <th>Superficie</th>\n",
       "      <th>Población</th>\n",
       "      <th>País más poblado</th>\n",
       "      <th>Ciudad más poblada</th>\n",
       "    </tr>\n",
       "  </thead>\n",
       "  <tbody>\n",
       "    <tr>\n",
       "      <th>0</th>\n",
       "      <td>Asia</td>\n",
       "      <td>86,88</td>\n",
       "      <td>43.810.000</td>\n",
       "      <td>4.677.291.000</td>\n",
       "      <td>China (1.392.240.000)</td>\n",
       "      <td>Tokio (35.682.000)</td>\n",
       "    </tr>\n",
       "    <tr>\n",
       "      <th>1</th>\n",
       "      <td>África</td>\n",
       "      <td>32,7</td>\n",
       "      <td>30.370.000</td>\n",
       "      <td>1.110.020.000</td>\n",
       "      <td>Nigeria (191.205.000)</td>\n",
       "      <td>El Cairo (16.794.000)</td>\n",
       "    </tr>\n",
       "    <tr>\n",
       "      <th>2</th>\n",
       "      <td>Europa</td>\n",
       "      <td>70</td>\n",
       "      <td>10.180.000</td>\n",
       "      <td>801.000.000</td>\n",
       "      <td>Rusia (112.000.000)</td>\n",
       "      <td>Moscú (18.940.000)</td>\n",
       "    </tr>\n",
       "    <tr>\n",
       "      <th>3</th>\n",
       "      <td>América</td>\n",
       "      <td>23,5</td>\n",
       "      <td>42.330.000</td>\n",
       "      <td>1.094.215.000</td>\n",
       "      <td>Estados Unidos (330.028.000)</td>\n",
       "      <td>Ciudad de México (22.577.000)</td>\n",
       "    </tr>\n",
       "    <tr>\n",
       "      <th>4</th>\n",
       "      <td>Oceanía</td>\n",
       "      <td>4,25</td>\n",
       "      <td>9.008.500</td>\n",
       "      <td>40.201.000</td>\n",
       "      <td>Australia (27.240.000)</td>\n",
       "      <td>Sídney (6.550.000)</td>\n",
       "    </tr>\n",
       "  </tbody>\n",
       "</table>\n",
       "</div>"
      ],
      "text/plain": [
       "  Continente Densidad  Superficie      Población  \\\n",
       "0       Asia    86,88  43.810.000  4.677.291.000   \n",
       "1     África     32,7  30.370.000  1.110.020.000   \n",
       "2     Europa       70  10.180.000    801.000.000   \n",
       "3    América     23,5  42.330.000  1.094.215.000   \n",
       "4    Oceanía     4,25   9.008.500     40.201.000   \n",
       "\n",
       "               País más poblado             Ciudad más poblada  \n",
       "0         China (1.392.240.000)             Tokio (35.682.000)  \n",
       "1         Nigeria (191.205.000)          El Cairo (16.794.000)  \n",
       "2           Rusia (112.000.000)             Moscú (18.940.000)  \n",
       "3  Estados Unidos (330.028.000)  Ciudad de México (22.577.000)  \n",
       "4        Australia (27.240.000)             Sídney (6.550.000)  "
      ]
     },
     "execution_count": 47,
     "metadata": {},
     "output_type": "execute_result"
    }
   ],
   "source": [
    "# Ahora con CSV\n",
    "csv = pd.read_csv('poblacion.csv')\n",
    "csv"
   ]
  },
  {
   "cell_type": "code",
   "execution_count": 48,
   "id": "f16c4d1f",
   "metadata": {},
   "outputs": [
    {
     "data": {
      "text/plain": [
       "'El Cairo (16.794.000)'"
      ]
     },
     "execution_count": 48,
     "metadata": {},
     "output_type": "execute_result"
    }
   ],
   "source": [
    "africaBigCity= df['Ciudad más poblada'][1]\n",
    "africaBigCity"
   ]
  },
  {
   "cell_type": "markdown",
   "id": "e116b000",
   "metadata": {},
   "source": [
    "# Ejercicio 2"
   ]
  },
  {
   "cell_type": "raw",
   "id": "1fe968c3",
   "metadata": {},
   "source": [
    "# Obtener la tabla de paises de la pagina 'https://es.wikipedia.org/wiki/Anexo:Pa%C3%ADses'\n",
    "# Setear correctamente los datos de las columnas"
   ]
  },
  {
   "cell_type": "code",
   "execution_count": 58,
   "id": "70ecc5f7",
   "metadata": {},
   "outputs": [],
   "source": [
    "import pandas as pd"
   ]
  },
  {
   "cell_type": "code",
   "execution_count": 62,
   "id": "ddc6de1e",
   "metadata": {},
   "outputs": [
    {
     "data": {
      "text/html": [
       "<div>\n",
       "<style scoped>\n",
       "    .dataframe tbody tr th:only-of-type {\n",
       "        vertical-align: middle;\n",
       "    }\n",
       "\n",
       "    .dataframe tbody tr th {\n",
       "        vertical-align: top;\n",
       "    }\n",
       "\n",
       "    .dataframe thead th {\n",
       "        text-align: right;\n",
       "    }\n",
       "</style>\n",
       "<table border=\"1\" class=\"dataframe\">\n",
       "  <thead>\n",
       "    <tr style=\"text-align: right;\">\n",
       "      <th></th>\n",
       "      <th>Estado(forma oficial)</th>\n",
       "      <th>Nombre común</th>\n",
       "      <th>Forma de gobierno</th>\n",
       "      <th>Capital(es)</th>\n",
       "      <th>Continente</th>\n",
       "      <th>Estatus ONU</th>\n",
       "      <th>Soberanía</th>\n",
       "      <th>Notas</th>\n",
       "      <th>Ubicación</th>\n",
       "    </tr>\n",
       "  </thead>\n",
       "  <tbody>\n",
       "    <tr>\n",
       "      <th>0</th>\n",
       "      <td>República Islámica de Afganistán</td>\n",
       "      <td>Afganistán</td>\n",
       "      <td>República islámica presidencialista</td>\n",
       "      <td>Kabul</td>\n",
       "      <td>Asia</td>\n",
       "      <td>Miembro (1946)</td>\n",
       "      <td>Reconocida</td>\n",
       "      <td>Las Naciones Unidas actualmente reconocen a la...</td>\n",
       "      <td>NaN</td>\n",
       "    </tr>\n",
       "    <tr>\n",
       "      <th>1</th>\n",
       "      <td>República de Albania</td>\n",
       "      <td>Albania</td>\n",
       "      <td>República parlamentaria</td>\n",
       "      <td>Tirana</td>\n",
       "      <td>Europa</td>\n",
       "      <td>Miembro (1955)</td>\n",
       "      <td>Reconocida</td>\n",
       "      <td>NaN</td>\n",
       "      <td>NaN</td>\n",
       "    </tr>\n",
       "    <tr>\n",
       "      <th>2</th>\n",
       "      <td>República Federal de Alemania</td>\n",
       "      <td>Alemania</td>\n",
       "      <td>República parlamentaria</td>\n",
       "      <td>Berlín</td>\n",
       "      <td>Europa</td>\n",
       "      <td>Miembro (1973)[1]​</td>\n",
       "      <td>Reconocida</td>\n",
       "      <td>Estado miembro de la Unión Europea. Alemania e...</td>\n",
       "      <td>NaN</td>\n",
       "    </tr>\n",
       "    <tr>\n",
       "      <th>3</th>\n",
       "      <td>Principado de Andorra</td>\n",
       "      <td>Andorra</td>\n",
       "      <td>Monarquía constitucional</td>\n",
       "      <td>Andorra la Vieja</td>\n",
       "      <td>Europa</td>\n",
       "      <td>Miembro (1993)</td>\n",
       "      <td>Reconocida</td>\n",
       "      <td>Coprincipado con dos jefes de Estado, el presi...</td>\n",
       "      <td>NaN</td>\n",
       "    </tr>\n",
       "    <tr>\n",
       "      <th>4</th>\n",
       "      <td>República de Angola</td>\n",
       "      <td>Angola</td>\n",
       "      <td>República presidencialista</td>\n",
       "      <td>Luanda</td>\n",
       "      <td>África</td>\n",
       "      <td>Miembro (1976)</td>\n",
       "      <td>Reconocida</td>\n",
       "      <td>NaN</td>\n",
       "      <td>NaN</td>\n",
       "    </tr>\n",
       "    <tr>\n",
       "      <th>...</th>\n",
       "      <td>...</td>\n",
       "      <td>...</td>\n",
       "      <td>...</td>\n",
       "      <td>...</td>\n",
       "      <td>...</td>\n",
       "      <td>...</td>\n",
       "      <td>...</td>\n",
       "      <td>...</td>\n",
       "      <td>...</td>\n",
       "    </tr>\n",
       "    <tr>\n",
       "      <th>190</th>\n",
       "      <td>República Socialista de Vietnam</td>\n",
       "      <td>Vietnam</td>\n",
       "      <td>Estado socialista unipartidista</td>\n",
       "      <td>Hanói</td>\n",
       "      <td>Asia</td>\n",
       "      <td>Miembro (1977)</td>\n",
       "      <td>Reconocida</td>\n",
       "      <td>Vietnam reclama la soberanía total de las isla...</td>\n",
       "      <td>NaN</td>\n",
       "    </tr>\n",
       "    <tr>\n",
       "      <th>191</th>\n",
       "      <td>República de Yemen</td>\n",
       "      <td>Yemen</td>\n",
       "      <td>República presidencialista (Gobierno provisional)</td>\n",
       "      <td>Saná</td>\n",
       "      <td>Asia</td>\n",
       "      <td>Miembro (1947)[32]​</td>\n",
       "      <td>Reconocida</td>\n",
       "      <td>NaN</td>\n",
       "      <td>NaN</td>\n",
       "    </tr>\n",
       "    <tr>\n",
       "      <th>192</th>\n",
       "      <td>República de Yibuti</td>\n",
       "      <td>Yibuti</td>\n",
       "      <td>República presidencial</td>\n",
       "      <td>Ciudad de Yibuti</td>\n",
       "      <td>África</td>\n",
       "      <td>Miembro (1977)</td>\n",
       "      <td>Reconocida</td>\n",
       "      <td>Yibuti mantiene un conflicto fronterizo con Er...</td>\n",
       "      <td>NaN</td>\n",
       "    </tr>\n",
       "    <tr>\n",
       "      <th>193</th>\n",
       "      <td>República de Zambia</td>\n",
       "      <td>Zambia</td>\n",
       "      <td>República presidencial</td>\n",
       "      <td>Lusaka</td>\n",
       "      <td>África</td>\n",
       "      <td>Miembro (1964)</td>\n",
       "      <td>Reconocida</td>\n",
       "      <td>NaN</td>\n",
       "      <td>NaN</td>\n",
       "    </tr>\n",
       "    <tr>\n",
       "      <th>194</th>\n",
       "      <td>República de Zimbabue</td>\n",
       "      <td>Zimbabue</td>\n",
       "      <td>República presidencial</td>\n",
       "      <td>Harare</td>\n",
       "      <td>África</td>\n",
       "      <td>Miembro (1980)</td>\n",
       "      <td>Reconocida</td>\n",
       "      <td>NaN</td>\n",
       "      <td>NaN</td>\n",
       "    </tr>\n",
       "  </tbody>\n",
       "</table>\n",
       "<p>195 rows × 9 columns</p>\n",
       "</div>"
      ],
      "text/plain": [
       "                Estado(forma oficial) Nombre común  \\\n",
       "0    República Islámica de Afganistán   Afganistán   \n",
       "1                República de Albania      Albania   \n",
       "2       República Federal de Alemania     Alemania   \n",
       "3               Principado de Andorra      Andorra   \n",
       "4                 República de Angola       Angola   \n",
       "..                                ...          ...   \n",
       "190   República Socialista de Vietnam      Vietnam   \n",
       "191                República de Yemen        Yemen   \n",
       "192               República de Yibuti       Yibuti   \n",
       "193               República de Zambia       Zambia   \n",
       "194             República de Zimbabue     Zimbabue   \n",
       "\n",
       "                                     Forma de gobierno       Capital(es)  \\\n",
       "0                  República islámica presidencialista             Kabul   \n",
       "1                              República parlamentaria            Tirana   \n",
       "2                              República parlamentaria            Berlín   \n",
       "3                             Monarquía constitucional  Andorra la Vieja   \n",
       "4                           República presidencialista            Luanda   \n",
       "..                                                 ...               ...   \n",
       "190                    Estado socialista unipartidista             Hanói   \n",
       "191  República presidencialista (Gobierno provisional)              Saná   \n",
       "192                             República presidencial  Ciudad de Yibuti   \n",
       "193                             República presidencial            Lusaka   \n",
       "194                             República presidencial            Harare   \n",
       "\n",
       "    Continente          Estatus ONU   Soberanía  \\\n",
       "0         Asia       Miembro (1946)  Reconocida   \n",
       "1       Europa       Miembro (1955)  Reconocida   \n",
       "2       Europa   Miembro (1973)[1]​  Reconocida   \n",
       "3       Europa       Miembro (1993)  Reconocida   \n",
       "4       África       Miembro (1976)  Reconocida   \n",
       "..         ...                  ...         ...   \n",
       "190       Asia       Miembro (1977)  Reconocida   \n",
       "191       Asia  Miembro (1947)[32]​  Reconocida   \n",
       "192     África       Miembro (1977)  Reconocida   \n",
       "193     África       Miembro (1964)  Reconocida   \n",
       "194     África       Miembro (1980)  Reconocida   \n",
       "\n",
       "                                                 Notas  Ubicación  \n",
       "0    Las Naciones Unidas actualmente reconocen a la...        NaN  \n",
       "1                                                  NaN        NaN  \n",
       "2    Estado miembro de la Unión Europea. Alemania e...        NaN  \n",
       "3    Coprincipado con dos jefes de Estado, el presi...        NaN  \n",
       "4                                                  NaN        NaN  \n",
       "..                                                 ...        ...  \n",
       "190  Vietnam reclama la soberanía total de las isla...        NaN  \n",
       "191                                                NaN        NaN  \n",
       "192  Yibuti mantiene un conflicto fronterizo con Er...        NaN  \n",
       "193                                                NaN        NaN  \n",
       "194                                                NaN        NaN  \n",
       "\n",
       "[195 rows x 9 columns]"
      ]
     },
     "execution_count": 62,
     "metadata": {},
     "output_type": "execute_result"
    }
   ],
   "source": [
    "datos = pd.io.html.read_html('https://es.wikipedia.org/wiki/Anexo:Pa%C3%ADses')\n",
    "datos[0]"
   ]
  },
  {
   "cell_type": "markdown",
   "id": "5f4e476a",
   "metadata": {},
   "source": [
    "# Union de DataFrames"
   ]
  },
  {
   "cell_type": "code",
   "execution_count": 63,
   "id": "e5cef8cd",
   "metadata": {},
   "outputs": [],
   "source": [
    "import pandas as pd"
   ]
  },
  {
   "cell_type": "code",
   "execution_count": 64,
   "id": "a5d23f45",
   "metadata": {},
   "outputs": [
    {
     "data": {
      "text/html": [
       "<div>\n",
       "<style scoped>\n",
       "    .dataframe tbody tr th:only-of-type {\n",
       "        vertical-align: middle;\n",
       "    }\n",
       "\n",
       "    .dataframe tbody tr th {\n",
       "        vertical-align: top;\n",
       "    }\n",
       "\n",
       "    .dataframe thead th {\n",
       "        text-align: right;\n",
       "    }\n",
       "</style>\n",
       "<table border=\"1\" class=\"dataframe\">\n",
       "  <thead>\n",
       "    <tr style=\"text-align: right;\">\n",
       "      <th></th>\n",
       "      <th>c1</th>\n",
       "      <th>clave</th>\n",
       "    </tr>\n",
       "  </thead>\n",
       "  <tbody>\n",
       "    <tr>\n",
       "      <th>0</th>\n",
       "      <td>1</td>\n",
       "      <td>a</td>\n",
       "    </tr>\n",
       "    <tr>\n",
       "      <th>1</th>\n",
       "      <td>2</td>\n",
       "      <td>b</td>\n",
       "    </tr>\n",
       "    <tr>\n",
       "      <th>2</th>\n",
       "      <td>3</td>\n",
       "      <td>c</td>\n",
       "    </tr>\n",
       "  </tbody>\n",
       "</table>\n",
       "</div>"
      ],
      "text/plain": [
       "  c1 clave\n",
       "0  1     a\n",
       "1  2     b\n",
       "2  3     c"
      ]
     },
     "execution_count": 64,
     "metadata": {},
     "output_type": "execute_result"
    }
   ],
   "source": [
    "df1 = pd.DataFrame({'c1':['1','2','3'], 'clave':['a','b','c']})\n",
    "df1"
   ]
  },
  {
   "cell_type": "code",
   "execution_count": 65,
   "id": "a148e241",
   "metadata": {},
   "outputs": [
    {
     "data": {
      "text/html": [
       "<div>\n",
       "<style scoped>\n",
       "    .dataframe tbody tr th:only-of-type {\n",
       "        vertical-align: middle;\n",
       "    }\n",
       "\n",
       "    .dataframe tbody tr th {\n",
       "        vertical-align: top;\n",
       "    }\n",
       "\n",
       "    .dataframe thead th {\n",
       "        text-align: right;\n",
       "    }\n",
       "</style>\n",
       "<table border=\"1\" class=\"dataframe\">\n",
       "  <thead>\n",
       "    <tr style=\"text-align: right;\">\n",
       "      <th></th>\n",
       "      <th>c2</th>\n",
       "      <th>clave</th>\n",
       "    </tr>\n",
       "  </thead>\n",
       "  <tbody>\n",
       "    <tr>\n",
       "      <th>0</th>\n",
       "      <td>4</td>\n",
       "      <td>c</td>\n",
       "    </tr>\n",
       "    <tr>\n",
       "      <th>1</th>\n",
       "      <td>5</td>\n",
       "      <td>b</td>\n",
       "    </tr>\n",
       "    <tr>\n",
       "      <th>2</th>\n",
       "      <td>6</td>\n",
       "      <td>e</td>\n",
       "    </tr>\n",
       "  </tbody>\n",
       "</table>\n",
       "</div>"
      ],
      "text/plain": [
       "  c2 clave\n",
       "0  4     c\n",
       "1  5     b\n",
       "2  6     e"
      ]
     },
     "execution_count": 65,
     "metadata": {},
     "output_type": "execute_result"
    }
   ],
   "source": [
    "df2 = pd.DataFrame({'c2':['4','5','6'], 'clave':['c','b', 'e']})\n",
    "df2"
   ]
  },
  {
   "cell_type": "code",
   "execution_count": 67,
   "id": "f5eb1e58",
   "metadata": {},
   "outputs": [
    {
     "data": {
      "text/html": [
       "<div>\n",
       "<style scoped>\n",
       "    .dataframe tbody tr th:only-of-type {\n",
       "        vertical-align: middle;\n",
       "    }\n",
       "\n",
       "    .dataframe tbody tr th {\n",
       "        vertical-align: top;\n",
       "    }\n",
       "\n",
       "    .dataframe thead th {\n",
       "        text-align: right;\n",
       "    }\n",
       "</style>\n",
       "<table border=\"1\" class=\"dataframe\">\n",
       "  <thead>\n",
       "    <tr style=\"text-align: right;\">\n",
       "      <th></th>\n",
       "      <th>c1</th>\n",
       "      <th>clave</th>\n",
       "      <th>c2</th>\n",
       "    </tr>\n",
       "  </thead>\n",
       "  <tbody>\n",
       "    <tr>\n",
       "      <th>0</th>\n",
       "      <td>2</td>\n",
       "      <td>b</td>\n",
       "      <td>5</td>\n",
       "    </tr>\n",
       "    <tr>\n",
       "      <th>1</th>\n",
       "      <td>3</td>\n",
       "      <td>c</td>\n",
       "      <td>4</td>\n",
       "    </tr>\n",
       "  </tbody>\n",
       "</table>\n",
       "</div>"
      ],
      "text/plain": [
       "  c1 clave c2\n",
       "0  2     b  5\n",
       "1  3     c  4"
      ]
     },
     "execution_count": 67,
     "metadata": {},
     "output_type": "execute_result"
    }
   ],
   "source": [
    "df3 = pd.DataFrame.merge(df1,df2)\n",
    "# En este caso no mostrara los valores que no coincidan\n",
    "df3"
   ]
  },
  {
   "cell_type": "code",
   "execution_count": 68,
   "id": "a1ad0de3",
   "metadata": {},
   "outputs": [
    {
     "data": {
      "text/html": [
       "<div>\n",
       "<style scoped>\n",
       "    .dataframe tbody tr th:only-of-type {\n",
       "        vertical-align: middle;\n",
       "    }\n",
       "\n",
       "    .dataframe tbody tr th {\n",
       "        vertical-align: top;\n",
       "    }\n",
       "\n",
       "    .dataframe thead th {\n",
       "        text-align: right;\n",
       "    }\n",
       "</style>\n",
       "<table border=\"1\" class=\"dataframe\">\n",
       "  <thead>\n",
       "    <tr style=\"text-align: right;\">\n",
       "      <th></th>\n",
       "      <th>c1</th>\n",
       "      <th>clave</th>\n",
       "      <th>c2</th>\n",
       "    </tr>\n",
       "  </thead>\n",
       "  <tbody>\n",
       "    <tr>\n",
       "      <th>0</th>\n",
       "      <td>1</td>\n",
       "      <td>a</td>\n",
       "      <td>NaN</td>\n",
       "    </tr>\n",
       "    <tr>\n",
       "      <th>1</th>\n",
       "      <td>2</td>\n",
       "      <td>b</td>\n",
       "      <td>5</td>\n",
       "    </tr>\n",
       "    <tr>\n",
       "      <th>2</th>\n",
       "      <td>3</td>\n",
       "      <td>c</td>\n",
       "      <td>4</td>\n",
       "    </tr>\n",
       "    <tr>\n",
       "      <th>3</th>\n",
       "      <td>NaN</td>\n",
       "      <td>e</td>\n",
       "      <td>6</td>\n",
       "    </tr>\n",
       "  </tbody>\n",
       "</table>\n",
       "</div>"
      ],
      "text/plain": [
       "    c1 clave   c2\n",
       "0    1     a  NaN\n",
       "1    2     b    5\n",
       "2    3     c    4\n",
       "3  NaN     e    6"
      ]
     },
     "execution_count": 68,
     "metadata": {},
     "output_type": "execute_result"
    }
   ],
   "source": [
    "# si queremos encontrar los valores para A por ejemplo\n",
    "df4 = pd.DataFrame.merge(df1, df2, how='outer')\n",
    "df4"
   ]
  },
  {
   "cell_type": "markdown",
   "id": "65232a83",
   "metadata": {},
   "source": [
    "# Concaternar Arrays, Series y DataFrames"
   ]
  },
  {
   "cell_type": "code",
   "execution_count": 69,
   "id": "12eb2807",
   "metadata": {},
   "outputs": [],
   "source": [
    "import pandas as pd\n",
    "import numpy as np"
   ]
  },
  {
   "cell_type": "code",
   "execution_count": 70,
   "id": "0a01f724",
   "metadata": {},
   "outputs": [
    {
     "data": {
      "text/plain": [
       "array([[0, 1, 2],\n",
       "       [3, 4, 5],\n",
       "       [6, 7, 8]])"
      ]
     },
     "execution_count": 70,
     "metadata": {},
     "output_type": "execute_result"
    }
   ],
   "source": [
    "# Creación de array1\n",
    "array1 = np.arange(9).reshape(3,3)\n",
    "array1"
   ]
  },
  {
   "cell_type": "code",
   "execution_count": 71,
   "id": "853a4a1f",
   "metadata": {},
   "outputs": [
    {
     "data": {
      "text/plain": [
       "array([[0, 1, 2],\n",
       "       [3, 4, 5],\n",
       "       [6, 7, 8],\n",
       "       [0, 1, 2],\n",
       "       [3, 4, 5],\n",
       "       [6, 7, 8]])"
      ]
     },
     "execution_count": 71,
     "metadata": {},
     "output_type": "execute_result"
    }
   ],
   "source": [
    "# si queremos concatenar con el mismo\n",
    "np.concatenate([array1, array1])"
   ]
  },
  {
   "cell_type": "code",
   "execution_count": 72,
   "id": "060d7c74",
   "metadata": {},
   "outputs": [
    {
     "data": {
      "text/plain": [
       "array([[0, 1, 2, 0, 1, 2],\n",
       "       [3, 4, 5, 3, 4, 5],\n",
       "       [6, 7, 8, 6, 7, 8]])"
      ]
     },
     "execution_count": 72,
     "metadata": {},
     "output_type": "execute_result"
    }
   ],
   "source": [
    "# si queremos concaternar con el mismo pero hacia la derecha y no hacia abajo usamos\n",
    "np.concatenate([array1, array1], axis=1)"
   ]
  },
  {
   "cell_type": "code",
   "execution_count": 76,
   "id": "a25d8be4",
   "metadata": {},
   "outputs": [
    {
     "name": "stdout",
     "output_type": "stream",
     "text": [
      "a    1\n",
      "b    2\n",
      "c    3\n",
      "dtype: int64\n",
      "d    4\n",
      "e    5\n",
      "f    6\n",
      "dtype: int64\n"
     ]
    }
   ],
   "source": [
    "# Ahora para concatenar Series\n",
    "serie1 = pd.Series([1,2,3], index=['a','b', 'c'])\n",
    "print(serie1)\n",
    "serie2 = pd.Series([4,5,6], index=['d','e', 'f'])\n",
    "print(serie2)"
   ]
  },
  {
   "cell_type": "code",
   "execution_count": 74,
   "id": "906e8357",
   "metadata": {},
   "outputs": [
    {
     "data": {
      "text/plain": [
       "a    1\n",
       "b    2\n",
       "c    3\n",
       "d    4\n",
       "e    5\n",
       "f    6\n",
       "dtype: int64"
      ]
     },
     "execution_count": 74,
     "metadata": {},
     "output_type": "execute_result"
    }
   ],
   "source": [
    "# Para concatenar hacemos\n",
    "pd.concat([serie1,serie2])"
   ]
  },
  {
   "cell_type": "code",
   "execution_count": 77,
   "id": "7069d0bb",
   "metadata": {},
   "outputs": [
    {
     "data": {
      "text/plain": [
       "serie1  a    1\n",
       "        b    2\n",
       "        c    3\n",
       "serie2  d    4\n",
       "        e    5\n",
       "        f    6\n",
       "dtype: int64"
      ]
     },
     "execution_count": 77,
     "metadata": {},
     "output_type": "execute_result"
    }
   ],
   "source": [
    "pd.concat([serie1,serie2], keys=['serie1', 'serie2'])"
   ]
  },
  {
   "cell_type": "code",
   "execution_count": 82,
   "id": "396431bf",
   "metadata": {},
   "outputs": [
    {
     "data": {
      "text/html": [
       "<div>\n",
       "<style scoped>\n",
       "    .dataframe tbody tr th:only-of-type {\n",
       "        vertical-align: middle;\n",
       "    }\n",
       "\n",
       "    .dataframe tbody tr th {\n",
       "        vertical-align: top;\n",
       "    }\n",
       "\n",
       "    .dataframe thead th {\n",
       "        text-align: right;\n",
       "    }\n",
       "</style>\n",
       "<table border=\"1\" class=\"dataframe\">\n",
       "  <thead>\n",
       "    <tr style=\"text-align: right;\">\n",
       "      <th></th>\n",
       "      <th>a</th>\n",
       "      <th>b</th>\n",
       "      <th>c</th>\n",
       "    </tr>\n",
       "  </thead>\n",
       "  <tbody>\n",
       "    <tr>\n",
       "      <th>0</th>\n",
       "      <td>1.557382</td>\n",
       "      <td>-0.275234</td>\n",
       "      <td>-0.431916</td>\n",
       "    </tr>\n",
       "    <tr>\n",
       "      <th>1</th>\n",
       "      <td>0.970515</td>\n",
       "      <td>0.180274</td>\n",
       "      <td>-0.100995</td>\n",
       "    </tr>\n",
       "    <tr>\n",
       "      <th>2</th>\n",
       "      <td>0.906928</td>\n",
       "      <td>1.818103</td>\n",
       "      <td>0.585571</td>\n",
       "    </tr>\n",
       "  </tbody>\n",
       "</table>\n",
       "</div>"
      ],
      "text/plain": [
       "          a         b         c\n",
       "0  1.557382 -0.275234 -0.431916\n",
       "1  0.970515  0.180274 -0.100995\n",
       "2  0.906928  1.818103  0.585571"
      ]
     },
     "execution_count": 82,
     "metadata": {},
     "output_type": "execute_result"
    }
   ],
   "source": [
    "# concatenación de DataFrames\n",
    "df1 = pd.DataFrame(np.random.randn(3,3), columns=['a', 'b', 'c'])\n",
    "df1"
   ]
  },
  {
   "cell_type": "code",
   "execution_count": 83,
   "id": "d600c3f0",
   "metadata": {},
   "outputs": [
    {
     "data": {
      "text/html": [
       "<div>\n",
       "<style scoped>\n",
       "    .dataframe tbody tr th:only-of-type {\n",
       "        vertical-align: middle;\n",
       "    }\n",
       "\n",
       "    .dataframe tbody tr th {\n",
       "        vertical-align: top;\n",
       "    }\n",
       "\n",
       "    .dataframe thead th {\n",
       "        text-align: right;\n",
       "    }\n",
       "</style>\n",
       "<table border=\"1\" class=\"dataframe\">\n",
       "  <thead>\n",
       "    <tr style=\"text-align: right;\">\n",
       "      <th></th>\n",
       "      <th>a</th>\n",
       "      <th>b</th>\n",
       "      <th>c</th>\n",
       "    </tr>\n",
       "  </thead>\n",
       "  <tbody>\n",
       "    <tr>\n",
       "      <th>0</th>\n",
       "      <td>0.307168</td>\n",
       "      <td>0.167120</td>\n",
       "      <td>0.748665</td>\n",
       "    </tr>\n",
       "    <tr>\n",
       "      <th>1</th>\n",
       "      <td>0.141634</td>\n",
       "      <td>0.821623</td>\n",
       "      <td>0.928048</td>\n",
       "    </tr>\n",
       "  </tbody>\n",
       "</table>\n",
       "</div>"
      ],
      "text/plain": [
       "          a         b         c\n",
       "0  0.307168  0.167120  0.748665\n",
       "1  0.141634  0.821623  0.928048"
      ]
     },
     "execution_count": 83,
     "metadata": {},
     "output_type": "execute_result"
    }
   ],
   "source": [
    "df2 = pd.DataFrame(np.random.rand(2,3), columns=['a', 'b', 'c'])\n",
    "df2"
   ]
  },
  {
   "cell_type": "code",
   "execution_count": 86,
   "id": "50d38831",
   "metadata": {},
   "outputs": [
    {
     "data": {
      "text/html": [
       "<div>\n",
       "<style scoped>\n",
       "    .dataframe tbody tr th:only-of-type {\n",
       "        vertical-align: middle;\n",
       "    }\n",
       "\n",
       "    .dataframe tbody tr th {\n",
       "        vertical-align: top;\n",
       "    }\n",
       "\n",
       "    .dataframe thead th {\n",
       "        text-align: right;\n",
       "    }\n",
       "</style>\n",
       "<table border=\"1\" class=\"dataframe\">\n",
       "  <thead>\n",
       "    <tr style=\"text-align: right;\">\n",
       "      <th></th>\n",
       "      <th>a</th>\n",
       "      <th>b</th>\n",
       "      <th>c</th>\n",
       "    </tr>\n",
       "  </thead>\n",
       "  <tbody>\n",
       "    <tr>\n",
       "      <th>0</th>\n",
       "      <td>1.557382</td>\n",
       "      <td>-0.275234</td>\n",
       "      <td>-0.431916</td>\n",
       "    </tr>\n",
       "    <tr>\n",
       "      <th>1</th>\n",
       "      <td>0.970515</td>\n",
       "      <td>0.180274</td>\n",
       "      <td>-0.100995</td>\n",
       "    </tr>\n",
       "    <tr>\n",
       "      <th>2</th>\n",
       "      <td>0.906928</td>\n",
       "      <td>1.818103</td>\n",
       "      <td>0.585571</td>\n",
       "    </tr>\n",
       "    <tr>\n",
       "      <th>3</th>\n",
       "      <td>0.307168</td>\n",
       "      <td>0.167120</td>\n",
       "      <td>0.748665</td>\n",
       "    </tr>\n",
       "    <tr>\n",
       "      <th>4</th>\n",
       "      <td>0.141634</td>\n",
       "      <td>0.821623</td>\n",
       "      <td>0.928048</td>\n",
       "    </tr>\n",
       "  </tbody>\n",
       "</table>\n",
       "</div>"
      ],
      "text/plain": [
       "          a         b         c\n",
       "0  1.557382 -0.275234 -0.431916\n",
       "1  0.970515  0.180274 -0.100995\n",
       "2  0.906928  1.818103  0.585571\n",
       "3  0.307168  0.167120  0.748665\n",
       "4  0.141634  0.821623  0.928048"
      ]
     },
     "execution_count": 86,
     "metadata": {},
     "output_type": "execute_result"
    }
   ],
   "source": [
    "df3 = pd.concat([df1, df2], ignore_index=True)\n",
    "df3"
   ]
  },
  {
   "cell_type": "markdown",
   "id": "3d04d55b",
   "metadata": {},
   "source": [
    "# Combinar Series y DataFrames"
   ]
  },
  {
   "cell_type": "code",
   "execution_count": 1,
   "id": "b587b41b",
   "metadata": {},
   "outputs": [],
   "source": [
    "import pandas as pd\n",
    "import numpy as np"
   ]
  },
  {
   "cell_type": "code",
   "execution_count": 9,
   "id": "2889b8d4",
   "metadata": {},
   "outputs": [
    {
     "data": {
      "text/plain": [
       "0    1.0\n",
       "1    2.0\n",
       "2    NaN\n",
       "dtype: float64"
      ]
     },
     "execution_count": 9,
     "metadata": {},
     "output_type": "execute_result"
    }
   ],
   "source": [
    "serie1 = pd.Series([1,2, np.nan])\n",
    "serie1"
   ]
  },
  {
   "cell_type": "code",
   "execution_count": 10,
   "id": "0aeac45f",
   "metadata": {},
   "outputs": [
    {
     "data": {
      "text/plain": [
       "0    4\n",
       "1    5\n",
       "2    6\n",
       "dtype: int64"
      ]
     },
     "execution_count": 10,
     "metadata": {},
     "output_type": "execute_result"
    }
   ],
   "source": [
    "serie2 = pd.Series([4,5,6])\n",
    "serie2"
   ]
  },
  {
   "cell_type": "code",
   "execution_count": 11,
   "id": "f82c97ac",
   "metadata": {},
   "outputs": [
    {
     "data": {
      "text/plain": [
       "0    1.0\n",
       "1    2.0\n",
       "2    6.0\n",
       "dtype: float64"
      ]
     },
     "execution_count": 11,
     "metadata": {},
     "output_type": "execute_result"
    }
   ],
   "source": [
    "serie3 = serie1.combine_first(serie2)\n",
    "serie3"
   ]
  },
  {
   "cell_type": "code",
   "execution_count": 14,
   "id": "d105cbfd",
   "metadata": {},
   "outputs": [
    {
     "data": {
      "text/html": [
       "<div>\n",
       "<style scoped>\n",
       "    .dataframe tbody tr th:only-of-type {\n",
       "        vertical-align: middle;\n",
       "    }\n",
       "\n",
       "    .dataframe tbody tr th {\n",
       "        vertical-align: top;\n",
       "    }\n",
       "\n",
       "    .dataframe thead th {\n",
       "        text-align: right;\n",
       "    }\n",
       "</style>\n",
       "<table border=\"1\" class=\"dataframe\">\n",
       "  <thead>\n",
       "    <tr style=\"text-align: right;\">\n",
       "      <th></th>\n",
       "      <th>0</th>\n",
       "    </tr>\n",
       "  </thead>\n",
       "  <tbody>\n",
       "    <tr>\n",
       "      <th>0</th>\n",
       "      <td>1.0</td>\n",
       "    </tr>\n",
       "    <tr>\n",
       "      <th>1</th>\n",
       "      <td>2.0</td>\n",
       "    </tr>\n",
       "    <tr>\n",
       "      <th>2</th>\n",
       "      <td>NaN</td>\n",
       "    </tr>\n",
       "  </tbody>\n",
       "</table>\n",
       "</div>"
      ],
      "text/plain": [
       "     0\n",
       "0  1.0\n",
       "1  2.0\n",
       "2  NaN"
      ]
     },
     "execution_count": 14,
     "metadata": {},
     "output_type": "execute_result"
    }
   ],
   "source": [
    "# Ahora con DataFrames\n",
    "lista_valores = [1,2,np.nan]\n",
    "df1 = pd.DataFrame(lista_valores)\n",
    "df1"
   ]
  },
  {
   "cell_type": "code",
   "execution_count": 15,
   "id": "714545c5",
   "metadata": {},
   "outputs": [
    {
     "data": {
      "text/html": [
       "<div>\n",
       "<style scoped>\n",
       "    .dataframe tbody tr th:only-of-type {\n",
       "        vertical-align: middle;\n",
       "    }\n",
       "\n",
       "    .dataframe tbody tr th {\n",
       "        vertical-align: top;\n",
       "    }\n",
       "\n",
       "    .dataframe thead th {\n",
       "        text-align: right;\n",
       "    }\n",
       "</style>\n",
       "<table border=\"1\" class=\"dataframe\">\n",
       "  <thead>\n",
       "    <tr style=\"text-align: right;\">\n",
       "      <th></th>\n",
       "      <th>0</th>\n",
       "    </tr>\n",
       "  </thead>\n",
       "  <tbody>\n",
       "    <tr>\n",
       "      <th>0</th>\n",
       "      <td>4</td>\n",
       "    </tr>\n",
       "    <tr>\n",
       "      <th>1</th>\n",
       "      <td>5</td>\n",
       "    </tr>\n",
       "    <tr>\n",
       "      <th>2</th>\n",
       "      <td>6</td>\n",
       "    </tr>\n",
       "  </tbody>\n",
       "</table>\n",
       "</div>"
      ],
      "text/plain": [
       "   0\n",
       "0  4\n",
       "1  5\n",
       "2  6"
      ]
     },
     "execution_count": 15,
     "metadata": {},
     "output_type": "execute_result"
    }
   ],
   "source": [
    "lista_valores_2 = [4,5,6]\n",
    "df2 = pd.DataFrame(lista_valores_2)\n",
    "df2"
   ]
  },
  {
   "cell_type": "code",
   "execution_count": 16,
   "id": "b12a13e8",
   "metadata": {},
   "outputs": [
    {
     "data": {
      "text/html": [
       "<div>\n",
       "<style scoped>\n",
       "    .dataframe tbody tr th:only-of-type {\n",
       "        vertical-align: middle;\n",
       "    }\n",
       "\n",
       "    .dataframe tbody tr th {\n",
       "        vertical-align: top;\n",
       "    }\n",
       "\n",
       "    .dataframe thead th {\n",
       "        text-align: right;\n",
       "    }\n",
       "</style>\n",
       "<table border=\"1\" class=\"dataframe\">\n",
       "  <thead>\n",
       "    <tr style=\"text-align: right;\">\n",
       "      <th></th>\n",
       "      <th>0</th>\n",
       "    </tr>\n",
       "  </thead>\n",
       "  <tbody>\n",
       "    <tr>\n",
       "      <th>0</th>\n",
       "      <td>1.0</td>\n",
       "    </tr>\n",
       "    <tr>\n",
       "      <th>1</th>\n",
       "      <td>2.0</td>\n",
       "    </tr>\n",
       "    <tr>\n",
       "      <th>2</th>\n",
       "      <td>6.0</td>\n",
       "    </tr>\n",
       "  </tbody>\n",
       "</table>\n",
       "</div>"
      ],
      "text/plain": [
       "     0\n",
       "0  1.0\n",
       "1  2.0\n",
       "2  6.0"
      ]
     },
     "execution_count": 16,
     "metadata": {},
     "output_type": "execute_result"
    }
   ],
   "source": [
    "df3 = df1.combine_first(df2)\n",
    "df3"
   ]
  },
  {
   "cell_type": "markdown",
   "id": "db22d5f7",
   "metadata": {},
   "source": [
    "# Eliminar duplicados en DataFrames"
   ]
  },
  {
   "cell_type": "code",
   "execution_count": 18,
   "id": "1fc76793",
   "metadata": {},
   "outputs": [],
   "source": [
    "import pandas as pd"
   ]
  },
  {
   "cell_type": "code",
   "execution_count": 19,
   "id": "201be572",
   "metadata": {},
   "outputs": [
    {
     "data": {
      "text/plain": [
       "[[1, 2], [1, 2], [5, 6], [5, 8]]"
      ]
     },
     "execution_count": 19,
     "metadata": {},
     "output_type": "execute_result"
    }
   ],
   "source": [
    "listaValores = [[1,2], [1,2], [5,6], [5,8]]\n",
    "listaValores"
   ]
  },
  {
   "cell_type": "code",
   "execution_count": 20,
   "id": "98767c83",
   "metadata": {},
   "outputs": [
    {
     "data": {
      "text/plain": [
       "['m', 'n', 'o', 'p']"
      ]
     },
     "execution_count": 20,
     "metadata": {},
     "output_type": "execute_result"
    }
   ],
   "source": [
    "listaIndices = list('mnop')\n",
    "listaIndices"
   ]
  },
  {
   "cell_type": "code",
   "execution_count": 21,
   "id": "5547647b",
   "metadata": {},
   "outputs": [
    {
     "data": {
      "text/plain": [
       "['valor 1', 'valor 2']"
      ]
     },
     "execution_count": 21,
     "metadata": {},
     "output_type": "execute_result"
    }
   ],
   "source": [
    "listaColumnas = ['valor 1', 'valor 2']\n",
    "listaColumnas"
   ]
  },
  {
   "cell_type": "code",
   "execution_count": 22,
   "id": "2d52867f",
   "metadata": {},
   "outputs": [
    {
     "data": {
      "text/html": [
       "<div>\n",
       "<style scoped>\n",
       "    .dataframe tbody tr th:only-of-type {\n",
       "        vertical-align: middle;\n",
       "    }\n",
       "\n",
       "    .dataframe tbody tr th {\n",
       "        vertical-align: top;\n",
       "    }\n",
       "\n",
       "    .dataframe thead th {\n",
       "        text-align: right;\n",
       "    }\n",
       "</style>\n",
       "<table border=\"1\" class=\"dataframe\">\n",
       "  <thead>\n",
       "    <tr style=\"text-align: right;\">\n",
       "      <th></th>\n",
       "      <th>valor 1</th>\n",
       "      <th>valor 2</th>\n",
       "    </tr>\n",
       "  </thead>\n",
       "  <tbody>\n",
       "    <tr>\n",
       "      <th>m</th>\n",
       "      <td>1</td>\n",
       "      <td>2</td>\n",
       "    </tr>\n",
       "    <tr>\n",
       "      <th>n</th>\n",
       "      <td>1</td>\n",
       "      <td>2</td>\n",
       "    </tr>\n",
       "    <tr>\n",
       "      <th>o</th>\n",
       "      <td>5</td>\n",
       "      <td>6</td>\n",
       "    </tr>\n",
       "    <tr>\n",
       "      <th>p</th>\n",
       "      <td>5</td>\n",
       "      <td>8</td>\n",
       "    </tr>\n",
       "  </tbody>\n",
       "</table>\n",
       "</div>"
      ],
      "text/plain": [
       "   valor 1  valor 2\n",
       "m        1        2\n",
       "n        1        2\n",
       "o        5        6\n",
       "p        5        8"
      ]
     },
     "execution_count": 22,
     "metadata": {},
     "output_type": "execute_result"
    }
   ],
   "source": [
    "df = pd.DataFrame(listaValores, index=listaIndices, columns=listaColumnas)\n",
    "df"
   ]
  },
  {
   "cell_type": "code",
   "execution_count": 23,
   "id": "dd21355a",
   "metadata": {},
   "outputs": [
    {
     "data": {
      "text/html": [
       "<div>\n",
       "<style scoped>\n",
       "    .dataframe tbody tr th:only-of-type {\n",
       "        vertical-align: middle;\n",
       "    }\n",
       "\n",
       "    .dataframe tbody tr th {\n",
       "        vertical-align: top;\n",
       "    }\n",
       "\n",
       "    .dataframe thead th {\n",
       "        text-align: right;\n",
       "    }\n",
       "</style>\n",
       "<table border=\"1\" class=\"dataframe\">\n",
       "  <thead>\n",
       "    <tr style=\"text-align: right;\">\n",
       "      <th></th>\n",
       "      <th>valor 1</th>\n",
       "      <th>valor 2</th>\n",
       "    </tr>\n",
       "  </thead>\n",
       "  <tbody>\n",
       "    <tr>\n",
       "      <th>m</th>\n",
       "      <td>1</td>\n",
       "      <td>2</td>\n",
       "    </tr>\n",
       "    <tr>\n",
       "      <th>o</th>\n",
       "      <td>5</td>\n",
       "      <td>6</td>\n",
       "    </tr>\n",
       "    <tr>\n",
       "      <th>p</th>\n",
       "      <td>5</td>\n",
       "      <td>8</td>\n",
       "    </tr>\n",
       "  </tbody>\n",
       "</table>\n",
       "</div>"
      ],
      "text/plain": [
       "   valor 1  valor 2\n",
       "m        1        2\n",
       "o        5        6\n",
       "p        5        8"
      ]
     },
     "execution_count": 23,
     "metadata": {},
     "output_type": "execute_result"
    }
   ],
   "source": [
    "# Para eliminar los duplicados usamos:\n",
    "df.drop_duplicates()"
   ]
  },
  {
   "cell_type": "code",
   "execution_count": 24,
   "id": "943f3106",
   "metadata": {},
   "outputs": [
    {
     "data": {
      "text/html": [
       "<div>\n",
       "<style scoped>\n",
       "    .dataframe tbody tr th:only-of-type {\n",
       "        vertical-align: middle;\n",
       "    }\n",
       "\n",
       "    .dataframe tbody tr th {\n",
       "        vertical-align: top;\n",
       "    }\n",
       "\n",
       "    .dataframe thead th {\n",
       "        text-align: right;\n",
       "    }\n",
       "</style>\n",
       "<table border=\"1\" class=\"dataframe\">\n",
       "  <thead>\n",
       "    <tr style=\"text-align: right;\">\n",
       "      <th></th>\n",
       "      <th>valor 1</th>\n",
       "      <th>valor 2</th>\n",
       "    </tr>\n",
       "  </thead>\n",
       "  <tbody>\n",
       "    <tr>\n",
       "      <th>m</th>\n",
       "      <td>1</td>\n",
       "      <td>2</td>\n",
       "    </tr>\n",
       "    <tr>\n",
       "      <th>n</th>\n",
       "      <td>1</td>\n",
       "      <td>2</td>\n",
       "    </tr>\n",
       "    <tr>\n",
       "      <th>o</th>\n",
       "      <td>5</td>\n",
       "      <td>6</td>\n",
       "    </tr>\n",
       "    <tr>\n",
       "      <th>p</th>\n",
       "      <td>5</td>\n",
       "      <td>8</td>\n",
       "    </tr>\n",
       "  </tbody>\n",
       "</table>\n",
       "</div>"
      ],
      "text/plain": [
       "   valor 1  valor 2\n",
       "m        1        2\n",
       "n        1        2\n",
       "o        5        6\n",
       "p        5        8"
      ]
     },
     "execution_count": 24,
     "metadata": {},
     "output_type": "execute_result"
    }
   ],
   "source": [
    "df"
   ]
  },
  {
   "cell_type": "code",
   "execution_count": 25,
   "id": "d94175e2",
   "metadata": {},
   "outputs": [
    {
     "data": {
      "text/html": [
       "<div>\n",
       "<style scoped>\n",
       "    .dataframe tbody tr th:only-of-type {\n",
       "        vertical-align: middle;\n",
       "    }\n",
       "\n",
       "    .dataframe tbody tr th {\n",
       "        vertical-align: top;\n",
       "    }\n",
       "\n",
       "    .dataframe thead th {\n",
       "        text-align: right;\n",
       "    }\n",
       "</style>\n",
       "<table border=\"1\" class=\"dataframe\">\n",
       "  <thead>\n",
       "    <tr style=\"text-align: right;\">\n",
       "      <th></th>\n",
       "      <th>valor 1</th>\n",
       "      <th>valor 2</th>\n",
       "    </tr>\n",
       "  </thead>\n",
       "  <tbody>\n",
       "    <tr>\n",
       "      <th>m</th>\n",
       "      <td>1</td>\n",
       "      <td>2</td>\n",
       "    </tr>\n",
       "    <tr>\n",
       "      <th>o</th>\n",
       "      <td>5</td>\n",
       "      <td>6</td>\n",
       "    </tr>\n",
       "  </tbody>\n",
       "</table>\n",
       "</div>"
      ],
      "text/plain": [
       "   valor 1  valor 2\n",
       "m        1        2\n",
       "o        5        6"
      ]
     },
     "execution_count": 25,
     "metadata": {},
     "output_type": "execute_result"
    }
   ],
   "source": [
    "# Para eliminar los duplicados por columna usamos:\n",
    "df.drop_duplicates(['valor 1'])"
   ]
  },
  {
   "cell_type": "markdown",
   "id": "aa954d7c",
   "metadata": {},
   "source": [
    "# Reemplazar  datos en Series"
   ]
  },
  {
   "cell_type": "code",
   "execution_count": 26,
   "id": "d67415f8",
   "metadata": {},
   "outputs": [],
   "source": [
    "import pandas as pd"
   ]
  },
  {
   "cell_type": "code",
   "execution_count": 27,
   "id": "6e6b9a5c",
   "metadata": {},
   "outputs": [
    {
     "data": {
      "text/plain": [
       "a    1\n",
       "b    2\n",
       "c    3\n",
       "d    4\n",
       "e    5\n",
       "dtype: int64"
      ]
     },
     "execution_count": 27,
     "metadata": {},
     "output_type": "execute_result"
    }
   ],
   "source": [
    "serie = pd.Series([1,2,3,4,5], index=['a','b','c','d','e'])\n",
    "serie"
   ]
  },
  {
   "cell_type": "code",
   "execution_count": 29,
   "id": "07ab3218",
   "metadata": {},
   "outputs": [
    {
     "data": {
      "text/plain": [
       "a    8\n",
       "b    2\n",
       "c    3\n",
       "d    4\n",
       "e    5\n",
       "dtype: int64"
      ]
     },
     "execution_count": 29,
     "metadata": {},
     "output_type": "execute_result"
    }
   ],
   "source": [
    "# Para reemplazar usamos replace(valor, valor)\n",
    "cambio = serie.replace(1,8)\n",
    "cambio"
   ]
  },
  {
   "cell_type": "markdown",
   "id": "bb11e154",
   "metadata": {},
   "source": [
    "# Agrupación de datos en Categorias"
   ]
  },
  {
   "cell_type": "code",
   "execution_count": 31,
   "id": "a14e26c2",
   "metadata": {},
   "outputs": [],
   "source": [
    "import pandas as pd\n",
    "import numpy as np"
   ]
  },
  {
   "cell_type": "code",
   "execution_count": 33,
   "id": "33d0650f",
   "metadata": {},
   "outputs": [],
   "source": [
    "precios = [42,55,48,23,5,21,88,34,26]\n",
    "rango = [10,20,30,40,50,60,70,80,90,100]"
   ]
  },
  {
   "cell_type": "code",
   "execution_count": 35,
   "id": "33d0650f",
   "metadata": {},
   "outputs": [
    {
     "data": {
      "text/plain": [
       "[(40.0, 50.0], (50.0, 60.0], (40.0, 50.0], (20.0, 30.0], NaN, (20.0, 30.0], (80.0, 90.0], (30.0, 40.0], (20.0, 30.0]]\n",
       "Categories (9, interval[int64, right]): [(10, 20] < (20, 30] < (30, 40] < (40, 50] ... (60, 70] < (70, 80] < (80, 90] < (90, 100]]"
      ]
     },
     "execution_count": 35,
     "metadata": {},
     "output_type": "execute_result"
    }
   ],
   "source": [
    "preciosRango = pd.cut(precios, rango)\n",
    "preciosRango"
   ]
  },
  {
   "cell_type": "code",
   "execution_count": 36,
   "id": "a56fe849",
   "metadata": {},
   "outputs": [
    {
     "data": {
      "text/plain": [
       "(20, 30]     3\n",
       "(40, 50]     2\n",
       "(30, 40]     1\n",
       "(50, 60]     1\n",
       "(80, 90]     1\n",
       "(10, 20]     0\n",
       "(60, 70]     0\n",
       "(70, 80]     0\n",
       "(90, 100]    0\n",
       "dtype: int64"
      ]
     },
     "execution_count": 36,
     "metadata": {},
     "output_type": "execute_result"
    }
   ],
   "source": [
    "count = pd.value_counts(preciosRango)\n",
    "count"
   ]
  },
  {
   "cell_type": "markdown",
   "id": "b321807c",
   "metadata": {},
   "source": [
    "# Filtrar datos en DataFrame"
   ]
  },
  {
   "cell_type": "code",
   "execution_count": 37,
   "id": "b1be2685",
   "metadata": {},
   "outputs": [],
   "source": [
    "import pandas as pd\n",
    "import numpy as np"
   ]
  },
  {
   "cell_type": "code",
   "execution_count": 38,
   "id": "57d93647",
   "metadata": {},
   "outputs": [
    {
     "data": {
      "text/plain": [
       "array([[0.17166428, 0.05433627, 0.84952509],\n",
       "       [0.22353674, 0.00273094, 0.05964027],\n",
       "       [0.13115421, 0.71765886, 0.12048483],\n",
       "       [0.48748614, 0.84581507, 0.08146901],\n",
       "       [0.16119324, 0.11451363, 0.35223157],\n",
       "       [0.02924115, 0.94395877, 0.06681468],\n",
       "       [0.19078705, 0.3166947 , 0.37685777],\n",
       "       [0.15979521, 0.69758384, 0.79959911],\n",
       "       [0.87371948, 0.11835676, 0.46509013],\n",
       "       [0.02862334, 0.93764995, 0.96295606]])"
      ]
     },
     "execution_count": 38,
     "metadata": {},
     "output_type": "execute_result"
    }
   ],
   "source": [
    "lista_valores = np.random.rand(10,3)\n",
    "lista_valores"
   ]
  },
  {
   "cell_type": "code",
   "execution_count": 39,
   "id": "7918db86",
   "metadata": {},
   "outputs": [
    {
     "data": {
      "text/html": [
       "<div>\n",
       "<style scoped>\n",
       "    .dataframe tbody tr th:only-of-type {\n",
       "        vertical-align: middle;\n",
       "    }\n",
       "\n",
       "    .dataframe tbody tr th {\n",
       "        vertical-align: top;\n",
       "    }\n",
       "\n",
       "    .dataframe thead th {\n",
       "        text-align: right;\n",
       "    }\n",
       "</style>\n",
       "<table border=\"1\" class=\"dataframe\">\n",
       "  <thead>\n",
       "    <tr style=\"text-align: right;\">\n",
       "      <th></th>\n",
       "      <th>0</th>\n",
       "      <th>1</th>\n",
       "      <th>2</th>\n",
       "    </tr>\n",
       "  </thead>\n",
       "  <tbody>\n",
       "    <tr>\n",
       "      <th>0</th>\n",
       "      <td>0.171664</td>\n",
       "      <td>0.054336</td>\n",
       "      <td>0.849525</td>\n",
       "    </tr>\n",
       "    <tr>\n",
       "      <th>1</th>\n",
       "      <td>0.223537</td>\n",
       "      <td>0.002731</td>\n",
       "      <td>0.059640</td>\n",
       "    </tr>\n",
       "    <tr>\n",
       "      <th>2</th>\n",
       "      <td>0.131154</td>\n",
       "      <td>0.717659</td>\n",
       "      <td>0.120485</td>\n",
       "    </tr>\n",
       "    <tr>\n",
       "      <th>3</th>\n",
       "      <td>0.487486</td>\n",
       "      <td>0.845815</td>\n",
       "      <td>0.081469</td>\n",
       "    </tr>\n",
       "    <tr>\n",
       "      <th>4</th>\n",
       "      <td>0.161193</td>\n",
       "      <td>0.114514</td>\n",
       "      <td>0.352232</td>\n",
       "    </tr>\n",
       "    <tr>\n",
       "      <th>5</th>\n",
       "      <td>0.029241</td>\n",
       "      <td>0.943959</td>\n",
       "      <td>0.066815</td>\n",
       "    </tr>\n",
       "    <tr>\n",
       "      <th>6</th>\n",
       "      <td>0.190787</td>\n",
       "      <td>0.316695</td>\n",
       "      <td>0.376858</td>\n",
       "    </tr>\n",
       "    <tr>\n",
       "      <th>7</th>\n",
       "      <td>0.159795</td>\n",
       "      <td>0.697584</td>\n",
       "      <td>0.799599</td>\n",
       "    </tr>\n",
       "    <tr>\n",
       "      <th>8</th>\n",
       "      <td>0.873719</td>\n",
       "      <td>0.118357</td>\n",
       "      <td>0.465090</td>\n",
       "    </tr>\n",
       "    <tr>\n",
       "      <th>9</th>\n",
       "      <td>0.028623</td>\n",
       "      <td>0.937650</td>\n",
       "      <td>0.962956</td>\n",
       "    </tr>\n",
       "  </tbody>\n",
       "</table>\n",
       "</div>"
      ],
      "text/plain": [
       "          0         1         2\n",
       "0  0.171664  0.054336  0.849525\n",
       "1  0.223537  0.002731  0.059640\n",
       "2  0.131154  0.717659  0.120485\n",
       "3  0.487486  0.845815  0.081469\n",
       "4  0.161193  0.114514  0.352232\n",
       "5  0.029241  0.943959  0.066815\n",
       "6  0.190787  0.316695  0.376858\n",
       "7  0.159795  0.697584  0.799599\n",
       "8  0.873719  0.118357  0.465090\n",
       "9  0.028623  0.937650  0.962956"
      ]
     },
     "execution_count": 39,
     "metadata": {},
     "output_type": "execute_result"
    }
   ],
   "source": [
    "df = pd.DataFrame(lista_valores)\n",
    "df"
   ]
  },
  {
   "cell_type": "code",
   "execution_count": 40,
   "id": "f07e854c",
   "metadata": {},
   "outputs": [
    {
     "data": {
      "text/plain": [
       "0    0.171664\n",
       "1    0.223537\n",
       "2    0.131154\n",
       "3    0.487486\n",
       "4    0.161193\n",
       "5    0.029241\n",
       "6    0.190787\n",
       "7    0.159795\n",
       "8    0.873719\n",
       "9    0.028623\n",
       "Name: 0, dtype: float64"
      ]
     },
     "execution_count": 40,
     "metadata": {},
     "output_type": "execute_result"
    }
   ],
   "source": [
    "columna = df[0]\n",
    "columna"
   ]
  },
  {
   "cell_type": "code",
   "execution_count": 41,
   "id": "68a3f938",
   "metadata": {},
   "outputs": [
    {
     "data": {
      "text/plain": [
       "1    0.223537\n",
       "3    0.487486\n",
       "8    0.873719\n",
       "Name: 0, dtype: float64"
      ]
     },
     "execution_count": 41,
     "metadata": {},
     "output_type": "execute_result"
    }
   ],
   "source": [
    "columna[columna > 0.20]"
   ]
  },
  {
   "cell_type": "markdown",
   "id": "460cc16a",
   "metadata": {},
   "source": [
    "# Combinaciones de elementos"
   ]
  },
  {
   "cell_type": "code",
   "execution_count": 42,
   "id": "1d1764a8",
   "metadata": {},
   "outputs": [],
   "source": [
    "import pandas as pd\n",
    "import numpy as np"
   ]
  },
  {
   "cell_type": "code",
   "execution_count": 43,
   "id": "41fc29de",
   "metadata": {},
   "outputs": [
    {
     "data": {
      "text/plain": [
       "array([[ 0,  1,  2,  3,  4],\n",
       "       [ 5,  6,  7,  8,  9],\n",
       "       [10, 11, 12, 13, 14],\n",
       "       [15, 16, 17, 18, 19],\n",
       "       [20, 21, 22, 23, 24]])"
      ]
     },
     "execution_count": 43,
     "metadata": {},
     "output_type": "execute_result"
    }
   ],
   "source": [
    "lista_valores = np.arange(25).reshape(5,5)\n",
    "lista_valores"
   ]
  },
  {
   "cell_type": "code",
   "execution_count": 44,
   "id": "882a7b6d",
   "metadata": {},
   "outputs": [
    {
     "data": {
      "text/html": [
       "<div>\n",
       "<style scoped>\n",
       "    .dataframe tbody tr th:only-of-type {\n",
       "        vertical-align: middle;\n",
       "    }\n",
       "\n",
       "    .dataframe tbody tr th {\n",
       "        vertical-align: top;\n",
       "    }\n",
       "\n",
       "    .dataframe thead th {\n",
       "        text-align: right;\n",
       "    }\n",
       "</style>\n",
       "<table border=\"1\" class=\"dataframe\">\n",
       "  <thead>\n",
       "    <tr style=\"text-align: right;\">\n",
       "      <th></th>\n",
       "      <th>0</th>\n",
       "      <th>1</th>\n",
       "      <th>2</th>\n",
       "      <th>3</th>\n",
       "      <th>4</th>\n",
       "    </tr>\n",
       "  </thead>\n",
       "  <tbody>\n",
       "    <tr>\n",
       "      <th>0</th>\n",
       "      <td>0</td>\n",
       "      <td>1</td>\n",
       "      <td>2</td>\n",
       "      <td>3</td>\n",
       "      <td>4</td>\n",
       "    </tr>\n",
       "    <tr>\n",
       "      <th>1</th>\n",
       "      <td>5</td>\n",
       "      <td>6</td>\n",
       "      <td>7</td>\n",
       "      <td>8</td>\n",
       "      <td>9</td>\n",
       "    </tr>\n",
       "    <tr>\n",
       "      <th>2</th>\n",
       "      <td>10</td>\n",
       "      <td>11</td>\n",
       "      <td>12</td>\n",
       "      <td>13</td>\n",
       "      <td>14</td>\n",
       "    </tr>\n",
       "    <tr>\n",
       "      <th>3</th>\n",
       "      <td>15</td>\n",
       "      <td>16</td>\n",
       "      <td>17</td>\n",
       "      <td>18</td>\n",
       "      <td>19</td>\n",
       "    </tr>\n",
       "    <tr>\n",
       "      <th>4</th>\n",
       "      <td>20</td>\n",
       "      <td>21</td>\n",
       "      <td>22</td>\n",
       "      <td>23</td>\n",
       "      <td>24</td>\n",
       "    </tr>\n",
       "  </tbody>\n",
       "</table>\n",
       "</div>"
      ],
      "text/plain": [
       "    0   1   2   3   4\n",
       "0   0   1   2   3   4\n",
       "1   5   6   7   8   9\n",
       "2  10  11  12  13  14\n",
       "3  15  16  17  18  19\n",
       "4  20  21  22  23  24"
      ]
     },
     "execution_count": 44,
     "metadata": {},
     "output_type": "execute_result"
    }
   ],
   "source": [
    "df = pd.DataFrame(lista_valores)\n",
    "df"
   ]
  },
  {
   "cell_type": "code",
   "execution_count": 45,
   "id": "dcb862ba",
   "metadata": {},
   "outputs": [
    {
     "data": {
      "text/plain": [
       "array([4, 1, 3, 0, 2])"
      ]
     },
     "execution_count": 45,
     "metadata": {},
     "output_type": "execute_result"
    }
   ],
   "source": [
    "# Crear combinación aleatoria usando numpy, random y permutation\n",
    "combinacion_aleatoria = np.random.permutation(5)\n",
    "combinacion_aleatoria"
   ]
  },
  {
   "cell_type": "code",
   "execution_count": 46,
   "id": "65385507",
   "metadata": {},
   "outputs": [
    {
     "data": {
      "text/html": [
       "<div>\n",
       "<style scoped>\n",
       "    .dataframe tbody tr th:only-of-type {\n",
       "        vertical-align: middle;\n",
       "    }\n",
       "\n",
       "    .dataframe tbody tr th {\n",
       "        vertical-align: top;\n",
       "    }\n",
       "\n",
       "    .dataframe thead th {\n",
       "        text-align: right;\n",
       "    }\n",
       "</style>\n",
       "<table border=\"1\" class=\"dataframe\">\n",
       "  <thead>\n",
       "    <tr style=\"text-align: right;\">\n",
       "      <th></th>\n",
       "      <th>0</th>\n",
       "      <th>1</th>\n",
       "      <th>2</th>\n",
       "      <th>3</th>\n",
       "      <th>4</th>\n",
       "    </tr>\n",
       "  </thead>\n",
       "  <tbody>\n",
       "    <tr>\n",
       "      <th>0</th>\n",
       "      <td>0</td>\n",
       "      <td>1</td>\n",
       "      <td>2</td>\n",
       "      <td>3</td>\n",
       "      <td>4</td>\n",
       "    </tr>\n",
       "    <tr>\n",
       "      <th>1</th>\n",
       "      <td>5</td>\n",
       "      <td>6</td>\n",
       "      <td>7</td>\n",
       "      <td>8</td>\n",
       "      <td>9</td>\n",
       "    </tr>\n",
       "    <tr>\n",
       "      <th>2</th>\n",
       "      <td>10</td>\n",
       "      <td>11</td>\n",
       "      <td>12</td>\n",
       "      <td>13</td>\n",
       "      <td>14</td>\n",
       "    </tr>\n",
       "    <tr>\n",
       "      <th>3</th>\n",
       "      <td>15</td>\n",
       "      <td>16</td>\n",
       "      <td>17</td>\n",
       "      <td>18</td>\n",
       "      <td>19</td>\n",
       "    </tr>\n",
       "    <tr>\n",
       "      <th>4</th>\n",
       "      <td>20</td>\n",
       "      <td>21</td>\n",
       "      <td>22</td>\n",
       "      <td>23</td>\n",
       "      <td>24</td>\n",
       "    </tr>\n",
       "  </tbody>\n",
       "</table>\n",
       "</div>"
      ],
      "text/plain": [
       "    0   1   2   3   4\n",
       "0   0   1   2   3   4\n",
       "1   5   6   7   8   9\n",
       "2  10  11  12  13  14\n",
       "3  15  16  17  18  19\n",
       "4  20  21  22  23  24"
      ]
     },
     "execution_count": 46,
     "metadata": {},
     "output_type": "execute_result"
    }
   ],
   "source": [
    "df"
   ]
  },
  {
   "cell_type": "code",
   "execution_count": 47,
   "id": "298268c6",
   "metadata": {},
   "outputs": [
    {
     "data": {
      "text/html": [
       "<div>\n",
       "<style scoped>\n",
       "    .dataframe tbody tr th:only-of-type {\n",
       "        vertical-align: middle;\n",
       "    }\n",
       "\n",
       "    .dataframe tbody tr th {\n",
       "        vertical-align: top;\n",
       "    }\n",
       "\n",
       "    .dataframe thead th {\n",
       "        text-align: right;\n",
       "    }\n",
       "</style>\n",
       "<table border=\"1\" class=\"dataframe\">\n",
       "  <thead>\n",
       "    <tr style=\"text-align: right;\">\n",
       "      <th></th>\n",
       "      <th>0</th>\n",
       "      <th>1</th>\n",
       "      <th>2</th>\n",
       "      <th>3</th>\n",
       "      <th>4</th>\n",
       "    </tr>\n",
       "  </thead>\n",
       "  <tbody>\n",
       "    <tr>\n",
       "      <th>4</th>\n",
       "      <td>20</td>\n",
       "      <td>21</td>\n",
       "      <td>22</td>\n",
       "      <td>23</td>\n",
       "      <td>24</td>\n",
       "    </tr>\n",
       "    <tr>\n",
       "      <th>1</th>\n",
       "      <td>5</td>\n",
       "      <td>6</td>\n",
       "      <td>7</td>\n",
       "      <td>8</td>\n",
       "      <td>9</td>\n",
       "    </tr>\n",
       "    <tr>\n",
       "      <th>3</th>\n",
       "      <td>15</td>\n",
       "      <td>16</td>\n",
       "      <td>17</td>\n",
       "      <td>18</td>\n",
       "      <td>19</td>\n",
       "    </tr>\n",
       "    <tr>\n",
       "      <th>0</th>\n",
       "      <td>0</td>\n",
       "      <td>1</td>\n",
       "      <td>2</td>\n",
       "      <td>3</td>\n",
       "      <td>4</td>\n",
       "    </tr>\n",
       "    <tr>\n",
       "      <th>2</th>\n",
       "      <td>10</td>\n",
       "      <td>11</td>\n",
       "      <td>12</td>\n",
       "      <td>13</td>\n",
       "      <td>14</td>\n",
       "    </tr>\n",
       "  </tbody>\n",
       "</table>\n",
       "</div>"
      ],
      "text/plain": [
       "    0   1   2   3   4\n",
       "4  20  21  22  23  24\n",
       "1   5   6   7   8   9\n",
       "3  15  16  17  18  19\n",
       "0   0   1   2   3   4\n",
       "2  10  11  12  13  14"
      ]
     },
     "execution_count": 47,
     "metadata": {},
     "output_type": "execute_result"
    }
   ],
   "source": [
    "df.take(combinacion_aleatoria)"
   ]
  },
  {
   "cell_type": "markdown",
   "id": "cdd502f6",
   "metadata": {},
   "source": [
    "# Agurpación en DataFrames"
   ]
  },
  {
   "cell_type": "code",
   "execution_count": 5,
   "id": "20cf8904",
   "metadata": {},
   "outputs": [],
   "source": [
    "import pandas as pd\n",
    "import numpy as np"
   ]
  },
  {
   "cell_type": "code",
   "execution_count": 6,
   "id": "3b359378",
   "metadata": {},
   "outputs": [
    {
     "data": {
      "text/plain": [
       "{'clave 1': ['x', 'x', 'y', 'y', 'z'],\n",
       " 'clave 2': ['a', 'b', 'a', 'b', 'a'],\n",
       " 'datos 1': array([0.75510102, 0.32945247, 0.96741543, 0.44885877, 0.24199504]),\n",
       " 'datos 2': array([0.45595718, 0.3410305 , 0.64719747, 0.31218228, 0.83801962])}"
      ]
     },
     "execution_count": 6,
     "metadata": {},
     "output_type": "execute_result"
    }
   ],
   "source": [
    "# primero se debe crear un array de 4 columnas y 5 filas\n",
    "lista_valores = {'clave 1':['x','x','y','y','z'], 'clave 2':['a','b','a','b','a'],\n",
    "                'datos 1':np.random.rand(5), 'datos 2':np.random.rand(5)}\n",
    "lista_valores"
   ]
  },
  {
   "cell_type": "code",
   "execution_count": 7,
   "id": "472bc0c0",
   "metadata": {},
   "outputs": [
    {
     "data": {
      "text/html": [
       "<div>\n",
       "<style scoped>\n",
       "    .dataframe tbody tr th:only-of-type {\n",
       "        vertical-align: middle;\n",
       "    }\n",
       "\n",
       "    .dataframe tbody tr th {\n",
       "        vertical-align: top;\n",
       "    }\n",
       "\n",
       "    .dataframe thead th {\n",
       "        text-align: right;\n",
       "    }\n",
       "</style>\n",
       "<table border=\"1\" class=\"dataframe\">\n",
       "  <thead>\n",
       "    <tr style=\"text-align: right;\">\n",
       "      <th></th>\n",
       "      <th>clave 1</th>\n",
       "      <th>clave 2</th>\n",
       "      <th>datos 1</th>\n",
       "      <th>datos 2</th>\n",
       "    </tr>\n",
       "  </thead>\n",
       "  <tbody>\n",
       "    <tr>\n",
       "      <th>0</th>\n",
       "      <td>x</td>\n",
       "      <td>a</td>\n",
       "      <td>0.755101</td>\n",
       "      <td>0.455957</td>\n",
       "    </tr>\n",
       "    <tr>\n",
       "      <th>1</th>\n",
       "      <td>x</td>\n",
       "      <td>b</td>\n",
       "      <td>0.329452</td>\n",
       "      <td>0.341031</td>\n",
       "    </tr>\n",
       "    <tr>\n",
       "      <th>2</th>\n",
       "      <td>y</td>\n",
       "      <td>a</td>\n",
       "      <td>0.967415</td>\n",
       "      <td>0.647197</td>\n",
       "    </tr>\n",
       "    <tr>\n",
       "      <th>3</th>\n",
       "      <td>y</td>\n",
       "      <td>b</td>\n",
       "      <td>0.448859</td>\n",
       "      <td>0.312182</td>\n",
       "    </tr>\n",
       "    <tr>\n",
       "      <th>4</th>\n",
       "      <td>z</td>\n",
       "      <td>a</td>\n",
       "      <td>0.241995</td>\n",
       "      <td>0.838020</td>\n",
       "    </tr>\n",
       "  </tbody>\n",
       "</table>\n",
       "</div>"
      ],
      "text/plain": [
       "  clave 1 clave 2   datos 1   datos 2\n",
       "0       x       a  0.755101  0.455957\n",
       "1       x       b  0.329452  0.341031\n",
       "2       y       a  0.967415  0.647197\n",
       "3       y       b  0.448859  0.312182\n",
       "4       z       a  0.241995  0.838020"
      ]
     },
     "execution_count": 7,
     "metadata": {},
     "output_type": "execute_result"
    }
   ],
   "source": [
    "# ahora lo convertimos a un dataframe \n",
    "df = pd.DataFrame(lista_valores)\n",
    "df"
   ]
  },
  {
   "cell_type": "code",
   "execution_count": 10,
   "id": "3f961293",
   "metadata": {},
   "outputs": [
    {
     "data": {
      "text/plain": [
       "<pandas.core.groupby.generic.SeriesGroupBy object at 0x7fd92ef13128>"
      ]
     },
     "execution_count": 10,
     "metadata": {},
     "output_type": "execute_result"
    }
   ],
   "source": [
    "grupo1 = df['datos 1'].groupby(df['clave 1'])\n",
    "grupo1"
   ]
  },
  {
   "cell_type": "code",
   "execution_count": 11,
   "id": "1a2293bb",
   "metadata": {},
   "outputs": [
    {
     "data": {
      "text/plain": [
       "clave 1\n",
       "x    0.542277\n",
       "y    0.708137\n",
       "z    0.241995\n",
       "Name: datos 1, dtype: float64"
      ]
     },
     "execution_count": 11,
     "metadata": {},
     "output_type": "execute_result"
    }
   ],
   "source": [
    "grupo1.mean()"
   ]
  },
  {
   "cell_type": "markdown",
   "id": "3b3be687",
   "metadata": {},
   "source": [
    "# Agregación en Dataframes"
   ]
  },
  {
   "cell_type": "code",
   "execution_count": 12,
   "id": "f86ff475",
   "metadata": {},
   "outputs": [],
   "source": [
    "import pandas as pd\n",
    "import numpy as np"
   ]
  },
  {
   "cell_type": "code",
   "execution_count": 13,
   "id": "99fc4947",
   "metadata": {},
   "outputs": [
    {
     "data": {
      "text/plain": [
       "[[1, 2, 3], [4, 5, 6], [7, 8, 9], [nan, nan, nan]]"
      ]
     },
     "execution_count": 13,
     "metadata": {},
     "output_type": "execute_result"
    }
   ],
   "source": [
    "lista_Valores = [[1,2,3],[4,5,6], [7,8,9],[np.nan, np.nan, np.nan]]\n",
    "lista_Valores"
   ]
  },
  {
   "cell_type": "code",
   "execution_count": 14,
   "id": "39da72aa",
   "metadata": {},
   "outputs": [
    {
     "data": {
      "text/plain": [
       "['a', 'b', 'c']"
      ]
     },
     "execution_count": 14,
     "metadata": {},
     "output_type": "execute_result"
    }
   ],
   "source": [
    "lista_columnas = list('abc')\n",
    "lista_columnas"
   ]
  },
  {
   "cell_type": "code",
   "execution_count": 17,
   "id": "d31bfdc4",
   "metadata": {},
   "outputs": [
    {
     "data": {
      "text/html": [
       "<div>\n",
       "<style scoped>\n",
       "    .dataframe tbody tr th:only-of-type {\n",
       "        vertical-align: middle;\n",
       "    }\n",
       "\n",
       "    .dataframe tbody tr th {\n",
       "        vertical-align: top;\n",
       "    }\n",
       "\n",
       "    .dataframe thead th {\n",
       "        text-align: right;\n",
       "    }\n",
       "</style>\n",
       "<table border=\"1\" class=\"dataframe\">\n",
       "  <thead>\n",
       "    <tr style=\"text-align: right;\">\n",
       "      <th></th>\n",
       "      <th>a</th>\n",
       "      <th>b</th>\n",
       "      <th>c</th>\n",
       "    </tr>\n",
       "  </thead>\n",
       "  <tbody>\n",
       "    <tr>\n",
       "      <th>0</th>\n",
       "      <td>1.0</td>\n",
       "      <td>2.0</td>\n",
       "      <td>3.0</td>\n",
       "    </tr>\n",
       "    <tr>\n",
       "      <th>1</th>\n",
       "      <td>4.0</td>\n",
       "      <td>5.0</td>\n",
       "      <td>6.0</td>\n",
       "    </tr>\n",
       "    <tr>\n",
       "      <th>2</th>\n",
       "      <td>7.0</td>\n",
       "      <td>8.0</td>\n",
       "      <td>9.0</td>\n",
       "    </tr>\n",
       "    <tr>\n",
       "      <th>3</th>\n",
       "      <td>NaN</td>\n",
       "      <td>NaN</td>\n",
       "      <td>NaN</td>\n",
       "    </tr>\n",
       "  </tbody>\n",
       "</table>\n",
       "</div>"
      ],
      "text/plain": [
       "     a    b    c\n",
       "0  1.0  2.0  3.0\n",
       "1  4.0  5.0  6.0\n",
       "2  7.0  8.0  9.0\n",
       "3  NaN  NaN  NaN"
      ]
     },
     "execution_count": 17,
     "metadata": {},
     "output_type": "execute_result"
    }
   ],
   "source": [
    "df = pd.DataFrame(lista_Valores, columns=lista_columnas)\n",
    "df"
   ]
  },
  {
   "cell_type": "code",
   "execution_count": 18,
   "id": "30e32c1e",
   "metadata": {},
   "outputs": [
    {
     "data": {
      "text/html": [
       "<div>\n",
       "<style scoped>\n",
       "    .dataframe tbody tr th:only-of-type {\n",
       "        vertical-align: middle;\n",
       "    }\n",
       "\n",
       "    .dataframe tbody tr th {\n",
       "        vertical-align: top;\n",
       "    }\n",
       "\n",
       "    .dataframe thead th {\n",
       "        text-align: right;\n",
       "    }\n",
       "</style>\n",
       "<table border=\"1\" class=\"dataframe\">\n",
       "  <thead>\n",
       "    <tr style=\"text-align: right;\">\n",
       "      <th></th>\n",
       "      <th>a</th>\n",
       "      <th>b</th>\n",
       "      <th>c</th>\n",
       "    </tr>\n",
       "  </thead>\n",
       "  <tbody>\n",
       "    <tr>\n",
       "      <th>sum</th>\n",
       "      <td>12.0</td>\n",
       "      <td>15.0</td>\n",
       "      <td>18.0</td>\n",
       "    </tr>\n",
       "    <tr>\n",
       "      <th>min</th>\n",
       "      <td>1.0</td>\n",
       "      <td>2.0</td>\n",
       "      <td>3.0</td>\n",
       "    </tr>\n",
       "  </tbody>\n",
       "</table>\n",
       "</div>"
      ],
      "text/plain": [
       "        a     b     c\n",
       "sum  12.0  15.0  18.0\n",
       "min   1.0   2.0   3.0"
      ]
     },
     "execution_count": 18,
     "metadata": {},
     "output_type": "execute_result"
    }
   ],
   "source": [
    "df.agg(['sum','min'])"
   ]
  },
  {
   "cell_type": "code",
   "execution_count": 22,
   "id": "fb8c5b15",
   "metadata": {},
   "outputs": [
    {
     "data": {
      "text/plain": [
       "0     6.0\n",
       "1    15.0\n",
       "2    24.0\n",
       "3     0.0\n",
       "dtype: float64"
      ]
     },
     "execution_count": 22,
     "metadata": {},
     "output_type": "execute_result"
    }
   ],
   "source": [
    "# ahora lo mismo por filas\n",
    "df.agg('sum', axis=1)"
   ]
  },
  {
   "cell_type": "markdown",
   "id": "d4dc56fc",
   "metadata": {},
   "source": [
    "# Ejercicio 1"
   ]
  },
  {
   "cell_type": "code",
   "execution_count": 38,
   "id": "6e7292b2",
   "metadata": {},
   "outputs": [],
   "source": [
    "# Creamos una lista de 50 valores aleatorios enteros entre los valores 0 y 100 convirtiendose\n",
    "# en una lista de 5 filas y 10 columnas, filtrar solo los mayores a 50\n",
    "import pandas as pd\n",
    "import numpy as np"
   ]
  },
  {
   "cell_type": "code",
   "execution_count": 39,
   "id": "1c5f772e",
   "metadata": {},
   "outputs": [
    {
     "data": {
      "text/plain": [
       "array([66, 31,  9, 78, 42, 82, 26,  4, 72, 58, 95, 43, 65, 50, 24, 19,  9,\n",
       "       20, 98, 35,  2, 32, 60, 90, 63, 67, 60, 78, 69, 35, 46, 11, 36, 14,\n",
       "       95, 99, 28, 69, 99, 71, 22, 12, 56, 68, 42, 77,  2, 54, 47,  1])"
      ]
     },
     "execution_count": 39,
     "metadata": {},
     "output_type": "execute_result"
    }
   ],
   "source": [
    "data = np.random.randint(0,100, 50)\n",
    "data"
   ]
  },
  {
   "cell_type": "code",
   "execution_count": 40,
   "id": "c09f8fbc",
   "metadata": {},
   "outputs": [
    {
     "data": {
      "text/plain": [
       "array([[66, 31,  9, 78, 42, 82, 26,  4, 72, 58],\n",
       "       [95, 43, 65, 50, 24, 19,  9, 20, 98, 35],\n",
       "       [ 2, 32, 60, 90, 63, 67, 60, 78, 69, 35],\n",
       "       [46, 11, 36, 14, 95, 99, 28, 69, 99, 71],\n",
       "       [22, 12, 56, 68, 42, 77,  2, 54, 47,  1]])"
      ]
     },
     "execution_count": 40,
     "metadata": {},
     "output_type": "execute_result"
    }
   ],
   "source": [
    "data.resize(5,10)\n",
    "data\n"
   ]
  },
  {
   "cell_type": "code",
   "execution_count": 41,
   "id": "b580f63b",
   "metadata": {},
   "outputs": [
    {
     "data": {
      "text/html": [
       "<div>\n",
       "<style scoped>\n",
       "    .dataframe tbody tr th:only-of-type {\n",
       "        vertical-align: middle;\n",
       "    }\n",
       "\n",
       "    .dataframe tbody tr th {\n",
       "        vertical-align: top;\n",
       "    }\n",
       "\n",
       "    .dataframe thead th {\n",
       "        text-align: right;\n",
       "    }\n",
       "</style>\n",
       "<table border=\"1\" class=\"dataframe\">\n",
       "  <thead>\n",
       "    <tr style=\"text-align: right;\">\n",
       "      <th></th>\n",
       "      <th>0</th>\n",
       "      <th>1</th>\n",
       "      <th>2</th>\n",
       "      <th>3</th>\n",
       "      <th>4</th>\n",
       "      <th>5</th>\n",
       "      <th>6</th>\n",
       "      <th>7</th>\n",
       "      <th>8</th>\n",
       "      <th>9</th>\n",
       "    </tr>\n",
       "  </thead>\n",
       "  <tbody>\n",
       "    <tr>\n",
       "      <th>0</th>\n",
       "      <td>66</td>\n",
       "      <td>31</td>\n",
       "      <td>9</td>\n",
       "      <td>78</td>\n",
       "      <td>42</td>\n",
       "      <td>82</td>\n",
       "      <td>26</td>\n",
       "      <td>4</td>\n",
       "      <td>72</td>\n",
       "      <td>58</td>\n",
       "    </tr>\n",
       "    <tr>\n",
       "      <th>1</th>\n",
       "      <td>95</td>\n",
       "      <td>43</td>\n",
       "      <td>65</td>\n",
       "      <td>50</td>\n",
       "      <td>24</td>\n",
       "      <td>19</td>\n",
       "      <td>9</td>\n",
       "      <td>20</td>\n",
       "      <td>98</td>\n",
       "      <td>35</td>\n",
       "    </tr>\n",
       "    <tr>\n",
       "      <th>2</th>\n",
       "      <td>2</td>\n",
       "      <td>32</td>\n",
       "      <td>60</td>\n",
       "      <td>90</td>\n",
       "      <td>63</td>\n",
       "      <td>67</td>\n",
       "      <td>60</td>\n",
       "      <td>78</td>\n",
       "      <td>69</td>\n",
       "      <td>35</td>\n",
       "    </tr>\n",
       "    <tr>\n",
       "      <th>3</th>\n",
       "      <td>46</td>\n",
       "      <td>11</td>\n",
       "      <td>36</td>\n",
       "      <td>14</td>\n",
       "      <td>95</td>\n",
       "      <td>99</td>\n",
       "      <td>28</td>\n",
       "      <td>69</td>\n",
       "      <td>99</td>\n",
       "      <td>71</td>\n",
       "    </tr>\n",
       "    <tr>\n",
       "      <th>4</th>\n",
       "      <td>22</td>\n",
       "      <td>12</td>\n",
       "      <td>56</td>\n",
       "      <td>68</td>\n",
       "      <td>42</td>\n",
       "      <td>77</td>\n",
       "      <td>2</td>\n",
       "      <td>54</td>\n",
       "      <td>47</td>\n",
       "      <td>1</td>\n",
       "    </tr>\n",
       "  </tbody>\n",
       "</table>\n",
       "</div>"
      ],
      "text/plain": [
       "    0   1   2   3   4   5   6   7   8   9\n",
       "0  66  31   9  78  42  82  26   4  72  58\n",
       "1  95  43  65  50  24  19   9  20  98  35\n",
       "2   2  32  60  90  63  67  60  78  69  35\n",
       "3  46  11  36  14  95  99  28  69  99  71\n",
       "4  22  12  56  68  42  77   2  54  47   1"
      ]
     },
     "execution_count": 41,
     "metadata": {},
     "output_type": "execute_result"
    }
   ],
   "source": [
    "df = pd.DataFrame(data)\n",
    "df"
   ]
  },
  {
   "cell_type": "code",
   "execution_count": 42,
   "id": "9734bd69",
   "metadata": {},
   "outputs": [
    {
     "data": {
      "text/html": [
       "<div>\n",
       "<style scoped>\n",
       "    .dataframe tbody tr th:only-of-type {\n",
       "        vertical-align: middle;\n",
       "    }\n",
       "\n",
       "    .dataframe tbody tr th {\n",
       "        vertical-align: top;\n",
       "    }\n",
       "\n",
       "    .dataframe thead th {\n",
       "        text-align: right;\n",
       "    }\n",
       "</style>\n",
       "<table border=\"1\" class=\"dataframe\">\n",
       "  <thead>\n",
       "    <tr style=\"text-align: right;\">\n",
       "      <th></th>\n",
       "      <th>0</th>\n",
       "      <th>1</th>\n",
       "      <th>2</th>\n",
       "      <th>3</th>\n",
       "      <th>4</th>\n",
       "      <th>5</th>\n",
       "      <th>6</th>\n",
       "      <th>7</th>\n",
       "      <th>8</th>\n",
       "      <th>9</th>\n",
       "    </tr>\n",
       "  </thead>\n",
       "  <tbody>\n",
       "    <tr>\n",
       "      <th>0</th>\n",
       "      <td>66.0</td>\n",
       "      <td>NaN</td>\n",
       "      <td>NaN</td>\n",
       "      <td>78.0</td>\n",
       "      <td>NaN</td>\n",
       "      <td>82.0</td>\n",
       "      <td>NaN</td>\n",
       "      <td>NaN</td>\n",
       "      <td>72.0</td>\n",
       "      <td>58.0</td>\n",
       "    </tr>\n",
       "    <tr>\n",
       "      <th>1</th>\n",
       "      <td>95.0</td>\n",
       "      <td>NaN</td>\n",
       "      <td>65.0</td>\n",
       "      <td>NaN</td>\n",
       "      <td>NaN</td>\n",
       "      <td>NaN</td>\n",
       "      <td>NaN</td>\n",
       "      <td>NaN</td>\n",
       "      <td>98.0</td>\n",
       "      <td>NaN</td>\n",
       "    </tr>\n",
       "    <tr>\n",
       "      <th>2</th>\n",
       "      <td>NaN</td>\n",
       "      <td>NaN</td>\n",
       "      <td>60.0</td>\n",
       "      <td>90.0</td>\n",
       "      <td>63.0</td>\n",
       "      <td>67.0</td>\n",
       "      <td>60.0</td>\n",
       "      <td>78.0</td>\n",
       "      <td>69.0</td>\n",
       "      <td>NaN</td>\n",
       "    </tr>\n",
       "    <tr>\n",
       "      <th>3</th>\n",
       "      <td>NaN</td>\n",
       "      <td>NaN</td>\n",
       "      <td>NaN</td>\n",
       "      <td>NaN</td>\n",
       "      <td>95.0</td>\n",
       "      <td>99.0</td>\n",
       "      <td>NaN</td>\n",
       "      <td>69.0</td>\n",
       "      <td>99.0</td>\n",
       "      <td>71.0</td>\n",
       "    </tr>\n",
       "    <tr>\n",
       "      <th>4</th>\n",
       "      <td>NaN</td>\n",
       "      <td>NaN</td>\n",
       "      <td>56.0</td>\n",
       "      <td>68.0</td>\n",
       "      <td>NaN</td>\n",
       "      <td>77.0</td>\n",
       "      <td>NaN</td>\n",
       "      <td>54.0</td>\n",
       "      <td>NaN</td>\n",
       "      <td>NaN</td>\n",
       "    </tr>\n",
       "  </tbody>\n",
       "</table>\n",
       "</div>"
      ],
      "text/plain": [
       "      0   1     2     3     4     5     6     7     8     9\n",
       "0  66.0 NaN   NaN  78.0   NaN  82.0   NaN   NaN  72.0  58.0\n",
       "1  95.0 NaN  65.0   NaN   NaN   NaN   NaN   NaN  98.0   NaN\n",
       "2   NaN NaN  60.0  90.0  63.0  67.0  60.0  78.0  69.0   NaN\n",
       "3   NaN NaN   NaN   NaN  95.0  99.0   NaN  69.0  99.0  71.0\n",
       "4   NaN NaN  56.0  68.0   NaN  77.0   NaN  54.0   NaN   NaN"
      ]
     },
     "execution_count": 42,
     "metadata": {},
     "output_type": "execute_result"
    }
   ],
   "source": [
    "df[df > 50]"
   ]
  },
  {
   "cell_type": "markdown",
   "id": "0859bd23",
   "metadata": {},
   "source": [
    "# Ejercicio 2"
   ]
  },
  {
   "cell_type": "code",
   "execution_count": 45,
   "id": "9ebaef7d",
   "metadata": {},
   "outputs": [],
   "source": [
    "# Crear 2 arrays con 9 numeros aleatorios enteros entre los valores 0 y 100\n",
    "# Cambiar la estructura de los arrays en una estructura de 3 filas por 3 columnas\n",
    "# crear 2 dataframes con los arrays\n",
    "# concatenar los dataframes\n",
    "import pandas as pd\n",
    "import numpy as np"
   ]
  },
  {
   "cell_type": "code",
   "execution_count": 50,
   "id": "55690890",
   "metadata": {},
   "outputs": [],
   "source": [
    "arr1 = np.random.randint(0, 100, 9)\n",
    "arr2 = np.random.randint(0, 100, 9)\n"
   ]
  },
  {
   "cell_type": "code",
   "execution_count": 51,
   "id": "89932e1b",
   "metadata": {},
   "outputs": [],
   "source": [
    "arr1.resize(3,3)\n",
    "arr2.resize(3,3)"
   ]
  },
  {
   "cell_type": "code",
   "execution_count": 52,
   "id": "5b2bcfad",
   "metadata": {},
   "outputs": [
    {
     "name": "stdout",
     "output_type": "stream",
     "text": [
      "[[74 75 21]\n",
      " [ 8 75  1]\n",
      " [47 32 26]]\n",
      "[[47 78 67]\n",
      " [61 41 21]\n",
      " [27 74 55]]\n"
     ]
    }
   ],
   "source": [
    "print(arr1)\n",
    "print(arr2)"
   ]
  },
  {
   "cell_type": "code",
   "execution_count": 57,
   "id": "4069856b",
   "metadata": {},
   "outputs": [
    {
     "data": {
      "text/html": [
       "<div>\n",
       "<style scoped>\n",
       "    .dataframe tbody tr th:only-of-type {\n",
       "        vertical-align: middle;\n",
       "    }\n",
       "\n",
       "    .dataframe tbody tr th {\n",
       "        vertical-align: top;\n",
       "    }\n",
       "\n",
       "    .dataframe thead th {\n",
       "        text-align: right;\n",
       "    }\n",
       "</style>\n",
       "<table border=\"1\" class=\"dataframe\">\n",
       "  <thead>\n",
       "    <tr style=\"text-align: right;\">\n",
       "      <th></th>\n",
       "      <th>0</th>\n",
       "      <th>1</th>\n",
       "      <th>2</th>\n",
       "    </tr>\n",
       "  </thead>\n",
       "  <tbody>\n",
       "    <tr>\n",
       "      <th>0</th>\n",
       "      <td>74</td>\n",
       "      <td>75</td>\n",
       "      <td>21</td>\n",
       "    </tr>\n",
       "    <tr>\n",
       "      <th>1</th>\n",
       "      <td>8</td>\n",
       "      <td>75</td>\n",
       "      <td>1</td>\n",
       "    </tr>\n",
       "    <tr>\n",
       "      <th>2</th>\n",
       "      <td>47</td>\n",
       "      <td>32</td>\n",
       "      <td>26</td>\n",
       "    </tr>\n",
       "  </tbody>\n",
       "</table>\n",
       "</div>"
      ],
      "text/plain": [
       "    0   1   2\n",
       "0  74  75  21\n",
       "1   8  75   1\n",
       "2  47  32  26"
      ]
     },
     "execution_count": 57,
     "metadata": {},
     "output_type": "execute_result"
    }
   ],
   "source": [
    "df1 = pd.DataFrame(arr1)\n",
    "df1"
   ]
  },
  {
   "cell_type": "code",
   "execution_count": 58,
   "id": "58fc0e0e",
   "metadata": {},
   "outputs": [
    {
     "data": {
      "text/html": [
       "<div>\n",
       "<style scoped>\n",
       "    .dataframe tbody tr th:only-of-type {\n",
       "        vertical-align: middle;\n",
       "    }\n",
       "\n",
       "    .dataframe tbody tr th {\n",
       "        vertical-align: top;\n",
       "    }\n",
       "\n",
       "    .dataframe thead th {\n",
       "        text-align: right;\n",
       "    }\n",
       "</style>\n",
       "<table border=\"1\" class=\"dataframe\">\n",
       "  <thead>\n",
       "    <tr style=\"text-align: right;\">\n",
       "      <th></th>\n",
       "      <th>0</th>\n",
       "      <th>1</th>\n",
       "      <th>2</th>\n",
       "    </tr>\n",
       "  </thead>\n",
       "  <tbody>\n",
       "    <tr>\n",
       "      <th>0</th>\n",
       "      <td>47</td>\n",
       "      <td>78</td>\n",
       "      <td>67</td>\n",
       "    </tr>\n",
       "    <tr>\n",
       "      <th>1</th>\n",
       "      <td>61</td>\n",
       "      <td>41</td>\n",
       "      <td>21</td>\n",
       "    </tr>\n",
       "    <tr>\n",
       "      <th>2</th>\n",
       "      <td>27</td>\n",
       "      <td>74</td>\n",
       "      <td>55</td>\n",
       "    </tr>\n",
       "  </tbody>\n",
       "</table>\n",
       "</div>"
      ],
      "text/plain": [
       "    0   1   2\n",
       "0  47  78  67\n",
       "1  61  41  21\n",
       "2  27  74  55"
      ]
     },
     "execution_count": 58,
     "metadata": {},
     "output_type": "execute_result"
    }
   ],
   "source": [
    "df2 = pd.DataFrame(arr2)\n",
    "df2"
   ]
  },
  {
   "cell_type": "code",
   "execution_count": 64,
   "id": "aa8d4961",
   "metadata": {},
   "outputs": [
    {
     "data": {
      "text/html": [
       "<div>\n",
       "<style scoped>\n",
       "    .dataframe tbody tr th:only-of-type {\n",
       "        vertical-align: middle;\n",
       "    }\n",
       "\n",
       "    .dataframe tbody tr th {\n",
       "        vertical-align: top;\n",
       "    }\n",
       "\n",
       "    .dataframe thead th {\n",
       "        text-align: right;\n",
       "    }\n",
       "</style>\n",
       "<table border=\"1\" class=\"dataframe\">\n",
       "  <thead>\n",
       "    <tr style=\"text-align: right;\">\n",
       "      <th></th>\n",
       "      <th>0</th>\n",
       "      <th>1</th>\n",
       "      <th>2</th>\n",
       "    </tr>\n",
       "  </thead>\n",
       "  <tbody>\n",
       "    <tr>\n",
       "      <th>0</th>\n",
       "      <td>74</td>\n",
       "      <td>75</td>\n",
       "      <td>21</td>\n",
       "    </tr>\n",
       "    <tr>\n",
       "      <th>1</th>\n",
       "      <td>8</td>\n",
       "      <td>75</td>\n",
       "      <td>1</td>\n",
       "    </tr>\n",
       "    <tr>\n",
       "      <th>2</th>\n",
       "      <td>47</td>\n",
       "      <td>32</td>\n",
       "      <td>26</td>\n",
       "    </tr>\n",
       "    <tr>\n",
       "      <th>0</th>\n",
       "      <td>47</td>\n",
       "      <td>78</td>\n",
       "      <td>67</td>\n",
       "    </tr>\n",
       "    <tr>\n",
       "      <th>1</th>\n",
       "      <td>61</td>\n",
       "      <td>41</td>\n",
       "      <td>21</td>\n",
       "    </tr>\n",
       "    <tr>\n",
       "      <th>2</th>\n",
       "      <td>27</td>\n",
       "      <td>74</td>\n",
       "      <td>55</td>\n",
       "    </tr>\n",
       "  </tbody>\n",
       "</table>\n",
       "</div>"
      ],
      "text/plain": [
       "    0   1   2\n",
       "0  74  75  21\n",
       "1   8  75   1\n",
       "2  47  32  26\n",
       "0  47  78  67\n",
       "1  61  41  21\n",
       "2  27  74  55"
      ]
     },
     "execution_count": 64,
     "metadata": {},
     "output_type": "execute_result"
    }
   ],
   "source": [
    "df3 = pd.concat([df1, df2])\n",
    "df3"
   ]
  },
  {
   "cell_type": "code",
   "execution_count": 65,
   "id": "1db1ef12",
   "metadata": {},
   "outputs": [
    {
     "data": {
      "text/html": [
       "<div>\n",
       "<style scoped>\n",
       "    .dataframe tbody tr th:only-of-type {\n",
       "        vertical-align: middle;\n",
       "    }\n",
       "\n",
       "    .dataframe tbody tr th {\n",
       "        vertical-align: top;\n",
       "    }\n",
       "\n",
       "    .dataframe thead th {\n",
       "        text-align: right;\n",
       "    }\n",
       "</style>\n",
       "<table border=\"1\" class=\"dataframe\">\n",
       "  <thead>\n",
       "    <tr style=\"text-align: right;\">\n",
       "      <th></th>\n",
       "      <th>0</th>\n",
       "      <th>1</th>\n",
       "      <th>2</th>\n",
       "    </tr>\n",
       "  </thead>\n",
       "  <tbody>\n",
       "    <tr>\n",
       "      <th>0</th>\n",
       "      <td>74</td>\n",
       "      <td>75</td>\n",
       "      <td>21</td>\n",
       "    </tr>\n",
       "    <tr>\n",
       "      <th>1</th>\n",
       "      <td>8</td>\n",
       "      <td>75</td>\n",
       "      <td>1</td>\n",
       "    </tr>\n",
       "    <tr>\n",
       "      <th>2</th>\n",
       "      <td>47</td>\n",
       "      <td>32</td>\n",
       "      <td>26</td>\n",
       "    </tr>\n",
       "    <tr>\n",
       "      <th>3</th>\n",
       "      <td>47</td>\n",
       "      <td>78</td>\n",
       "      <td>67</td>\n",
       "    </tr>\n",
       "    <tr>\n",
       "      <th>4</th>\n",
       "      <td>61</td>\n",
       "      <td>41</td>\n",
       "      <td>21</td>\n",
       "    </tr>\n",
       "    <tr>\n",
       "      <th>5</th>\n",
       "      <td>27</td>\n",
       "      <td>74</td>\n",
       "      <td>55</td>\n",
       "    </tr>\n",
       "  </tbody>\n",
       "</table>\n",
       "</div>"
      ],
      "text/plain": [
       "    0   1   2\n",
       "0  74  75  21\n",
       "1   8  75   1\n",
       "2  47  32  26\n",
       "3  47  78  67\n",
       "4  61  41  21\n",
       "5  27  74  55"
      ]
     },
     "execution_count": 65,
     "metadata": {},
     "output_type": "execute_result"
    }
   ],
   "source": [
    "df3 = pd.concat([df1, df2], ignore_index=True)\n",
    "df3"
   ]
  },
  {
   "cell_type": "markdown",
   "id": "f91869f9",
   "metadata": {},
   "source": [
    "# SEABORN "
   ]
  },
  {
   "cell_type": "code",
   "execution_count": 3,
   "id": "dc889345",
   "metadata": {},
   "outputs": [],
   "source": [
    "# Libreria para hacer graficos estadisticos en python, construido sobre mathplotlib\n",
    "# para instalarle se debe usar mediante la terminal el comando pip | pip3 install seaborn\n",
    "# paso seguido y recomendado reiniciar el IDE para poder importar y compilar\n",
    "import seaborn as sb"
   ]
  },
  {
   "cell_type": "markdown",
   "id": "b7c345e5",
   "metadata": {},
   "source": [
    "# Histogramas"
   ]
  },
  {
   "cell_type": "code",
   "execution_count": 4,
   "id": "3c0ff15b",
   "metadata": {},
   "outputs": [],
   "source": [
    "import pandas as pd\n",
    "import numpy as np\n",
    "import matplotlib as mpl\n",
    "import seaborn as sns"
   ]
  },
  {
   "cell_type": "code",
   "execution_count": 6,
   "id": "65f9a4d2",
   "metadata": {},
   "outputs": [],
   "source": [
    "# Para que muestre los graficos es necesario agregar esta otra linea\n",
    "%matplotlib inline"
   ]
  },
  {
   "cell_type": "code",
   "execution_count": 7,
   "id": "e4673cb1",
   "metadata": {},
   "outputs": [
    {
     "data": {
      "text/plain": [
       "array([-0.11115224, -0.91146261, -1.06631539, -0.78026269, -0.35395079,\n",
       "       -1.0918352 ,  1.77617585, -0.12528575,  0.5884523 , -0.98204145,\n",
       "        0.67386297,  1.31700786,  0.94725588,  0.84358913,  1.96797271,\n",
       "       -0.07636093,  0.74036136,  0.36436929, -0.19519513,  0.11740884,\n",
       "       -0.03542696, -1.68876317,  0.74869232,  0.36634142,  0.97078181,\n",
       "       -1.07109207,  2.37429766,  0.18028865,  1.95983043,  1.30866666,\n",
       "       -0.92542473,  0.26873509,  0.05792733,  0.01890942, -0.43052677,\n",
       "       -0.4035427 , -1.03021755, -0.01596907, -0.86734312,  0.97306271,\n",
       "       -0.0591769 , -0.92720484,  0.61405893,  1.63159982,  0.1861754 ,\n",
       "        0.48524184, -1.46995486, -0.30167767,  0.0335359 ,  0.41861624,\n",
       "       -1.49007771,  0.8701541 , -0.0870012 , -1.50970283, -0.26461507,\n",
       "        0.48869215,  0.01272982,  1.03472465,  1.27782552,  1.33992933,\n",
       "        1.19430968,  1.70300509, -3.09441867, -0.89240979,  0.76438599,\n",
       "       -0.03469269, -0.07098004, -0.2010062 ,  1.28718046,  0.45339915,\n",
       "       -1.28392935,  0.73406516, -0.11166491, -1.19984163, -2.84820116,\n",
       "       -0.32332406, -1.00458078,  0.22252567,  1.6839315 , -0.73570246,\n",
       "        0.54007512, -0.56949684,  0.25064128,  0.49303416, -0.85915922,\n",
       "       -1.80877347, -3.38043857, -0.49482814,  0.10736481, -1.30232803,\n",
       "       -0.34318175, -1.01194887,  1.97840382,  0.84436125, -0.79201613,\n",
       "       -2.0404399 , -1.64668505,  1.40103182, -0.92172831,  0.98170936])"
      ]
     },
     "execution_count": 7,
     "metadata": {},
     "output_type": "execute_result"
    }
   ],
   "source": [
    "datos1 = np.random.randn(100)\n",
    "datos1"
   ]
  },
  {
   "cell_type": "code",
   "execution_count": 8,
   "id": "d26954bb",
   "metadata": {},
   "outputs": [
    {
     "data": {
      "text/plain": [
       "(array([ 3.,  0.,  3.,  8., 17., 24., 17., 14., 10.,  4.]),\n",
       " array([-3.38043857, -2.80496495, -2.22949133, -1.6540177 , -1.07854408,\n",
       "        -0.50307046,  0.07240317,  0.64787679,  1.22335041,  1.79882404,\n",
       "         2.37429766]),\n",
       " <BarContainer object of 10 artists>)"
      ]
     },
     "execution_count": 8,
     "metadata": {},
     "output_type": "execute_result"
    },
    {
     "data": {
      "image/png": "[encoded data removed]",
      "text/plain": [
       "<Figure size 432x288 with 1 Axes>"
      ]
     },
     "metadata": {
      "needs_background": "light"
     },
     "output_type": "display_data"
    }
   ],
   "source": [
    "mpl.pyplot.hist(datos1)"
   ]
  },
  {
   "cell_type": "code",
   "execution_count": 10,
   "id": "1037d25f",
   "metadata": {},
   "outputs": [
    {
     "name": "stderr",
     "output_type": "stream",
     "text": [
      "/home/jack/.local/lib/python3.7/site-packages/seaborn/distributions.py:2619: FutureWarning: `distplot` is a deprecated function and will be removed in a future version. Please adapt your code to use either `displot` (a figure-level function with similar flexibility) or `histplot` (an axes-level function for histograms).\n",
      "  warnings.warn(msg, FutureWarning)\n"
     ]
    },
    {
     "data": {
      "text/plain": [
       "<AxesSubplot:ylabel='Density'>"
      ]
     },
     "execution_count": 10,
     "metadata": {},
     "output_type": "execute_result"
    },
    {
     "data": {
      "image/png": "[encoded data removed]",
      "text/plain": [
       "<Figure size 432x288 with 1 Axes>"
      ]
     },
     "metadata": {
      "needs_background": "light"
     },
     "output_type": "display_data"
    }
   ],
   "source": [
    "sns.distplot(datos1)"
   ]
  },
  {
   "cell_type": "code",
   "execution_count": 13,
   "id": "057f5479",
   "metadata": {},
   "outputs": [
    {
     "data": {
      "text/plain": [
       "(array([ 4.,  7., 12., 19., 18., 10.,  6.,  2.,  1.,  1.]),\n",
       " array([-2.02014199, -1.50246607, -0.98479015, -0.46711423,  0.0505617 ,\n",
       "         0.56823762,  1.08591354,  1.60358947,  2.12126539,  2.63894131,\n",
       "         3.15661723]),\n",
       " <BarContainer object of 10 artists>)"
      ]
     },
     "execution_count": 13,
     "metadata": {},
     "output_type": "execute_result"
    },
    {
     "data": {
      "image/png": "[encoded data removed]",
      "text/plain": [
       "<Figure size 432x288 with 1 Axes>"
      ]
     },
     "metadata": {
      "needs_background": "light"
     },
     "output_type": "display_data"
    }
   ],
   "source": [
    "datos2 = np.random.randn(80)\n",
    "mpl.pyplot.hist(datos2, color='red', alpha=0.5)"
   ]
  },
  {
   "cell_type": "code",
   "execution_count": 17,
   "id": "d4592bdc",
   "metadata": {},
   "outputs": [
    {
     "data": {
      "text/plain": [
       "(array([0.09658552, 0.09658552, 0.09658552, 0.24146381, 0.38634209,\n",
       "        0.19317105, 0.33804933, 0.57951314, 0.33804933, 0.53122038,\n",
       "        0.33804933, 0.14487829, 0.19317105, 0.09658552, 0.09658552,\n",
       "        0.        , 0.04829276, 0.        , 0.        , 0.04829276]),\n",
       " array([-2.02014199, -1.76130403, -1.50246607, -1.24362811, -0.98479015,\n",
       "        -0.72595219, -0.46711423, -0.20827626,  0.0505617 ,  0.30939966,\n",
       "         0.56823762,  0.82707558,  1.08591354,  1.3447515 ,  1.60358947,\n",
       "         1.86242743,  2.12126539,  2.38010335,  2.63894131,  2.89777927,\n",
       "         3.15661723]),\n",
       " <BarContainer object of 20 artists>)"
      ]
     },
     "execution_count": 17,
     "metadata": {},
     "output_type": "execute_result"
    },
    {
     "data": {
      "image/png": "[encoded data removed]",
      "text/plain": [
       "<Figure size 432x288 with 1 Axes>"
      ]
     },
     "metadata": {
      "needs_background": "light"
     },
     "output_type": "display_data"
    }
   ],
   "source": [
    "# Combinar las dos graficas\n",
    "mpl.pyplot.hist(datos1, color='red', alpha=0.5, bins=20, density=True)\n",
    "mpl.pyplot.hist(datos2, color='blue', alpha=0.5, bins=20, density=True)"
   ]
  },
  {
   "cell_type": "code",
   "execution_count": 20,
   "id": "852582f5",
   "metadata": {},
   "outputs": [],
   "source": [
    "datos3 = np.random.randn(1000)\n",
    "datos4 = np.random.randn(1000)\n"
   ]
  },
  {
   "cell_type": "code",
   "execution_count": 21,
   "id": "0ed5a62a",
   "metadata": {},
   "outputs": [
    {
     "name": "stderr",
     "output_type": "stream",
     "text": [
      "/home/jack/.local/lib/python3.7/site-packages/seaborn/_decorators.py:43: FutureWarning: Pass the following variables as keyword args: x, y. From version 0.12, the only valid positional argument will be `data`, and passing other arguments without an explicit keyword will result in an error or misinterpretation.\n",
      "  FutureWarning\n"
     ]
    },
    {
     "data": {
      "text/plain": [
       "<seaborn.axisgrid.JointGrid at 0x7f1d5b595208>"
      ]
     },
     "execution_count": 21,
     "metadata": {},
     "output_type": "execute_result"
    },
    {
     "data": {
      "image/png": "[encoded data removed]",
      "text/plain": [
       "<Figure size 432x432 with 3 Axes>"
      ]
     },
     "metadata": {
      "needs_background": "light"
     },
     "output_type": "display_data"
    }
   ],
   "source": [
    "sns.jointplot(datos3, datos4)"
   ]
  },
  {
   "cell_type": "code",
   "execution_count": 22,
   "id": "d5660495",
   "metadata": {},
   "outputs": [
    {
     "name": "stderr",
     "output_type": "stream",
     "text": [
      "/home/jack/.local/lib/python3.7/site-packages/seaborn/_decorators.py:43: FutureWarning: Pass the following variables as keyword args: x, y. From version 0.12, the only valid positional argument will be `data`, and passing other arguments without an explicit keyword will result in an error or misinterpretation.\n",
      "  FutureWarning\n"
     ]
    },
    {
     "data": {
      "text/plain": [
       "<seaborn.axisgrid.JointGrid at 0x7f1d58cc5208>"
      ]
     },
     "execution_count": 22,
     "metadata": {},
     "output_type": "execute_result"
    },
    {
     "data": {
      "image/png": "[encoded data removed]",
      "text/plain": [
       "<Figure size 432x432 with 3 Axes>"
      ]
     },
     "metadata": {
      "needs_background": "light"
     },
     "output_type": "display_data"
    }
   ],
   "source": [
    "sns.jointplot(datos3, datos4, kind='hex')"
   ]
  },
  {
   "cell_type": "markdown",
   "id": "f1dd4a28",
   "metadata": {},
   "source": [
    "# Combinando estilos"
   ]
  },
  {
   "cell_type": "code",
   "execution_count": 1,
   "id": "1816cd3f",
   "metadata": {},
   "outputs": [],
   "source": [
    "import pandas as pd\n",
    "import numpy as np\n",
    "import matplotlib as mpl\n",
    "import seaborn as sns\n",
    "\n",
    "# Para visual los graficos bien usamos \n",
    "%matplotlib inline"
   ]
  },
  {
   "cell_type": "code",
   "execution_count": 2,
   "id": "12106501",
   "metadata": {},
   "outputs": [
    {
     "data": {
      "text/plain": [
       "array([0.73651606, 0.15404437, 0.68484914, 0.46276194, 0.95930043,\n",
       "       0.80341783, 0.72565327, 0.35952087, 0.86710252, 0.0513527 ,\n",
       "       0.26433282, 0.22100698, 0.48091083, 0.88585916, 0.71755725,\n",
       "       0.89889103, 0.6446871 , 0.97256703, 0.32796873, 0.57800703,\n",
       "       0.25304171, 0.46184837, 0.18603347, 0.81002654, 0.37023037,\n",
       "       0.69686283, 0.29294117, 0.87789528, 0.258585  , 0.36043405,\n",
       "       0.89363401, 0.93166474, 0.74492707, 0.37090035, 0.39516815,\n",
       "       0.23310306, 0.40042226, 0.50839099, 0.12251404, 0.87393096,\n",
       "       0.17062194, 0.97073074, 0.87400598, 0.60612513, 0.23040869,\n",
       "       0.4056057 , 0.6025369 , 0.80943635, 0.70103913, 0.63828297,\n",
       "       0.70201655, 0.80230108, 0.23679215, 0.93761684, 0.63720491,\n",
       "       0.80950536, 0.3479036 , 0.30836429, 0.64612111, 0.35397535,\n",
       "       0.9353316 , 0.22858408, 0.68481664, 0.95598435, 0.12492751,\n",
       "       0.56026225, 0.33443298, 0.26654665, 0.87248182, 0.74527397,\n",
       "       0.34881665, 0.44999494, 0.41957641, 0.5832777 , 0.60121094,\n",
       "       0.72870199, 0.91004285, 0.08984216, 0.02995975, 0.23538789,\n",
       "       0.09261893, 0.61761097, 0.91784254, 0.71285379, 0.46876971,\n",
       "       0.88513817, 0.10009937, 0.3059356 , 0.94587143, 0.42897237,\n",
       "       0.07864671, 0.61687497, 0.97095097, 0.43917009, 0.96220203,\n",
       "       0.03842518, 0.30241432, 0.54190494, 0.52328527, 0.29376391])"
      ]
     },
     "execution_count": 2,
     "metadata": {},
     "output_type": "execute_result"
    }
   ],
   "source": [
    "datos = np.random.rand(100)\n",
    "datos"
   ]
  },
  {
   "cell_type": "code",
   "execution_count": 4,
   "id": "4582d0bd",
   "metadata": {},
   "outputs": [
    {
     "name": "stderr",
     "output_type": "stream",
     "text": [
      "/home/jack/.local/lib/python3.7/site-packages/seaborn/distributions.py:2619: FutureWarning: `distplot` is a deprecated function and will be removed in a future version. Please adapt your code to use either `displot` (a figure-level function with similar flexibility) or `histplot` (an axes-level function for histograms).\n",
      "  warnings.warn(msg, FutureWarning)\n"
     ]
    },
    {
     "data": {
      "text/plain": [
       "<AxesSubplot:ylabel='Density'>"
      ]
     },
     "execution_count": 4,
     "metadata": {},
     "output_type": "execute_result"
    },
    {
     "data": {
      "image/png": "[encoded data removed]",
      "text/plain": [
       "<Figure size 432x288 with 1 Axes>"
      ]
     },
     "metadata": {
      "needs_background": "light"
     },
     "output_type": "display_data"
    }
   ],
   "source": [
    "sns.distplot(datos, color='green')"
   ]
  },
  {
   "cell_type": "code",
   "execution_count": 5,
   "id": "c21ff5cf",
   "metadata": {},
   "outputs": [
    {
     "name": "stderr",
     "output_type": "stream",
     "text": [
      "/home/jack/.local/lib/python3.7/site-packages/seaborn/distributions.py:2619: FutureWarning: `distplot` is a deprecated function and will be removed in a future version. Please adapt your code to use either `displot` (a figure-level function with similar flexibility) or `kdeplot` (an axes-level function for kernel density plots).\n",
      "  warnings.warn(msg, FutureWarning)\n"
     ]
    },
    {
     "data": {
      "text/plain": [
       "<AxesSubplot:ylabel='Density'>"
      ]
     },
     "execution_count": 5,
     "metadata": {},
     "output_type": "execute_result"
    },
    {
     "data": {
      "image/png": "[encoded data removed]",
      "text/plain": [
       "<Figure size 432x288 with 1 Axes>"
      ]
     },
     "metadata": {
      "needs_background": "light"
     },
     "output_type": "display_data"
    }
   ],
   "source": [
    "# Para eliminar las barras y dejar solo la curva\n",
    "sns.distplot(datos, color='green', rug=False, hist=False)"
   ]
  },
  {
   "cell_type": "code",
   "execution_count": 6,
   "id": "3caa2b19",
   "metadata": {},
   "outputs": [
    {
     "name": "stderr",
     "output_type": "stream",
     "text": [
      "/home/jack/.local/lib/python3.7/site-packages/seaborn/distributions.py:2619: FutureWarning: `distplot` is a deprecated function and will be removed in a future version. Please adapt your code to use either `displot` (a figure-level function with similar flexibility) or `histplot` (an axes-level function for histograms).\n",
      "  warnings.warn(msg, FutureWarning)\n"
     ]
    },
    {
     "data": {
      "text/plain": [
       "<AxesSubplot:ylabel='Density'>"
      ]
     },
     "execution_count": 6,
     "metadata": {},
     "output_type": "execute_result"
    },
    {
     "data": {
      "image/png": "[encoded data removed]",
      "text/plain": [
       "<Figure size 432x288 with 1 Axes>"
      ]
     },
     "metadata": {
      "needs_background": "light"
     },
     "output_type": "display_data"
    }
   ],
   "source": [
    "# Ahora cambiando de color la curva y las barras\n",
    "arg_curva = {'color':'black', 'label':'Curva'}\n",
    "arg_barras = {'color':'red', 'label':'Discograma'}\n",
    "sns.distplot(datos, bins=25, kde_kws=arg_curva, hist_kws=arg_barras)"
   ]
  },
  {
   "cell_type": "code",
   "execution_count": 7,
   "id": "ca05c08a",
   "metadata": {},
   "outputs": [
    {
     "data": {
      "text/plain": [
       "0     0.736516\n",
       "1     0.154044\n",
       "2     0.684849\n",
       "3     0.462762\n",
       "4     0.959300\n",
       "        ...   \n",
       "95    0.038425\n",
       "96    0.302414\n",
       "97    0.541905\n",
       "98    0.523285\n",
       "99    0.293764\n",
       "Length: 100, dtype: float64"
      ]
     },
     "execution_count": 7,
     "metadata": {},
     "output_type": "execute_result"
    }
   ],
   "source": [
    "# integración con pandas\n",
    "serie = pd.Series(datos)\n",
    "serie"
   ]
  },
  {
   "cell_type": "code",
   "execution_count": 8,
   "id": "8c32439a",
   "metadata": {},
   "outputs": [
    {
     "name": "stderr",
     "output_type": "stream",
     "text": [
      "/home/jack/.local/lib/python3.7/site-packages/seaborn/distributions.py:2619: FutureWarning: `distplot` is a deprecated function and will be removed in a future version. Please adapt your code to use either `displot` (a figure-level function with similar flexibility) or `histplot` (an axes-level function for histograms).\n",
      "  warnings.warn(msg, FutureWarning)\n"
     ]
    },
    {
     "data": {
      "text/plain": [
       "<AxesSubplot:ylabel='Density'>"
      ]
     },
     "execution_count": 8,
     "metadata": {},
     "output_type": "execute_result"
    },
    {
     "data": {
      "image/png": "[encoded data removed]",
      "text/plain": [
       "<Figure size 432x288 with 1 Axes>"
      ]
     },
     "metadata": {
      "needs_background": "light"
     },
     "output_type": "display_data"
    }
   ],
   "source": [
    "sns.distplot(serie, bins=25, color='blue')"
   ]
  },
  {
   "cell_type": "markdown",
   "id": "c65f198e",
   "metadata": {},
   "source": [
    "# Diagrama de caja"
   ]
  },
  {
   "cell_type": "code",
   "execution_count": 9,
   "id": "0210bd53",
   "metadata": {},
   "outputs": [],
   "source": [
    "# Sirve para representar graficamente una serie de datos numéricos  a través de sus cuartiles\n",
    "# mostrara la media y los cuartiles de los lados "
   ]
  },
  {
   "cell_type": "code",
   "execution_count": 10,
   "id": "02f2936e",
   "metadata": {},
   "outputs": [],
   "source": [
    "import pandas as pd\n",
    "import numpy as np\n",
    "import matplotlib as mpl\n",
    "import seaborn as sns\n",
    "%matplotlib inline"
   ]
  },
  {
   "cell_type": "code",
   "execution_count": 11,
   "id": "0b68d147",
   "metadata": {},
   "outputs": [
    {
     "data": {
      "text/plain": [
       "array([ 2.45991643, -0.03296944, -1.54460888,  0.10412849, -0.64286163,\n",
       "        0.35803943, -0.38205428, -0.65408461, -2.753344  ,  0.62364504,\n",
       "        0.80990644,  1.00886028, -0.41454489,  0.7889613 ,  0.15898472,\n",
       "       -0.75695326, -0.9521417 ,  1.1834806 ,  0.61435335,  0.57622574,\n",
       "        0.50675141,  1.53073546,  0.53620857, -0.29342711, -0.63244416,\n",
       "       -1.8454139 ,  0.1845303 ,  0.98958038, -0.34099654, -0.15924194,\n",
       "        0.68429707,  1.82079249, -1.78752998,  0.80183611, -1.20614284,\n",
       "        0.5617678 , -0.8373355 , -2.36772312, -0.75595477, -0.48256983,\n",
       "       -0.25520632, -1.64414466, -1.19996189,  1.24538532,  0.35807727,\n",
       "       -1.00594071,  0.81398255, -0.47764741,  0.50383923,  0.67136107,\n",
       "       -0.25723278, -1.31726368,  2.3647707 , -1.5752561 , -0.96213937,\n",
       "        0.06166442, -0.21281961,  0.40931376,  2.10381645,  0.02091241,\n",
       "       -0.80638239, -0.68703909, -1.60478602,  0.20170651, -1.15623336,\n",
       "       -0.28306213, -1.20184878,  0.89659593, -0.4211181 , -1.387695  ,\n",
       "        0.36668167,  0.04409811, -0.79693974,  0.87490862,  0.97197956,\n",
       "       -1.03824222, -0.54186176, -0.46894844, -0.24785504, -1.5193524 ,\n",
       "        1.02459953,  0.5219121 ,  1.17005962, -0.04602882,  1.06828552,\n",
       "       -0.61517187, -0.49319823, -0.2353278 , -0.53749221, -1.66233326,\n",
       "       -0.39291093, -0.18955673, -0.13146412, -1.15970136,  0.7808235 ,\n",
       "       -0.3732034 , -1.28799933,  0.40636428,  1.15174936, -0.73396564])"
      ]
     },
     "execution_count": 11,
     "metadata": {},
     "output_type": "execute_result"
    }
   ],
   "source": [
    "datos = np.random.randn(100)\n",
    "datos"
   ]
  },
  {
   "cell_type": "code",
   "execution_count": 12,
   "id": "49a17d1e",
   "metadata": {},
   "outputs": [
    {
     "name": "stderr",
     "output_type": "stream",
     "text": [
      "/home/jack/.local/lib/python3.7/site-packages/seaborn/_decorators.py:43: FutureWarning: Pass the following variable as a keyword arg: x. From version 0.12, the only valid positional argument will be `data`, and passing other arguments without an explicit keyword will result in an error or misinterpretation.\n",
      "  FutureWarning\n"
     ]
    },
    {
     "data": {
      "text/plain": [
       "<AxesSubplot:>"
      ]
     },
     "execution_count": 12,
     "metadata": {},
     "output_type": "execute_result"
    },
    {
     "data": {
      "image/png": "[encoded data removed]",
      "text/plain": [
       "<Figure size 432x288 with 1 Axes>"
      ]
     },
     "metadata": {
      "needs_background": "light"
     },
     "output_type": "display_data"
    }
   ],
   "source": [
    "sns.boxplot(datos)"
   ]
  },
  {
   "cell_type": "markdown",
   "id": "f543101d",
   "metadata": {},
   "source": [
    "# Regresiones (regresion lineal)"
   ]
  },
  {
   "cell_type": "code",
   "execution_count": 13,
   "id": "43f61f5e",
   "metadata": {},
   "outputs": [],
   "source": [
    "import pandas as pd\n",
    "import numpy as np\n",
    "import matplotlib as mpl\n",
    "import seaborn as sns\n",
    "%matplotlib inline"
   ]
  },
  {
   "cell_type": "code",
   "execution_count": 14,
   "id": "e03026c1",
   "metadata": {},
   "outputs": [],
   "source": [
    "propinas  =  sns.load_dataset('tips')"
   ]
  },
  {
   "cell_type": "code",
   "execution_count": 16,
   "id": "c1adb035",
   "metadata": {},
   "outputs": [
    {
     "data": {
      "text/html": [
       "<div>\n",
       "<style scoped>\n",
       "    .dataframe tbody tr th:only-of-type {\n",
       "        vertical-align: middle;\n",
       "    }\n",
       "\n",
       "    .dataframe tbody tr th {\n",
       "        vertical-align: top;\n",
       "    }\n",
       "\n",
       "    .dataframe thead th {\n",
       "        text-align: right;\n",
       "    }\n",
       "</style>\n",
       "<table border=\"1\" class=\"dataframe\">\n",
       "  <thead>\n",
       "    <tr style=\"text-align: right;\">\n",
       "      <th></th>\n",
       "      <th>total_bill</th>\n",
       "      <th>tip</th>\n",
       "      <th>sex</th>\n",
       "      <th>smoker</th>\n",
       "      <th>day</th>\n",
       "      <th>time</th>\n",
       "      <th>size</th>\n",
       "    </tr>\n",
       "  </thead>\n",
       "  <tbody>\n",
       "    <tr>\n",
       "      <th>0</th>\n",
       "      <td>16.99</td>\n",
       "      <td>1.01</td>\n",
       "      <td>Female</td>\n",
       "      <td>No</td>\n",
       "      <td>Sun</td>\n",
       "      <td>Dinner</td>\n",
       "      <td>2</td>\n",
       "    </tr>\n",
       "    <tr>\n",
       "      <th>1</th>\n",
       "      <td>10.34</td>\n",
       "      <td>1.66</td>\n",
       "      <td>Male</td>\n",
       "      <td>No</td>\n",
       "      <td>Sun</td>\n",
       "      <td>Dinner</td>\n",
       "      <td>3</td>\n",
       "    </tr>\n",
       "    <tr>\n",
       "      <th>2</th>\n",
       "      <td>21.01</td>\n",
       "      <td>3.50</td>\n",
       "      <td>Male</td>\n",
       "      <td>No</td>\n",
       "      <td>Sun</td>\n",
       "      <td>Dinner</td>\n",
       "      <td>3</td>\n",
       "    </tr>\n",
       "    <tr>\n",
       "      <th>3</th>\n",
       "      <td>23.68</td>\n",
       "      <td>3.31</td>\n",
       "      <td>Male</td>\n",
       "      <td>No</td>\n",
       "      <td>Sun</td>\n",
       "      <td>Dinner</td>\n",
       "      <td>2</td>\n",
       "    </tr>\n",
       "    <tr>\n",
       "      <th>4</th>\n",
       "      <td>24.59</td>\n",
       "      <td>3.61</td>\n",
       "      <td>Female</td>\n",
       "      <td>No</td>\n",
       "      <td>Sun</td>\n",
       "      <td>Dinner</td>\n",
       "      <td>4</td>\n",
       "    </tr>\n",
       "    <tr>\n",
       "      <th>5</th>\n",
       "      <td>25.29</td>\n",
       "      <td>4.71</td>\n",
       "      <td>Male</td>\n",
       "      <td>No</td>\n",
       "      <td>Sun</td>\n",
       "      <td>Dinner</td>\n",
       "      <td>4</td>\n",
       "    </tr>\n",
       "    <tr>\n",
       "      <th>6</th>\n",
       "      <td>8.77</td>\n",
       "      <td>2.00</td>\n",
       "      <td>Male</td>\n",
       "      <td>No</td>\n",
       "      <td>Sun</td>\n",
       "      <td>Dinner</td>\n",
       "      <td>2</td>\n",
       "    </tr>\n",
       "    <tr>\n",
       "      <th>7</th>\n",
       "      <td>26.88</td>\n",
       "      <td>3.12</td>\n",
       "      <td>Male</td>\n",
       "      <td>No</td>\n",
       "      <td>Sun</td>\n",
       "      <td>Dinner</td>\n",
       "      <td>4</td>\n",
       "    </tr>\n",
       "    <tr>\n",
       "      <th>8</th>\n",
       "      <td>15.04</td>\n",
       "      <td>1.96</td>\n",
       "      <td>Male</td>\n",
       "      <td>No</td>\n",
       "      <td>Sun</td>\n",
       "      <td>Dinner</td>\n",
       "      <td>2</td>\n",
       "    </tr>\n",
       "    <tr>\n",
       "      <th>9</th>\n",
       "      <td>14.78</td>\n",
       "      <td>3.23</td>\n",
       "      <td>Male</td>\n",
       "      <td>No</td>\n",
       "      <td>Sun</td>\n",
       "      <td>Dinner</td>\n",
       "      <td>2</td>\n",
       "    </tr>\n",
       "    <tr>\n",
       "      <th>10</th>\n",
       "      <td>10.27</td>\n",
       "      <td>1.71</td>\n",
       "      <td>Male</td>\n",
       "      <td>No</td>\n",
       "      <td>Sun</td>\n",
       "      <td>Dinner</td>\n",
       "      <td>2</td>\n",
       "    </tr>\n",
       "    <tr>\n",
       "      <th>11</th>\n",
       "      <td>35.26</td>\n",
       "      <td>5.00</td>\n",
       "      <td>Female</td>\n",
       "      <td>No</td>\n",
       "      <td>Sun</td>\n",
       "      <td>Dinner</td>\n",
       "      <td>4</td>\n",
       "    </tr>\n",
       "    <tr>\n",
       "      <th>12</th>\n",
       "      <td>15.42</td>\n",
       "      <td>1.57</td>\n",
       "      <td>Male</td>\n",
       "      <td>No</td>\n",
       "      <td>Sun</td>\n",
       "      <td>Dinner</td>\n",
       "      <td>2</td>\n",
       "    </tr>\n",
       "    <tr>\n",
       "      <th>13</th>\n",
       "      <td>18.43</td>\n",
       "      <td>3.00</td>\n",
       "      <td>Male</td>\n",
       "      <td>No</td>\n",
       "      <td>Sun</td>\n",
       "      <td>Dinner</td>\n",
       "      <td>4</td>\n",
       "    </tr>\n",
       "    <tr>\n",
       "      <th>14</th>\n",
       "      <td>14.83</td>\n",
       "      <td>3.02</td>\n",
       "      <td>Female</td>\n",
       "      <td>No</td>\n",
       "      <td>Sun</td>\n",
       "      <td>Dinner</td>\n",
       "      <td>2</td>\n",
       "    </tr>\n",
       "    <tr>\n",
       "      <th>15</th>\n",
       "      <td>21.58</td>\n",
       "      <td>3.92</td>\n",
       "      <td>Male</td>\n",
       "      <td>No</td>\n",
       "      <td>Sun</td>\n",
       "      <td>Dinner</td>\n",
       "      <td>2</td>\n",
       "    </tr>\n",
       "    <tr>\n",
       "      <th>16</th>\n",
       "      <td>10.33</td>\n",
       "      <td>1.67</td>\n",
       "      <td>Female</td>\n",
       "      <td>No</td>\n",
       "      <td>Sun</td>\n",
       "      <td>Dinner</td>\n",
       "      <td>3</td>\n",
       "    </tr>\n",
       "    <tr>\n",
       "      <th>17</th>\n",
       "      <td>16.29</td>\n",
       "      <td>3.71</td>\n",
       "      <td>Male</td>\n",
       "      <td>No</td>\n",
       "      <td>Sun</td>\n",
       "      <td>Dinner</td>\n",
       "      <td>3</td>\n",
       "    </tr>\n",
       "    <tr>\n",
       "      <th>18</th>\n",
       "      <td>16.97</td>\n",
       "      <td>3.50</td>\n",
       "      <td>Female</td>\n",
       "      <td>No</td>\n",
       "      <td>Sun</td>\n",
       "      <td>Dinner</td>\n",
       "      <td>3</td>\n",
       "    </tr>\n",
       "    <tr>\n",
       "      <th>19</th>\n",
       "      <td>20.65</td>\n",
       "      <td>3.35</td>\n",
       "      <td>Male</td>\n",
       "      <td>No</td>\n",
       "      <td>Sat</td>\n",
       "      <td>Dinner</td>\n",
       "      <td>3</td>\n",
       "    </tr>\n",
       "  </tbody>\n",
       "</table>\n",
       "</div>"
      ],
      "text/plain": [
       "    total_bill   tip     sex smoker  day    time  size\n",
       "0        16.99  1.01  Female     No  Sun  Dinner     2\n",
       "1        10.34  1.66    Male     No  Sun  Dinner     3\n",
       "2        21.01  3.50    Male     No  Sun  Dinner     3\n",
       "3        23.68  3.31    Male     No  Sun  Dinner     2\n",
       "4        24.59  3.61  Female     No  Sun  Dinner     4\n",
       "5        25.29  4.71    Male     No  Sun  Dinner     4\n",
       "6         8.77  2.00    Male     No  Sun  Dinner     2\n",
       "7        26.88  3.12    Male     No  Sun  Dinner     4\n",
       "8        15.04  1.96    Male     No  Sun  Dinner     2\n",
       "9        14.78  3.23    Male     No  Sun  Dinner     2\n",
       "10       10.27  1.71    Male     No  Sun  Dinner     2\n",
       "11       35.26  5.00  Female     No  Sun  Dinner     4\n",
       "12       15.42  1.57    Male     No  Sun  Dinner     2\n",
       "13       18.43  3.00    Male     No  Sun  Dinner     4\n",
       "14       14.83  3.02  Female     No  Sun  Dinner     2\n",
       "15       21.58  3.92    Male     No  Sun  Dinner     2\n",
       "16       10.33  1.67  Female     No  Sun  Dinner     3\n",
       "17       16.29  3.71    Male     No  Sun  Dinner     3\n",
       "18       16.97  3.50  Female     No  Sun  Dinner     3\n",
       "19       20.65  3.35    Male     No  Sat  Dinner     3"
      ]
     },
     "execution_count": 16,
     "metadata": {},
     "output_type": "execute_result"
    }
   ],
   "source": [
    "propinas.head(20)"
   ]
  },
  {
   "cell_type": "code",
   "execution_count": 17,
   "id": "2c0bac4e",
   "metadata": {},
   "outputs": [
    {
     "name": "stderr",
     "output_type": "stream",
     "text": [
      "/home/jack/.local/lib/python3.7/site-packages/seaborn/_decorators.py:43: FutureWarning: Pass the following variables as keyword args: x, y, data. From version 0.12, the only valid positional argument will be `data`, and passing other arguments without an explicit keyword will result in an error or misinterpretation.\n",
      "  FutureWarning\n"
     ]
    },
    {
     "data": {
      "text/plain": [
       "<seaborn.axisgrid.FacetGrid at 0x7fc98f190a20>"
      ]
     },
     "execution_count": 17,
     "metadata": {},
     "output_type": "execute_result"
    },
    {
     "data": {
      "image/png": "[encoded data removed]",
      "text/plain": [
       "<Figure size 360x360 with 1 Axes>"
      ]
     },
     "metadata": {
      "needs_background": "light"
     },
     "output_type": "display_data"
    }
   ],
   "source": [
    "sns.lmplot('total_bill','tip', propinas)"
   ]
  },
  {
   "cell_type": "code",
   "execution_count": 19,
   "id": "8ac189a2",
   "metadata": {},
   "outputs": [
    {
     "name": "stderr",
     "output_type": "stream",
     "text": [
      "/home/jack/.local/lib/python3.7/site-packages/seaborn/_decorators.py:43: FutureWarning: Pass the following variables as keyword args: x, y, data. From version 0.12, the only valid positional argument will be `data`, and passing other arguments without an explicit keyword will result in an error or misinterpretation.\n",
      "  FutureWarning\n"
     ]
    },
    {
     "data": {
      "text/plain": [
       "<seaborn.axisgrid.FacetGrid at 0x7fc98ee8bc50>"
      ]
     },
     "execution_count": 19,
     "metadata": {},
     "output_type": "execute_result"
    },
    {
     "data": {
      "image/png": "[encoded data removed]",
      "text/plain": [
       "<Figure size 360x360 with 1 Axes>"
      ]
     },
     "metadata": {
      "needs_background": "light"
     },
     "output_type": "display_data"
    }
   ],
   "source": [
    "sns.lmplot('total_bill','tip', propinas, scatter_kws={'color':'green'}, line_kws={'color':'blue'})"
   ]
  },
  {
   "cell_type": "code",
   "execution_count": 21,
   "id": "70e06c59",
   "metadata": {},
   "outputs": [
    {
     "data": {
      "text/plain": [
       "<seaborn.axisgrid.FacetGrid at 0x7fc98edde908>"
      ]
     },
     "execution_count": 21,
     "metadata": {},
     "output_type": "execute_result"
    },
    {
     "data": {
      "image/png": "[encoded data removed]",
      "text/plain": [
       "<Figure size 360x360 with 1 Axes>"
      ]
     },
     "metadata": {
      "needs_background": "light"
     },
     "output_type": "display_data"
    }
   ],
   "source": [
    "sns.lmplot('total_bill', 'tip', propinas, fit_reg=False)"
   ]
  },
  {
   "cell_type": "code",
   "execution_count": 22,
   "id": "e27fcb71",
   "metadata": {},
   "outputs": [
    {
     "data": {
      "text/html": [
       "<div>\n",
       "<style scoped>\n",
       "    .dataframe tbody tr th:only-of-type {\n",
       "        vertical-align: middle;\n",
       "    }\n",
       "\n",
       "    .dataframe tbody tr th {\n",
       "        vertical-align: top;\n",
       "    }\n",
       "\n",
       "    .dataframe thead th {\n",
       "        text-align: right;\n",
       "    }\n",
       "</style>\n",
       "<table border=\"1\" class=\"dataframe\">\n",
       "  <thead>\n",
       "    <tr style=\"text-align: right;\">\n",
       "      <th></th>\n",
       "      <th>total_bill</th>\n",
       "      <th>tip</th>\n",
       "      <th>sex</th>\n",
       "      <th>smoker</th>\n",
       "      <th>day</th>\n",
       "      <th>time</th>\n",
       "      <th>size</th>\n",
       "    </tr>\n",
       "  </thead>\n",
       "  <tbody>\n",
       "    <tr>\n",
       "      <th>0</th>\n",
       "      <td>16.99</td>\n",
       "      <td>1.01</td>\n",
       "      <td>Female</td>\n",
       "      <td>No</td>\n",
       "      <td>Sun</td>\n",
       "      <td>Dinner</td>\n",
       "      <td>2</td>\n",
       "    </tr>\n",
       "    <tr>\n",
       "      <th>1</th>\n",
       "      <td>10.34</td>\n",
       "      <td>1.66</td>\n",
       "      <td>Male</td>\n",
       "      <td>No</td>\n",
       "      <td>Sun</td>\n",
       "      <td>Dinner</td>\n",
       "      <td>3</td>\n",
       "    </tr>\n",
       "    <tr>\n",
       "      <th>2</th>\n",
       "      <td>21.01</td>\n",
       "      <td>3.50</td>\n",
       "      <td>Male</td>\n",
       "      <td>No</td>\n",
       "      <td>Sun</td>\n",
       "      <td>Dinner</td>\n",
       "      <td>3</td>\n",
       "    </tr>\n",
       "    <tr>\n",
       "      <th>3</th>\n",
       "      <td>23.68</td>\n",
       "      <td>3.31</td>\n",
       "      <td>Male</td>\n",
       "      <td>No</td>\n",
       "      <td>Sun</td>\n",
       "      <td>Dinner</td>\n",
       "      <td>2</td>\n",
       "    </tr>\n",
       "    <tr>\n",
       "      <th>4</th>\n",
       "      <td>24.59</td>\n",
       "      <td>3.61</td>\n",
       "      <td>Female</td>\n",
       "      <td>No</td>\n",
       "      <td>Sun</td>\n",
       "      <td>Dinner</td>\n",
       "      <td>4</td>\n",
       "    </tr>\n",
       "    <tr>\n",
       "      <th>5</th>\n",
       "      <td>25.29</td>\n",
       "      <td>4.71</td>\n",
       "      <td>Male</td>\n",
       "      <td>No</td>\n",
       "      <td>Sun</td>\n",
       "      <td>Dinner</td>\n",
       "      <td>4</td>\n",
       "    </tr>\n",
       "    <tr>\n",
       "      <th>6</th>\n",
       "      <td>8.77</td>\n",
       "      <td>2.00</td>\n",
       "      <td>Male</td>\n",
       "      <td>No</td>\n",
       "      <td>Sun</td>\n",
       "      <td>Dinner</td>\n",
       "      <td>2</td>\n",
       "    </tr>\n",
       "    <tr>\n",
       "      <th>7</th>\n",
       "      <td>26.88</td>\n",
       "      <td>3.12</td>\n",
       "      <td>Male</td>\n",
       "      <td>No</td>\n",
       "      <td>Sun</td>\n",
       "      <td>Dinner</td>\n",
       "      <td>4</td>\n",
       "    </tr>\n",
       "    <tr>\n",
       "      <th>8</th>\n",
       "      <td>15.04</td>\n",
       "      <td>1.96</td>\n",
       "      <td>Male</td>\n",
       "      <td>No</td>\n",
       "      <td>Sun</td>\n",
       "      <td>Dinner</td>\n",
       "      <td>2</td>\n",
       "    </tr>\n",
       "    <tr>\n",
       "      <th>9</th>\n",
       "      <td>14.78</td>\n",
       "      <td>3.23</td>\n",
       "      <td>Male</td>\n",
       "      <td>No</td>\n",
       "      <td>Sun</td>\n",
       "      <td>Dinner</td>\n",
       "      <td>2</td>\n",
       "    </tr>\n",
       "    <tr>\n",
       "      <th>10</th>\n",
       "      <td>10.27</td>\n",
       "      <td>1.71</td>\n",
       "      <td>Male</td>\n",
       "      <td>No</td>\n",
       "      <td>Sun</td>\n",
       "      <td>Dinner</td>\n",
       "      <td>2</td>\n",
       "    </tr>\n",
       "    <tr>\n",
       "      <th>11</th>\n",
       "      <td>35.26</td>\n",
       "      <td>5.00</td>\n",
       "      <td>Female</td>\n",
       "      <td>No</td>\n",
       "      <td>Sun</td>\n",
       "      <td>Dinner</td>\n",
       "      <td>4</td>\n",
       "    </tr>\n",
       "    <tr>\n",
       "      <th>12</th>\n",
       "      <td>15.42</td>\n",
       "      <td>1.57</td>\n",
       "      <td>Male</td>\n",
       "      <td>No</td>\n",
       "      <td>Sun</td>\n",
       "      <td>Dinner</td>\n",
       "      <td>2</td>\n",
       "    </tr>\n",
       "  </tbody>\n",
       "</table>\n",
       "</div>"
      ],
      "text/plain": [
       "    total_bill   tip     sex smoker  day    time  size\n",
       "0        16.99  1.01  Female     No  Sun  Dinner     2\n",
       "1        10.34  1.66    Male     No  Sun  Dinner     3\n",
       "2        21.01  3.50    Male     No  Sun  Dinner     3\n",
       "3        23.68  3.31    Male     No  Sun  Dinner     2\n",
       "4        24.59  3.61  Female     No  Sun  Dinner     4\n",
       "5        25.29  4.71    Male     No  Sun  Dinner     4\n",
       "6         8.77  2.00    Male     No  Sun  Dinner     2\n",
       "7        26.88  3.12    Male     No  Sun  Dinner     4\n",
       "8        15.04  1.96    Male     No  Sun  Dinner     2\n",
       "9        14.78  3.23    Male     No  Sun  Dinner     2\n",
       "10       10.27  1.71    Male     No  Sun  Dinner     2\n",
       "11       35.26  5.00  Female     No  Sun  Dinner     4\n",
       "12       15.42  1.57    Male     No  Sun  Dinner     2"
      ]
     },
     "execution_count": 22,
     "metadata": {},
     "output_type": "execute_result"
    }
   ],
   "source": [
    "propinas.head(13)"
   ]
  },
  {
   "cell_type": "code",
   "execution_count": 23,
   "id": "6349bd78",
   "metadata": {},
   "outputs": [],
   "source": [
    "propinas['percent']= 100 * propinas['tip'] / propinas['total_bill']"
   ]
  },
  {
   "cell_type": "code",
   "execution_count": 24,
   "id": "c38bb655",
   "metadata": {},
   "outputs": [
    {
     "data": {
      "text/html": [
       "<div>\n",
       "<style scoped>\n",
       "    .dataframe tbody tr th:only-of-type {\n",
       "        vertical-align: middle;\n",
       "    }\n",
       "\n",
       "    .dataframe tbody tr th {\n",
       "        vertical-align: top;\n",
       "    }\n",
       "\n",
       "    .dataframe thead th {\n",
       "        text-align: right;\n",
       "    }\n",
       "</style>\n",
       "<table border=\"1\" class=\"dataframe\">\n",
       "  <thead>\n",
       "    <tr style=\"text-align: right;\">\n",
       "      <th></th>\n",
       "      <th>total_bill</th>\n",
       "      <th>tip</th>\n",
       "      <th>sex</th>\n",
       "      <th>smoker</th>\n",
       "      <th>day</th>\n",
       "      <th>time</th>\n",
       "      <th>size</th>\n",
       "      <th>percent</th>\n",
       "    </tr>\n",
       "  </thead>\n",
       "  <tbody>\n",
       "    <tr>\n",
       "      <th>0</th>\n",
       "      <td>16.99</td>\n",
       "      <td>1.01</td>\n",
       "      <td>Female</td>\n",
       "      <td>No</td>\n",
       "      <td>Sun</td>\n",
       "      <td>Dinner</td>\n",
       "      <td>2</td>\n",
       "      <td>5.944673</td>\n",
       "    </tr>\n",
       "    <tr>\n",
       "      <th>1</th>\n",
       "      <td>10.34</td>\n",
       "      <td>1.66</td>\n",
       "      <td>Male</td>\n",
       "      <td>No</td>\n",
       "      <td>Sun</td>\n",
       "      <td>Dinner</td>\n",
       "      <td>3</td>\n",
       "      <td>16.054159</td>\n",
       "    </tr>\n",
       "    <tr>\n",
       "      <th>2</th>\n",
       "      <td>21.01</td>\n",
       "      <td>3.50</td>\n",
       "      <td>Male</td>\n",
       "      <td>No</td>\n",
       "      <td>Sun</td>\n",
       "      <td>Dinner</td>\n",
       "      <td>3</td>\n",
       "      <td>16.658734</td>\n",
       "    </tr>\n",
       "    <tr>\n",
       "      <th>3</th>\n",
       "      <td>23.68</td>\n",
       "      <td>3.31</td>\n",
       "      <td>Male</td>\n",
       "      <td>No</td>\n",
       "      <td>Sun</td>\n",
       "      <td>Dinner</td>\n",
       "      <td>2</td>\n",
       "      <td>13.978041</td>\n",
       "    </tr>\n",
       "    <tr>\n",
       "      <th>4</th>\n",
       "      <td>24.59</td>\n",
       "      <td>3.61</td>\n",
       "      <td>Female</td>\n",
       "      <td>No</td>\n",
       "      <td>Sun</td>\n",
       "      <td>Dinner</td>\n",
       "      <td>4</td>\n",
       "      <td>14.680765</td>\n",
       "    </tr>\n",
       "    <tr>\n",
       "      <th>...</th>\n",
       "      <td>...</td>\n",
       "      <td>...</td>\n",
       "      <td>...</td>\n",
       "      <td>...</td>\n",
       "      <td>...</td>\n",
       "      <td>...</td>\n",
       "      <td>...</td>\n",
       "      <td>...</td>\n",
       "    </tr>\n",
       "    <tr>\n",
       "      <th>239</th>\n",
       "      <td>29.03</td>\n",
       "      <td>5.92</td>\n",
       "      <td>Male</td>\n",
       "      <td>No</td>\n",
       "      <td>Sat</td>\n",
       "      <td>Dinner</td>\n",
       "      <td>3</td>\n",
       "      <td>20.392697</td>\n",
       "    </tr>\n",
       "    <tr>\n",
       "      <th>240</th>\n",
       "      <td>27.18</td>\n",
       "      <td>2.00</td>\n",
       "      <td>Female</td>\n",
       "      <td>Yes</td>\n",
       "      <td>Sat</td>\n",
       "      <td>Dinner</td>\n",
       "      <td>2</td>\n",
       "      <td>7.358352</td>\n",
       "    </tr>\n",
       "    <tr>\n",
       "      <th>241</th>\n",
       "      <td>22.67</td>\n",
       "      <td>2.00</td>\n",
       "      <td>Male</td>\n",
       "      <td>Yes</td>\n",
       "      <td>Sat</td>\n",
       "      <td>Dinner</td>\n",
       "      <td>2</td>\n",
       "      <td>8.822232</td>\n",
       "    </tr>\n",
       "    <tr>\n",
       "      <th>242</th>\n",
       "      <td>17.82</td>\n",
       "      <td>1.75</td>\n",
       "      <td>Male</td>\n",
       "      <td>No</td>\n",
       "      <td>Sat</td>\n",
       "      <td>Dinner</td>\n",
       "      <td>2</td>\n",
       "      <td>9.820426</td>\n",
       "    </tr>\n",
       "    <tr>\n",
       "      <th>243</th>\n",
       "      <td>18.78</td>\n",
       "      <td>3.00</td>\n",
       "      <td>Female</td>\n",
       "      <td>No</td>\n",
       "      <td>Thur</td>\n",
       "      <td>Dinner</td>\n",
       "      <td>2</td>\n",
       "      <td>15.974441</td>\n",
       "    </tr>\n",
       "  </tbody>\n",
       "</table>\n",
       "<p>244 rows × 8 columns</p>\n",
       "</div>"
      ],
      "text/plain": [
       "     total_bill   tip     sex smoker   day    time  size    percent\n",
       "0         16.99  1.01  Female     No   Sun  Dinner     2   5.944673\n",
       "1         10.34  1.66    Male     No   Sun  Dinner     3  16.054159\n",
       "2         21.01  3.50    Male     No   Sun  Dinner     3  16.658734\n",
       "3         23.68  3.31    Male     No   Sun  Dinner     2  13.978041\n",
       "4         24.59  3.61  Female     No   Sun  Dinner     4  14.680765\n",
       "..          ...   ...     ...    ...   ...     ...   ...        ...\n",
       "239       29.03  5.92    Male     No   Sat  Dinner     3  20.392697\n",
       "240       27.18  2.00  Female    Yes   Sat  Dinner     2   7.358352\n",
       "241       22.67  2.00    Male    Yes   Sat  Dinner     2   8.822232\n",
       "242       17.82  1.75    Male     No   Sat  Dinner     2   9.820426\n",
       "243       18.78  3.00  Female     No  Thur  Dinner     2  15.974441\n",
       "\n",
       "[244 rows x 8 columns]"
      ]
     },
     "execution_count": 24,
     "metadata": {},
     "output_type": "execute_result"
    }
   ],
   "source": [
    "propinas"
   ]
  },
  {
   "cell_type": "code",
   "execution_count": 25,
   "id": "3a2fef72",
   "metadata": {},
   "outputs": [
    {
     "name": "stderr",
     "output_type": "stream",
     "text": [
      "/home/jack/.local/lib/python3.7/site-packages/seaborn/_decorators.py:43: FutureWarning: Pass the following variables as keyword args: x, y, data. From version 0.12, the only valid positional argument will be `data`, and passing other arguments without an explicit keyword will result in an error or misinterpretation.\n",
      "  FutureWarning\n"
     ]
    },
    {
     "data": {
      "text/plain": [
       "<seaborn.axisgrid.FacetGrid at 0x7fc98eb9a828>"
      ]
     },
     "execution_count": 25,
     "metadata": {},
     "output_type": "execute_result"
    },
    {
     "data": {
      "image/png": "[encoded data removed]",
      "text/plain": [
       "<Figure size 360x360 with 1 Axes>"
      ]
     },
     "metadata": {
      "needs_background": "light"
     },
     "output_type": "display_data"
    }
   ],
   "source": [
    "sns.lmplot('size', 'percent', propinas)"
   ]
  },
  {
   "cell_type": "code",
   "execution_count": 26,
   "id": "450465d3",
   "metadata": {},
   "outputs": [
    {
     "name": "stderr",
     "output_type": "stream",
     "text": [
      "/home/jack/.local/lib/python3.7/site-packages/seaborn/_decorators.py:43: FutureWarning: Pass the following variables as keyword args: x, y, data. From version 0.12, the only valid positional argument will be `data`, and passing other arguments without an explicit keyword will result in an error or misinterpretation.\n",
      "  FutureWarning\n"
     ]
    },
    {
     "data": {
      "text/plain": [
       "<seaborn.axisgrid.FacetGrid at 0x7fc98eb90780>"
      ]
     },
     "execution_count": 26,
     "metadata": {},
     "output_type": "execute_result"
    },
    {
     "data": {
      "image/png": "[encoded data removed]",
      "text/plain": [
       "<Figure size 432.125x360 with 1 Axes>"
      ]
     },
     "metadata": {
      "needs_background": "light"
     },
     "output_type": "display_data"
    }
   ],
   "source": [
    "sns.lmplot('total_bill', 'percent', propinas, hue='sex', markers=['x','o'])"
   ]
  },
  {
   "cell_type": "code",
   "execution_count": 27,
   "id": "be169e89",
   "metadata": {},
   "outputs": [
    {
     "name": "stderr",
     "output_type": "stream",
     "text": [
      "/home/jack/.local/lib/python3.7/site-packages/seaborn/_decorators.py:43: FutureWarning: Pass the following variables as keyword args: x, y, data. From version 0.12, the only valid positional argument will be `data`, and passing other arguments without an explicit keyword will result in an error or misinterpretation.\n",
      "  FutureWarning\n"
     ]
    },
    {
     "data": {
      "text/plain": [
       "<seaborn.axisgrid.FacetGrid at 0x7fc98ede5d30>"
      ]
     },
     "execution_count": 27,
     "metadata": {},
     "output_type": "execute_result"
    },
    {
     "data": {
      "image/png": "[encoded data removed]",
      "text/plain": [
       "<Figure size 418.875x360 with 1 Axes>"
      ]
     },
     "metadata": {
      "needs_background": "light"
     },
     "output_type": "display_data"
    }
   ],
   "source": [
    "sns.lmplot('total_bill', 'percent', propinas, hue='day')"
   ]
  },
  {
   "cell_type": "markdown",
   "id": "c5e7b00a",
   "metadata": {},
   "source": [
    "# Mapas de calor (heatmap)"
   ]
  },
  {
   "cell_type": "code",
   "execution_count": 28,
   "id": "7b3b1494",
   "metadata": {},
   "outputs": [],
   "source": [
    "# Un mapa de calor es una reprecesntación grafica de datos donde valores de una matriz se representan con colores"
   ]
  },
  {
   "cell_type": "code",
   "execution_count": 30,
   "id": "a2e8e163",
   "metadata": {},
   "outputs": [],
   "source": [
    "import pandas as pd\n",
    "import numpy as np\n",
    "import seaborn as sns\n",
    "%matplotlib inline"
   ]
  },
  {
   "cell_type": "code",
   "execution_count": 31,
   "id": "f6540622",
   "metadata": {},
   "outputs": [
    {
     "data": {
      "text/html": [
       "<div>\n",
       "<style scoped>\n",
       "    .dataframe tbody tr th:only-of-type {\n",
       "        vertical-align: middle;\n",
       "    }\n",
       "\n",
       "    .dataframe tbody tr th {\n",
       "        vertical-align: top;\n",
       "    }\n",
       "\n",
       "    .dataframe thead th {\n",
       "        text-align: right;\n",
       "    }\n",
       "</style>\n",
       "<table border=\"1\" class=\"dataframe\">\n",
       "  <thead>\n",
       "    <tr style=\"text-align: right;\">\n",
       "      <th></th>\n",
       "      <th>year</th>\n",
       "      <th>month</th>\n",
       "      <th>passengers</th>\n",
       "    </tr>\n",
       "  </thead>\n",
       "  <tbody>\n",
       "    <tr>\n",
       "      <th>0</th>\n",
       "      <td>1949</td>\n",
       "      <td>Jan</td>\n",
       "      <td>112</td>\n",
       "    </tr>\n",
       "    <tr>\n",
       "      <th>1</th>\n",
       "      <td>1949</td>\n",
       "      <td>Feb</td>\n",
       "      <td>118</td>\n",
       "    </tr>\n",
       "    <tr>\n",
       "      <th>2</th>\n",
       "      <td>1949</td>\n",
       "      <td>Mar</td>\n",
       "      <td>132</td>\n",
       "    </tr>\n",
       "    <tr>\n",
       "      <th>3</th>\n",
       "      <td>1949</td>\n",
       "      <td>Apr</td>\n",
       "      <td>129</td>\n",
       "    </tr>\n",
       "    <tr>\n",
       "      <th>4</th>\n",
       "      <td>1949</td>\n",
       "      <td>May</td>\n",
       "      <td>121</td>\n",
       "    </tr>\n",
       "    <tr>\n",
       "      <th>5</th>\n",
       "      <td>1949</td>\n",
       "      <td>Jun</td>\n",
       "      <td>135</td>\n",
       "    </tr>\n",
       "    <tr>\n",
       "      <th>6</th>\n",
       "      <td>1949</td>\n",
       "      <td>Jul</td>\n",
       "      <td>148</td>\n",
       "    </tr>\n",
       "    <tr>\n",
       "      <th>7</th>\n",
       "      <td>1949</td>\n",
       "      <td>Aug</td>\n",
       "      <td>148</td>\n",
       "    </tr>\n",
       "    <tr>\n",
       "      <th>8</th>\n",
       "      <td>1949</td>\n",
       "      <td>Sep</td>\n",
       "      <td>136</td>\n",
       "    </tr>\n",
       "    <tr>\n",
       "      <th>9</th>\n",
       "      <td>1949</td>\n",
       "      <td>Oct</td>\n",
       "      <td>119</td>\n",
       "    </tr>\n",
       "    <tr>\n",
       "      <th>10</th>\n",
       "      <td>1949</td>\n",
       "      <td>Nov</td>\n",
       "      <td>104</td>\n",
       "    </tr>\n",
       "    <tr>\n",
       "      <th>11</th>\n",
       "      <td>1949</td>\n",
       "      <td>Dec</td>\n",
       "      <td>118</td>\n",
       "    </tr>\n",
       "    <tr>\n",
       "      <th>12</th>\n",
       "      <td>1950</td>\n",
       "      <td>Jan</td>\n",
       "      <td>115</td>\n",
       "    </tr>\n",
       "  </tbody>\n",
       "</table>\n",
       "</div>"
      ],
      "text/plain": [
       "    year month  passengers\n",
       "0   1949   Jan         112\n",
       "1   1949   Feb         118\n",
       "2   1949   Mar         132\n",
       "3   1949   Apr         129\n",
       "4   1949   May         121\n",
       "5   1949   Jun         135\n",
       "6   1949   Jul         148\n",
       "7   1949   Aug         148\n",
       "8   1949   Sep         136\n",
       "9   1949   Oct         119\n",
       "10  1949   Nov         104\n",
       "11  1949   Dec         118\n",
       "12  1950   Jan         115"
      ]
     },
     "execution_count": 31,
     "metadata": {},
     "output_type": "execute_result"
    }
   ],
   "source": [
    "vuelos = sns.load_dataset('flights')\n",
    "vuelos.head(13)"
   ]
  },
  {
   "cell_type": "code",
   "execution_count": 32,
   "id": "ab4f1c17",
   "metadata": {},
   "outputs": [
    {
     "data": {
      "text/html": [
       "<div>\n",
       "<style scoped>\n",
       "    .dataframe tbody tr th:only-of-type {\n",
       "        vertical-align: middle;\n",
       "    }\n",
       "\n",
       "    .dataframe tbody tr th {\n",
       "        vertical-align: top;\n",
       "    }\n",
       "\n",
       "    .dataframe thead th {\n",
       "        text-align: right;\n",
       "    }\n",
       "</style>\n",
       "<table border=\"1\" class=\"dataframe\">\n",
       "  <thead>\n",
       "    <tr style=\"text-align: right;\">\n",
       "      <th>year</th>\n",
       "      <th>1949</th>\n",
       "      <th>1950</th>\n",
       "      <th>1951</th>\n",
       "      <th>1952</th>\n",
       "      <th>1953</th>\n",
       "      <th>1954</th>\n",
       "      <th>1955</th>\n",
       "      <th>1956</th>\n",
       "      <th>1957</th>\n",
       "      <th>1958</th>\n",
       "      <th>1959</th>\n",
       "      <th>1960</th>\n",
       "    </tr>\n",
       "    <tr>\n",
       "      <th>month</th>\n",
       "      <th></th>\n",
       "      <th></th>\n",
       "      <th></th>\n",
       "      <th></th>\n",
       "      <th></th>\n",
       "      <th></th>\n",
       "      <th></th>\n",
       "      <th></th>\n",
       "      <th></th>\n",
       "      <th></th>\n",
       "      <th></th>\n",
       "      <th></th>\n",
       "    </tr>\n",
       "  </thead>\n",
       "  <tbody>\n",
       "    <tr>\n",
       "      <th>Jan</th>\n",
       "      <td>112</td>\n",
       "      <td>115</td>\n",
       "      <td>145</td>\n",
       "      <td>171</td>\n",
       "      <td>196</td>\n",
       "      <td>204</td>\n",
       "      <td>242</td>\n",
       "      <td>284</td>\n",
       "      <td>315</td>\n",
       "      <td>340</td>\n",
       "      <td>360</td>\n",
       "      <td>417</td>\n",
       "    </tr>\n",
       "    <tr>\n",
       "      <th>Feb</th>\n",
       "      <td>118</td>\n",
       "      <td>126</td>\n",
       "      <td>150</td>\n",
       "      <td>180</td>\n",
       "      <td>196</td>\n",
       "      <td>188</td>\n",
       "      <td>233</td>\n",
       "      <td>277</td>\n",
       "      <td>301</td>\n",
       "      <td>318</td>\n",
       "      <td>342</td>\n",
       "      <td>391</td>\n",
       "    </tr>\n",
       "    <tr>\n",
       "      <th>Mar</th>\n",
       "      <td>132</td>\n",
       "      <td>141</td>\n",
       "      <td>178</td>\n",
       "      <td>193</td>\n",
       "      <td>236</td>\n",
       "      <td>235</td>\n",
       "      <td>267</td>\n",
       "      <td>317</td>\n",
       "      <td>356</td>\n",
       "      <td>362</td>\n",
       "      <td>406</td>\n",
       "      <td>419</td>\n",
       "    </tr>\n",
       "    <tr>\n",
       "      <th>Apr</th>\n",
       "      <td>129</td>\n",
       "      <td>135</td>\n",
       "      <td>163</td>\n",
       "      <td>181</td>\n",
       "      <td>235</td>\n",
       "      <td>227</td>\n",
       "      <td>269</td>\n",
       "      <td>313</td>\n",
       "      <td>348</td>\n",
       "      <td>348</td>\n",
       "      <td>396</td>\n",
       "      <td>461</td>\n",
       "    </tr>\n",
       "    <tr>\n",
       "      <th>May</th>\n",
       "      <td>121</td>\n",
       "      <td>125</td>\n",
       "      <td>172</td>\n",
       "      <td>183</td>\n",
       "      <td>229</td>\n",
       "      <td>234</td>\n",
       "      <td>270</td>\n",
       "      <td>318</td>\n",
       "      <td>355</td>\n",
       "      <td>363</td>\n",
       "      <td>420</td>\n",
       "      <td>472</td>\n",
       "    </tr>\n",
       "    <tr>\n",
       "      <th>Jun</th>\n",
       "      <td>135</td>\n",
       "      <td>149</td>\n",
       "      <td>178</td>\n",
       "      <td>218</td>\n",
       "      <td>243</td>\n",
       "      <td>264</td>\n",
       "      <td>315</td>\n",
       "      <td>374</td>\n",
       "      <td>422</td>\n",
       "      <td>435</td>\n",
       "      <td>472</td>\n",
       "      <td>535</td>\n",
       "    </tr>\n",
       "    <tr>\n",
       "      <th>Jul</th>\n",
       "      <td>148</td>\n",
       "      <td>170</td>\n",
       "      <td>199</td>\n",
       "      <td>230</td>\n",
       "      <td>264</td>\n",
       "      <td>302</td>\n",
       "      <td>364</td>\n",
       "      <td>413</td>\n",
       "      <td>465</td>\n",
       "      <td>491</td>\n",
       "      <td>548</td>\n",
       "      <td>622</td>\n",
       "    </tr>\n",
       "    <tr>\n",
       "      <th>Aug</th>\n",
       "      <td>148</td>\n",
       "      <td>170</td>\n",
       "      <td>199</td>\n",
       "      <td>242</td>\n",
       "      <td>272</td>\n",
       "      <td>293</td>\n",
       "      <td>347</td>\n",
       "      <td>405</td>\n",
       "      <td>467</td>\n",
       "      <td>505</td>\n",
       "      <td>559</td>\n",
       "      <td>606</td>\n",
       "    </tr>\n",
       "    <tr>\n",
       "      <th>Sep</th>\n",
       "      <td>136</td>\n",
       "      <td>158</td>\n",
       "      <td>184</td>\n",
       "      <td>209</td>\n",
       "      <td>237</td>\n",
       "      <td>259</td>\n",
       "      <td>312</td>\n",
       "      <td>355</td>\n",
       "      <td>404</td>\n",
       "      <td>404</td>\n",
       "      <td>463</td>\n",
       "      <td>508</td>\n",
       "    </tr>\n",
       "    <tr>\n",
       "      <th>Oct</th>\n",
       "      <td>119</td>\n",
       "      <td>133</td>\n",
       "      <td>162</td>\n",
       "      <td>191</td>\n",
       "      <td>211</td>\n",
       "      <td>229</td>\n",
       "      <td>274</td>\n",
       "      <td>306</td>\n",
       "      <td>347</td>\n",
       "      <td>359</td>\n",
       "      <td>407</td>\n",
       "      <td>461</td>\n",
       "    </tr>\n",
       "    <tr>\n",
       "      <th>Nov</th>\n",
       "      <td>104</td>\n",
       "      <td>114</td>\n",
       "      <td>146</td>\n",
       "      <td>172</td>\n",
       "      <td>180</td>\n",
       "      <td>203</td>\n",
       "      <td>237</td>\n",
       "      <td>271</td>\n",
       "      <td>305</td>\n",
       "      <td>310</td>\n",
       "      <td>362</td>\n",
       "      <td>390</td>\n",
       "    </tr>\n",
       "    <tr>\n",
       "      <th>Dec</th>\n",
       "      <td>118</td>\n",
       "      <td>140</td>\n",
       "      <td>166</td>\n",
       "      <td>194</td>\n",
       "      <td>201</td>\n",
       "      <td>229</td>\n",
       "      <td>278</td>\n",
       "      <td>306</td>\n",
       "      <td>336</td>\n",
       "      <td>337</td>\n",
       "      <td>405</td>\n",
       "      <td>432</td>\n",
       "    </tr>\n",
       "  </tbody>\n",
       "</table>\n",
       "</div>"
      ],
      "text/plain": [
       "year   1949  1950  1951  1952  1953  1954  1955  1956  1957  1958  1959  1960\n",
       "month                                                                        \n",
       "Jan     112   115   145   171   196   204   242   284   315   340   360   417\n",
       "Feb     118   126   150   180   196   188   233   277   301   318   342   391\n",
       "Mar     132   141   178   193   236   235   267   317   356   362   406   419\n",
       "Apr     129   135   163   181   235   227   269   313   348   348   396   461\n",
       "May     121   125   172   183   229   234   270   318   355   363   420   472\n",
       "Jun     135   149   178   218   243   264   315   374   422   435   472   535\n",
       "Jul     148   170   199   230   264   302   364   413   465   491   548   622\n",
       "Aug     148   170   199   242   272   293   347   405   467   505   559   606\n",
       "Sep     136   158   184   209   237   259   312   355   404   404   463   508\n",
       "Oct     119   133   162   191   211   229   274   306   347   359   407   461\n",
       "Nov     104   114   146   172   180   203   237   271   305   310   362   390\n",
       "Dec     118   140   166   194   201   229   278   306   336   337   405   432"
      ]
     },
     "execution_count": 32,
     "metadata": {},
     "output_type": "execute_result"
    }
   ],
   "source": [
    "# primero combertir los datos en un array\n",
    "vuelos = vuelos.pivot('month', 'year', 'passengers')\n",
    "vuelos"
   ]
  },
  {
   "cell_type": "code",
   "execution_count": 33,
   "id": "829d6682",
   "metadata": {},
   "outputs": [
    {
     "data": {
      "text/plain": [
       "<AxesSubplot:xlabel='year', ylabel='month'>"
      ]
     },
     "execution_count": 33,
     "metadata": {},
     "output_type": "execute_result"
    },
    {
     "data": {
      "image/png": "[encoded data removed]",
      "text/plain": [
       "<Figure size 432x288 with 2 Axes>"
      ]
     },
     "metadata": {
      "needs_background": "light"
     },
     "output_type": "display_data"
    }
   ],
   "source": [
    "sns.heatmap(vuelos)"
   ]
  },
  {
   "cell_type": "code",
   "execution_count": 34,
   "id": "76bee7de",
   "metadata": {},
   "outputs": [
    {
     "data": {
      "text/plain": [
       "<AxesSubplot:xlabel='year', ylabel='month'>"
      ]
     },
     "execution_count": 34,
     "metadata": {},
     "output_type": "execute_result"
    },
    {
     "data": {
      "image/png": "[encoded data removed]",
      "text/plain": [
       "<Figure size 432x288 with 2 Axes>"
      ]
     },
     "metadata": {
      "needs_background": "light"
     },
     "output_type": "display_data"
    }
   ],
   "source": [
    "sns.heatmap(vuelos, annot=True, fmt='d')"
   ]
  },
  {
   "cell_type": "code",
   "execution_count": 37,
   "id": "979c49a5",
   "metadata": {},
   "outputs": [
    {
     "data": {
      "text/plain": [
       "318"
      ]
     },
     "execution_count": 37,
     "metadata": {},
     "output_type": "execute_result"
    }
   ],
   "source": [
    "valorCentral = vuelos.loc['May'][1956]\n",
    "valorCentral"
   ]
  },
  {
   "cell_type": "code",
   "execution_count": 41,
   "id": "1f38dd9a",
   "metadata": {},
   "outputs": [
    {
     "data": {
      "text/plain": [
       "<AxesSubplot:xlabel='year', ylabel='month'>"
      ]
     },
     "execution_count": 41,
     "metadata": {},
     "output_type": "execute_result"
    },
    {
     "data": {
      "image/png": "[encoded data removed]",
      "text/plain": [
       "<Figure size 432x288 with 2 Axes>"
      ]
     },
     "metadata": {
      "needs_background": "light"
     },
     "output_type": "display_data"
    }
   ],
   "source": [
    "sns.heatmap(vuelos, center=valorCentral, annot=True, fmt='d')"
   ]
  },
  {
   "cell_type": "code",
   "execution_count": 43,
   "id": "a285e81c",
   "metadata": {},
   "outputs": [
    {
     "data": {
      "text/plain": [
       "<AxesSubplot:xlabel='year', ylabel='month'>"
      ]
     },
     "execution_count": 43,
     "metadata": {},
     "output_type": "execute_result"
    },
    {
     "data": {
      "image/png": "[encoded data removed]",
      "text/plain": [
       "<Figure size 432x288 with 2 Axes>"
      ]
     },
     "metadata": {
      "needs_background": "light"
     },
     "output_type": "display_data"
    }
   ],
   "source": [
    "# cambiar la posición de la barra\n",
    "sns.heatmap(vuelos, center=valorCentral, annot=True, fmt='d', cbar_kws={'orientation':'horizontal'})"
   ]
  },
  {
   "cell_type": "markdown",
   "id": "bf9d16e6",
   "metadata": {},
   "source": [
    "# Ejercicio 1"
   ]
  },
  {
   "cell_type": "code",
   "execution_count": 67,
   "id": "31442ad3",
   "metadata": {},
   "outputs": [],
   "source": [
    "import numpy as np\n",
    "import matplotlib.pyplot as plt\n",
    "import seaborn as sns\n",
    "%matplotlib inline"
   ]
  },
  {
   "cell_type": "code",
   "execution_count": 68,
   "id": "5f868e62",
   "metadata": {},
   "outputs": [
    {
     "data": {
      "text/plain": [
       "array([ 2.60343290e-01,  9.76785946e-03, -6.25240503e-01, -1.39587035e+00,\n",
       "        9.96577222e-01,  3.86430417e-01,  1.91808431e+00,  1.20142540e+00,\n",
       "        1.24975567e+00,  1.67132147e+00, -2.18428987e+00, -6.25167584e-01,\n",
       "        1.56722284e+00,  5.40946050e-01,  5.09726714e-01, -2.06794948e+00,\n",
       "        1.04899554e+00, -1.36055036e-02, -2.87001031e-01, -3.88430544e-01,\n",
       "       -8.70133920e-01,  9.34338915e-01,  1.21466218e+00, -2.82852900e-01,\n",
       "       -3.24446042e-01,  2.20257204e-01, -6.44189776e-01, -3.03169287e-02,\n",
       "       -1.78220867e+00,  2.31779821e+00, -5.67157232e-01,  8.82528001e-02,\n",
       "       -4.45281284e-01, -1.72371157e+00,  3.33048713e-02, -2.48476166e-02,\n",
       "       -1.60173518e+00,  1.82224560e+00, -1.57425505e-01,  3.44299862e-01,\n",
       "        5.19859019e-01, -9.58458310e-01,  4.84929383e-02,  1.36422239e+00,\n",
       "       -2.28891620e-01, -9.70996118e-02,  9.50178379e-01, -1.04665674e+00,\n",
       "       -3.87161774e-01,  4.56117674e-01,  1.41018498e-02,  1.84702092e+00,\n",
       "        5.75870841e-01,  8.15605410e-01,  7.28869201e-01,  3.80197371e-01,\n",
       "        5.51187262e-01,  1.24199636e+00,  1.25373113e+00, -2.37927609e-01,\n",
       "       -1.55907345e-01,  1.76797732e+00, -1.67906957e+00,  5.50890917e-01,\n",
       "       -2.20967934e-01, -1.24720374e+00,  1.76658207e+00, -2.93768349e-01,\n",
       "        3.38988645e-02,  1.66789541e-01,  1.13213589e+00,  8.85736135e-01,\n",
       "       -1.86362555e+00, -2.55393703e-01,  3.18727906e-01, -5.76067261e-01,\n",
       "        9.67820111e-01,  2.91945044e-01, -3.56324011e-01, -4.50865211e-01,\n",
       "        3.56532209e-01,  6.78095018e-01,  1.02524943e-01, -1.28616139e+00,\n",
       "       -7.66928875e-02,  1.96515708e+00,  2.51602099e-01, -7.61696739e-02,\n",
       "        5.60308966e-01,  5.03890894e-01,  2.19307140e-01,  2.54267427e+00,\n",
       "        1.96002035e+00,  8.64268239e-01,  9.42003668e-01,  1.50541868e+00,\n",
       "       -1.62962217e+00,  7.18424907e-01,  1.02395141e+00, -2.78972984e-01,\n",
       "        7.10847889e-01, -8.13633085e-01, -5.74052697e-01, -7.47178648e-01,\n",
       "        1.33382788e+00,  2.23713190e-01, -1.16207210e+00, -6.03824442e-01,\n",
       "        2.59914470e-01, -5.47610092e-01,  4.28361594e-01, -6.42066165e-01,\n",
       "        6.20326394e-01, -1.04028084e+00,  8.75912041e-01, -1.07924380e+00,\n",
       "       -5.04551645e-01,  4.17932076e-01,  9.05846101e-01,  3.95794895e-01,\n",
       "       -1.15627494e+00,  3.39425839e-02, -1.19965368e+00, -2.42254817e-01,\n",
       "        8.07786852e-01,  5.82454306e-01, -3.86795601e-01,  1.34003923e+00,\n",
       "        1.07748637e+00,  1.46128511e+00, -1.49207404e+00,  1.05068097e+00,\n",
       "        2.03927880e+00,  5.70015008e-01,  1.01256468e+00,  2.08336854e+00,\n",
       "        7.16117810e-01, -1.09374399e-01,  1.07835713e-01,  1.82935189e-01,\n",
       "       -4.84715898e-01, -1.36405934e-01, -1.49250986e+00, -1.65476329e+00,\n",
       "        1.70434991e-01, -9.60648536e-01,  1.13264692e+00,  1.16317693e-01,\n",
       "       -1.14115624e-02, -5.31560284e-01,  2.59931142e-01,  2.13429581e-01,\n",
       "       -1.05190085e+00,  1.33362936e-01, -3.57959178e-01, -1.00669422e+00,\n",
       "        1.54002208e+00,  9.77766525e-01,  2.60294270e-01,  1.82905609e-01,\n",
       "        1.72168310e+00,  5.82450737e-01,  8.25967126e-01,  4.14742131e-01,\n",
       "        3.41058685e-01,  1.60446787e+00, -1.66194990e+00,  1.10276934e-01,\n",
       "       -7.86369976e-01,  1.50352759e+00,  8.72810393e-01, -2.59396524e-01,\n",
       "       -3.50438144e-01,  3.78058055e-01, -7.86677774e-01,  6.62256788e-01,\n",
       "       -1.73322440e+00,  1.56607978e+00, -4.17337441e-01, -9.77696872e-02,\n",
       "        2.14880256e-01,  3.12582771e-01, -2.47040899e+00, -4.91403207e-01,\n",
       "       -1.19326015e+00, -1.12175976e+00, -1.67110223e+00,  5.00573103e-01,\n",
       "       -1.08918844e+00, -8.35791974e-01, -6.79101147e-01, -4.90302092e-01,\n",
       "       -9.04810119e-01,  3.89081438e-01, -8.45131122e-01,  6.72425523e-01,\n",
       "       -1.01228671e+00, -1.65888393e+00, -1.10637843e-01, -7.36844216e-01,\n",
       "        6.22465239e-01,  3.05748950e+00,  4.38751312e-01, -1.18105623e+00,\n",
       "       -9.51349486e-01,  1.12786715e-01, -1.39878283e+00,  7.52927072e-01,\n",
       "        2.00759532e-01, -5.56708185e-01,  8.69981204e-01, -1.57348554e+00,\n",
       "        7.53035738e-01,  8.19003628e-01,  1.35036539e+00,  9.04416773e-01,\n",
       "       -6.98903557e-01, -7.42340675e-01,  2.45054565e+00, -8.84482328e-01,\n",
       "       -8.28406831e-02, -9.83627388e-01, -1.49522948e+00, -6.84882718e-01,\n",
       "        5.81925999e-01,  1.29644793e+00,  4.33455416e-01,  2.37036558e+00,\n",
       "       -1.39720979e+00,  1.50001330e-01, -2.52892243e-01, -1.75110407e-01,\n",
       "        2.24962739e+00, -1.50054376e+00, -7.48621267e-01,  4.90789052e-01,\n",
       "        3.26684860e-01, -1.30563924e+00,  8.41525191e-01,  1.51047220e+00,\n",
       "       -9.31022095e-02,  5.59308481e-01,  2.50561451e+00,  7.78449094e-01,\n",
       "        2.43209042e-01,  1.57742280e+00, -1.22856336e+00, -9.42675978e-01,\n",
       "       -1.16393446e+00,  4.95756853e-01,  1.83709322e-01, -1.60280113e-01,\n",
       "        1.78252345e+00,  1.23747390e+00, -2.05572966e-01,  2.98881152e-01,\n",
       "        1.29225145e+00, -4.46994202e-01,  1.39308027e-01,  1.82449666e+00,\n",
       "        1.30280289e+00,  3.85448098e-02, -1.82266655e+00, -6.15534122e-01,\n",
       "        1.86749910e+00, -1.88290579e-02,  2.58488252e+00,  1.60025196e-01,\n",
       "        7.74655548e-01, -2.36016007e+00, -1.93961133e+00, -6.57421723e-01,\n",
       "        6.82549468e-03,  1.81449590e-01, -6.95483822e-01, -9.94055581e-01,\n",
       "       -9.43174369e-01,  1.43799613e+00,  2.60170946e-01,  3.25427300e-01,\n",
       "        1.65368195e+00,  1.18509461e+00, -9.80145956e-02, -1.21980129e+00,\n",
       "        8.74743770e-01,  8.28888663e-01,  4.29956794e-01,  6.08176765e-01,\n",
       "        5.70389026e-01,  1.86181890e+00,  1.28696843e-01, -2.15424522e-01,\n",
       "        1.96216304e-01, -2.36612008e+00,  5.01067058e-02,  1.27816564e+00,\n",
       "       -8.00901511e-01,  1.53714980e+00, -5.46197107e-01,  1.44636868e+00,\n",
       "       -1.51960264e-01, -1.55291943e+00,  1.61031060e-01,  3.96191474e-01,\n",
       "        6.46392114e-01, -5.73966062e-01,  1.08189936e+00, -1.16105991e+00,\n",
       "        2.00874246e+00, -4.16175115e-01, -6.54433622e-01,  2.61542068e-01,\n",
       "       -6.84901930e-01, -3.67879732e-01,  1.97744039e-01,  2.14215823e+00,\n",
       "       -9.49749148e-01,  1.24628081e-01,  5.44844086e-02, -3.34009801e-01,\n",
       "        1.35041387e+00,  7.65585185e-01, -1.39052185e-01,  2.32567639e-01,\n",
       "       -1.86230810e-01,  1.64310136e-01, -4.07836621e-01, -1.05015616e+00,\n",
       "        8.04556827e-01,  1.18245943e-01, -7.70026608e-01,  9.19057111e-01,\n",
       "        1.66907462e-01, -1.56481383e+00,  1.37747942e+00, -1.04417652e+00,\n",
       "       -1.29075025e-01,  1.27386069e+00, -4.07166457e-01,  1.03063834e+00,\n",
       "        7.39353125e-01,  3.29670748e-01, -2.99524181e+00, -5.03055934e-01,\n",
       "       -3.21265870e+00, -2.81204666e-01,  2.01834614e+00, -8.05873547e-01,\n",
       "        2.39892723e+00, -1.11417054e+00, -3.22080119e-01,  8.28334531e-01,\n",
       "       -7.67083940e-01, -2.79063749e-01, -6.93214825e-01,  7.03898591e-03,\n",
       "       -2.50928482e+00,  1.14504313e-01, -7.57336347e-01, -4.07552704e-01,\n",
       "       -5.95194289e-01,  9.28499136e-02,  1.01929339e+00,  6.30373413e-01,\n",
       "        5.93384088e-02, -9.26514589e-01,  9.55079001e-01, -3.92591018e-01,\n",
       "        7.38384638e-01, -9.90139896e-01, -3.52331721e-01, -3.08758859e-01,\n",
       "       -3.78385098e-02, -8.37256068e-01, -4.76634677e-02, -6.07126144e-01,\n",
       "        5.76347039e-01,  3.81262845e-01,  2.52119147e+00, -1.19652987e+00,\n",
       "        7.92843898e-01, -8.22642487e-01, -3.12820247e-01, -1.42739509e-02,\n",
       "        6.43318544e-01, -7.17746724e-01,  5.50040538e-01,  1.01238871e+00,\n",
       "        1.74549372e+00,  1.28163947e+00,  4.70404396e-02,  6.70018251e-01,\n",
       "        9.19924971e-01, -6.97670286e-02,  6.05283662e-01, -1.17473128e+00,\n",
       "        1.65014325e-01,  7.20984544e-02,  3.69074194e-01,  7.99787504e-01,\n",
       "       -1.15533209e+00, -9.50356797e-01,  1.00339517e+00, -9.90715153e-01,\n",
       "       -3.15978136e-01, -2.01250087e+00, -5.59659465e-02, -1.75135305e-01,\n",
       "       -1.75069630e+00, -3.99456281e-01,  1.49909606e-01, -5.67427604e-01,\n",
       "       -6.45443925e-02, -1.23409505e+00, -1.36593119e-01,  3.30171830e-01,\n",
       "        2.24460528e-01,  3.22845161e-01,  6.26418855e-01,  1.58737805e-01,\n",
       "        1.72451710e+00, -1.24073546e+00,  1.24020015e+00,  9.69174856e-01,\n",
       "        2.02711348e-01, -1.31063466e+00,  3.12693145e-01, -6.01287467e-01,\n",
       "        1.67370630e+00,  2.09511849e+00,  2.62438785e-02,  9.71309011e-01,\n",
       "       -5.85491050e-01,  1.54564690e+00, -3.94714341e-01,  5.98279095e-01,\n",
       "        7.23290061e-01, -8.68411577e-01, -1.79375938e+00,  4.65089779e-01,\n",
       "       -8.35403878e-01, -1.61728606e+00,  2.76822138e+00, -7.50947168e-01,\n",
       "        1.51873670e+00,  6.32831416e-01, -2.01291760e+00,  6.03467010e-01,\n",
       "        2.59952590e-01, -1.87682553e+00, -1.30059571e+00,  6.26342391e-03,\n",
       "        3.90364421e-02, -4.45224460e-01, -3.13064853e-01, -1.85809380e-01,\n",
       "       -5.99401842e-01, -4.13652029e-01, -7.01481237e-03, -5.34560502e-01,\n",
       "        2.55729030e-01,  8.50406682e-01,  4.36703865e-02, -4.78161047e-01,\n",
       "        4.68940315e-01,  7.82670881e-01,  8.70634045e-01, -1.80817890e-01,\n",
       "       -8.64711201e-01, -1.26733331e+00,  1.48328430e+00,  5.90663934e-01,\n",
       "       -8.73038412e-01,  8.08643449e-01,  1.40246992e+00,  3.36845978e-01,\n",
       "       -1.28224200e+00, -8.44288082e-01,  6.45569126e-01,  2.70767552e-01,\n",
       "        1.42780632e+00, -1.49299929e+00, -1.66796698e+00,  5.26491416e-02,\n",
       "       -1.10821941e-01, -3.12715685e-01,  4.73819212e-01, -1.05430155e+00,\n",
       "       -1.95772472e+00,  9.28896541e-01,  4.45944509e-01,  1.92647858e+00,\n",
       "       -3.11565564e-01,  1.03529680e+00, -2.21284976e+00, -1.42301525e+00,\n",
       "       -1.70041888e-01,  1.12412173e+00,  1.28535577e+00, -2.51927567e+00,\n",
       "       -2.73765548e-01, -9.32476564e-02, -2.28286281e+00,  9.89123624e-01,\n",
       "       -1.25279563e+00,  1.15259237e+00,  2.67915526e-01, -1.57649418e+00,\n",
       "       -9.44912196e-01,  1.15978278e+00,  8.62844175e-01, -3.88384391e-01,\n",
       "       -9.94606024e-01,  7.52600836e-01,  7.59457304e-01, -3.30145121e-01,\n",
       "        1.21192637e+00, -3.26549793e-01, -6.40178220e-01, -2.46235298e+00,\n",
       "       -4.66642543e-01, -1.22792422e+00, -9.11201769e-01,  9.01015674e-02,\n",
       "        3.30839491e-01, -2.36125445e-01,  6.71037582e-01,  2.78919198e-01,\n",
       "       -1.15686187e-01,  1.15442945e+00,  1.28181479e+00,  2.77590716e+00,\n",
       "        4.15634550e-01,  7.59441923e-02,  5.27165235e-01,  7.46575004e-01,\n",
       "       -2.40410312e-01, -6.65274069e-01, -1.08219558e+00, -3.09280018e-01,\n",
       "       -5.57404051e-01,  6.28173220e-01, -9.49571073e-01,  9.78815942e-01,\n",
       "        7.41099275e-01,  1.50970280e+00, -1.10785749e-01, -5.38249904e-04,\n",
       "       -7.80097543e-01, -1.87678925e+00, -9.55236043e-01,  4.28943971e-01,\n",
       "       -5.98005865e-01,  1.62871329e+00, -5.30657239e-01, -5.30058794e-01,\n",
       "       -1.35271178e-01,  1.63397452e-01, -3.55038445e-01,  7.86249916e-01,\n",
       "       -5.81377146e-01,  7.82131771e-01,  1.96085234e-01,  7.94564629e-01,\n",
       "       -2.12173785e+00, -1.87848198e+00,  1.54281697e-01,  1.31202927e-01,\n",
       "       -1.46071888e+00,  6.84419607e-01,  1.38377838e+00, -6.41271311e-01,\n",
       "       -1.36504207e+00, -2.76509486e-01, -4.02484642e-01, -1.08855388e+00,\n",
       "       -1.50798223e+00,  2.37428486e+00, -1.10780931e+00, -1.07867007e+00,\n",
       "        7.99134489e-01, -4.59216759e-01, -7.44009126e-01,  8.25287297e-01,\n",
       "        6.87740897e-01,  2.42708822e+00,  1.66621560e+00,  8.06457052e-02,\n",
       "       -3.55442651e-01,  4.73119406e-01,  6.56872104e-01, -9.77816510e-01,\n",
       "       -1.97429371e-02,  5.00033266e-01, -6.87145371e-01,  5.88260890e-03,\n",
       "        3.52171205e-01, -1.12201158e+00, -1.22792596e+00, -1.44413203e+00,\n",
       "        3.14127016e-01, -7.10957865e-01, -1.33661901e+00,  8.80708673e-01,\n",
       "        7.73961134e-01,  9.08531991e-02,  1.34797009e-01,  1.19686191e+00,\n",
       "        7.39238636e-01,  1.21966969e+00,  3.25308415e-01,  1.46905783e+00,\n",
       "        1.64080135e+00, -1.61011591e+00, -8.47936724e-01, -2.94840490e-01,\n",
       "       -8.97963287e-01,  6.94970537e-02, -1.21351523e-01, -3.05952885e-01,\n",
       "        1.72031585e+00, -4.48366437e-01, -3.24081410e-01, -5.41667891e-01,\n",
       "        7.14801284e-01,  1.05523110e+00, -3.31484523e-01, -1.40353515e-01,\n",
       "        4.02294098e-01,  2.15356238e-01,  7.91944936e-01, -2.98231389e-01,\n",
       "       -1.85196585e+00,  6.50061786e-01, -1.91406692e+00, -1.95656972e+00,\n",
       "       -9.09522492e-01,  1.89365031e-01,  1.33023360e+00, -5.77160737e-01,\n",
       "       -8.85433004e-01,  2.40732402e-01, -1.82141124e+00, -5.45645327e-01,\n",
       "        3.46317211e-01,  1.43306598e-01,  1.07261915e+00, -1.53529827e+00,\n",
       "       -8.54099936e-01, -1.15669319e+00,  1.22414140e+00,  8.25677058e-01,\n",
       "        1.15760962e+00,  1.07669434e+00, -1.36625042e+00, -1.02135945e+00,\n",
       "        2.84413001e-01,  5.63095918e-01, -1.96971513e-01,  1.92392510e-01,\n",
       "       -1.80543159e+00, -2.95991341e-01, -3.67666250e-01, -5.99526455e-01,\n",
       "       -5.09964234e-01,  4.81923320e-01, -1.06117080e+00, -3.30574670e-01,\n",
       "       -2.48320254e-01,  5.08518554e-01, -1.64109587e-01, -5.09792498e-01,\n",
       "        8.68455308e-01,  3.31259005e-01, -1.37481039e+00,  1.61979263e+00,\n",
       "       -3.68267025e-01, -3.64425873e-01, -9.33311142e-01, -1.08274615e-01,\n",
       "       -2.02591358e-01,  4.48449295e-01, -8.13226698e-01,  9.40471693e-01,\n",
       "       -6.79295281e-01, -3.82628918e-01,  1.23118282e+00, -9.04356823e-01,\n",
       "        1.82546779e+00,  4.30705574e-01, -6.68457380e-01, -1.01316142e+00,\n",
       "        1.96846630e+00,  1.37795041e+00, -7.75571418e-01, -2.71996152e-01,\n",
       "       -1.27614976e+00, -7.36047810e-02,  1.83082706e-01,  9.09880012e-01,\n",
       "        8.69152608e-01, -2.07911368e-01,  1.99328973e-01, -4.37672387e-01,\n",
       "       -2.69422387e-01, -9.68002318e-01, -3.78483843e-01, -1.51680375e+00,\n",
       "        2.12187325e-01,  1.00801504e+00,  1.43318491e+00, -4.92669109e-02,\n",
       "        7.93246226e-01, -3.20189565e-01,  1.11365509e+00,  1.07921674e+00,\n",
       "       -3.17017253e-01,  1.26196273e+00, -2.45649057e-01, -4.90769966e-01,\n",
       "       -4.61142194e-02,  3.92967440e-01, -5.78638657e-01, -7.49031069e-01,\n",
       "        4.59655536e-01, -7.81537653e-01, -5.08182854e-01, -5.26371087e-02,\n",
       "        2.34335774e-01, -1.77407247e-01, -7.13465979e-01,  1.33448253e+00,\n",
       "        2.76416598e-01,  1.06945457e+00,  1.22875603e+00, -9.69755229e-01,\n",
       "        3.09145377e-01,  4.02363499e-02, -1.78011472e+00, -5.25434611e-01,\n",
       "       -1.24437538e+00,  1.62008034e+00,  3.23116524e-01,  1.85398745e+00,\n",
       "       -8.54137172e-01,  5.34890270e-02,  1.57548958e+00,  8.18447384e-01,\n",
       "       -1.48859447e-01, -3.27468390e-01, -2.23957980e+00, -1.35140239e+00,\n",
       "        4.22225622e-01,  1.13353329e+00, -3.86965499e-01,  6.15525953e-01,\n",
       "       -1.71487392e-01,  1.60928440e+00, -5.62531366e-01,  1.35151762e+00,\n",
       "       -1.19128646e+00,  6.50681592e-01, -1.91636758e-01,  1.84563714e+00,\n",
       "        1.47384122e+00, -4.77346160e-01,  7.37909951e-01, -2.20851184e-01,\n",
       "       -4.42852311e-01, -7.99707956e-01,  2.21932661e-01, -1.96032234e+00,\n",
       "       -2.12423392e-01,  1.60144143e-01,  8.72653984e-01, -7.58157988e-01,\n",
       "       -5.98334727e-01, -1.50319837e-01, -2.78244677e-01,  2.11648420e+00,\n",
       "       -1.10512228e-01,  7.23615319e-01, -7.05429825e-01,  2.22507750e-01,\n",
       "        1.69902002e-01,  2.24745102e-02,  7.31007061e-01,  3.52817228e-01,\n",
       "        8.63302599e-01, -4.61970547e-02, -6.34837553e-01,  1.33582772e-01,\n",
       "        1.43283944e+00,  2.02995048e-01, -1.64126247e+00, -4.08577760e-02,\n",
       "        6.57881210e-01, -5.77884112e-01, -2.29713269e-01, -1.34492536e+00,\n",
       "        1.15055777e+00, -8.34588588e-01, -8.61530961e-01, -7.88890806e-01,\n",
       "        1.76975020e+00,  3.54439322e-01, -1.16442594e+00,  2.99565495e-01,\n",
       "       -1.47330067e-01, -5.03077388e-01,  8.91103706e-01,  8.30658000e-01,\n",
       "       -1.24602204e-01,  2.51325040e-01, -1.57753369e+00,  4.18785462e-01,\n",
       "        5.28937121e-01,  9.56110658e-01,  1.26303641e+00, -8.63781195e-01,\n",
       "        1.63427754e+00, -1.12466069e+00, -3.03900838e-01,  2.00048061e+00,\n",
       "       -2.41197942e+00, -1.22398769e+00, -3.85977783e-01, -1.74187732e+00,\n",
       "       -3.67092490e-01, -1.28113116e+00,  3.59878843e-01,  2.79407756e+00,\n",
       "        6.34354506e-01, -8.97331135e-01,  6.48731450e-02, -4.22993546e-01,\n",
       "        1.74734703e-01, -1.09990044e+00,  6.06556872e-01,  8.81869211e-01,\n",
       "        1.54194713e+00,  2.93353127e-01,  4.20266553e-01, -1.30732964e+00,\n",
       "       -6.35004321e-01,  8.51053831e-01,  1.45857519e+00,  6.39974944e-01,\n",
       "       -3.45166796e-01, -1.10486437e+00, -6.77966995e-01, -6.64857824e-01,\n",
       "       -1.47239965e-01,  1.88079614e+00, -7.23913423e-01, -8.41661114e-01,\n",
       "       -1.58412142e+00,  9.45721322e-01, -1.16409264e+00, -6.10555945e-01,\n",
       "       -6.82042381e-02, -1.39867800e+00, -8.75384922e-01,  1.63529944e+00,\n",
       "       -1.66717791e-01,  1.55800972e+00, -1.06509337e-01,  1.62329425e+00,\n",
       "       -3.68798452e-01, -3.09556102e-01,  2.73216414e+00, -1.66952594e-01,\n",
       "       -4.54729347e-01, -1.42997226e+00,  1.41269255e-01, -2.10200741e-01,\n",
       "       -3.47694916e-01, -9.16768520e-01,  1.50817367e+00,  4.42457521e-01,\n",
       "        1.42899425e-01,  5.13221590e-01, -1.77620201e+00,  3.70800577e-01,\n",
       "       -1.73727396e+00, -8.38966792e-01, -1.32619263e+00,  6.76096848e-01,\n",
       "       -1.00587833e+00,  1.53351773e+00,  9.74954440e-01,  1.23841203e+00,\n",
       "       -2.61797348e+00,  1.80800641e+00,  7.40204746e-01,  1.18727780e+00,\n",
       "       -2.32648469e+00, -6.64802322e-01, -1.30466025e+00, -3.34077111e-01,\n",
       "       -1.04163994e+00,  7.07888375e-01, -8.50081133e-01, -2.43688147e+00,\n",
       "       -6.41493018e-01,  1.67640310e+00,  2.04106422e-01,  3.07777766e-01,\n",
       "       -6.55018360e-01, -3.74900061e-01, -1.03085632e+00, -4.36416693e-01,\n",
       "       -9.79435809e-01,  1.05086512e+00, -5.01328853e-01,  9.87311410e-01,\n",
       "        2.21918513e-01, -5.02275907e-01, -1.93526101e-01,  2.52391988e-01,\n",
       "        1.60562891e+00,  1.61426937e-01, -7.09109916e-01,  2.09042567e+00,\n",
       "        5.40325409e-01,  3.26881433e-01,  1.41256665e+00, -7.73191112e-01,\n",
       "        8.78035017e-01,  5.81059605e-01, -6.47147648e-01,  2.63997935e-01,\n",
       "        1.63213127e+00,  2.70040751e-01,  2.05825356e+00, -2.03064825e-02,\n",
       "       -9.72121939e-02,  2.71591995e+00,  4.97321289e-02, -6.87631074e-01,\n",
       "       -1.10470974e+00, -3.65199578e-01, -2.57053237e-01,  3.88630186e-02,\n",
       "        1.03205591e+00,  1.17626795e+00, -1.29185020e+00,  7.33512583e-01,\n",
       "       -9.33287196e-01, -1.52285309e+00, -1.36771617e+00,  8.39594225e-02,\n",
       "        3.20107452e-01, -2.24742118e+00, -4.79862368e-01, -8.21890579e-01,\n",
       "       -1.25789171e+00,  1.11134111e+00,  1.74680635e-01,  1.46163801e+00,\n",
       "        1.10429785e+00, -2.51392694e+00,  7.17600622e-01,  3.34842278e-01,\n",
       "        1.41863708e-01, -3.63999350e-01, -3.04836686e-02,  2.51452931e+00,\n",
       "       -1.01851285e+00,  3.61850912e-01,  1.83510591e+00, -4.94510585e-01,\n",
       "        4.44133444e-01, -5.65500554e-01,  1.41236524e-01, -4.48206344e-01,\n",
       "       -1.13972319e+00,  1.11479954e+00, -1.11830010e+00,  1.04122078e-01,\n",
       "       -1.27253050e+00, -6.58221636e-01,  1.22814368e+00, -8.25416488e-01,\n",
       "        1.54293949e-01, -4.66385547e-01, -6.52039902e-01, -2.05873184e+00,\n",
       "       -1.17246507e+00, -6.58560559e-01, -5.34969892e-01,  1.68335027e-01,\n",
       "        5.33318151e-01, -6.66541457e-01,  1.64030021e-01,  1.20798311e+00,\n",
       "        8.65185013e-01, -3.31389324e-01, -3.01890508e-01,  1.33678329e+00])"
      ]
     },
     "execution_count": 68,
     "metadata": {},
     "output_type": "execute_result"
    }
   ],
   "source": [
    "datos = np.random.randn(1000)\n",
    "datos"
   ]
  },
  {
   "cell_type": "code",
   "execution_count": 72,
   "id": "e48727e5",
   "metadata": {},
   "outputs": [
    {
     "data": {
      "image/png": "[encoded data removed]",
      "text/plain": [
       "<Figure size 432x288 with 1 Axes>"
      ]
     },
     "metadata": {
      "needs_background": "light"
     },
     "output_type": "display_data"
    }
   ],
   "source": [
    "plt.hist(datos)\n",
    "plt.show()\n"
   ]
  },
  {
   "cell_type": "code",
   "execution_count": 74,
   "id": "69491f04",
   "metadata": {},
   "outputs": [
    {
     "name": "stderr",
     "output_type": "stream",
     "text": [
      "/home/jack/.local/lib/python3.7/site-packages/seaborn/_decorators.py:43: FutureWarning: Pass the following variable as a keyword arg: x. From version 0.12, the only valid positional argument will be `data`, and passing other arguments without an explicit keyword will result in an error or misinterpretation.\n",
      "  FutureWarning\n"
     ]
    },
    {
     "data": {
      "text/plain": [
       "<AxesSubplot:>"
      ]
     },
     "execution_count": 74,
     "metadata": {},
     "output_type": "execute_result"
    },
    {
     "data": {
      "image/png": "[encoded data removed]",
      "text/plain": [
       "<Figure size 432x288 with 1 Axes>"
      ]
     },
     "metadata": {
      "needs_background": "light"
     },
     "output_type": "display_data"
    }
   ],
   "source": [
    "sns.boxplot(datos)"
   ]
  },
  {
   "cell_type": "markdown",
   "id": "27b32e1f",
   "metadata": {},
   "source": [
    "# Ejercicio 2"
   ]
  },
  {
   "cell_type": "code",
   "execution_count": 75,
   "id": "b25ecc03",
   "metadata": {},
   "outputs": [],
   "source": [
    "# Crear un array con 100 nnumeros enteros aleatorios con valores compendidos entre 0 y 500\n",
    "# Utiliza un diagrama de caja para representar los larores aleatorios generados\n",
    "import numpy as np\n",
    "import seaborn as sns\n",
    "%matplotlib inline"
   ]
  },
  {
   "cell_type": "code",
   "execution_count": 76,
   "id": "7e7670a2",
   "metadata": {},
   "outputs": [
    {
     "data": {
      "text/plain": [
       "array([421, 379, 407, 378,  93, 227, 464,  59,  51, 421, 411, 389, 217,\n",
       "       167, 370, 319, 216, 274, 241,  44, 291, 491,  66,  14,  96, 323,\n",
       "        13, 366, 391, 464, 442,  54,  55, 123,  39,  71, 441, 379, 248,\n",
       "       363, 369,  56, 317,   6, 307, 120,  20,  49, 390, 242,   8, 189,\n",
       "       356,   1, 106, 126, 396, 465, 314, 469, 324, 382, 491,  69, 156,\n",
       "        38, 402,   9, 346, 176, 317,  86, 235, 326,   6, 492, 250, 223,\n",
       "       362, 236, 469,  19,  51,  63, 266,  21, 165, 327,  93, 470, 337,\n",
       "       100, 107,  29,  37,  27, 268,  25, 199, 191])"
      ]
     },
     "execution_count": 76,
     "metadata": {},
     "output_type": "execute_result"
    }
   ],
   "source": [
    "data = np.random.randint(0, 500, 100)\n",
    "data"
   ]
  },
  {
   "cell_type": "code",
   "execution_count": 80,
   "id": "aaac6575",
   "metadata": {},
   "outputs": [
    {
     "name": "stderr",
     "output_type": "stream",
     "text": [
      "/home/jack/.local/lib/python3.7/site-packages/seaborn/_decorators.py:43: FutureWarning: Pass the following variable as a keyword arg: x. From version 0.12, the only valid positional argument will be `data`, and passing other arguments without an explicit keyword will result in an error or misinterpretation.\n",
      "  FutureWarning\n"
     ]
    },
    {
     "data": {
      "image/png": "[encoded data removed]",
      "text/plain": [
       "<Figure size 432x288 with 1 Axes>"
      ]
     },
     "metadata": {
      "needs_background": "light"
     },
     "output_type": "display_data"
    }
   ],
   "source": [
    "sns.boxplot(data)\n",
    "plt.show()"
   ]
  },
  {
   "cell_type": "code",
   "execution_count": null,
   "id": "adab112a",
   "metadata": {},
   "outputs": [],
   "source": []
  }
 ],
 "metadata": {
  "kernelspec": {
   "display_name": "Python 3 (ipykernel)",
   "language": "python",
   "name": "python3"
  },
  "language_info": {
   "codemirror_mode": {
    "name": "ipython",
    "version": 3
   },
   "file_extension": ".py",
   "mimetype": "text/x-python",
   "name": "python",
   "nbconvert_exporter": "python",
   "pygments_lexer": "ipython3",
   "version": "3.7.3"
  }
 },
 "nbformat": 4,
 "nbformat_minor": 5
}
